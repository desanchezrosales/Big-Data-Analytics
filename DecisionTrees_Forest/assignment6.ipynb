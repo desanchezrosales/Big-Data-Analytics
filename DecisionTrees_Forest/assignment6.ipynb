{
 "cells": [
  {
   "cell_type": "markdown",
   "metadata": {
    "colab_type": "text",
    "id": "aDzC6RcatdQO"
   },
   "source": [
    "# Assignment 6\n",
    "In this assignment, I would like you to develop a random forest to classify the MNIST dataset.  Here are the basic requirements:\n",
    "1.  This is a multi-class problem: the random forest should classify all 10 digits.\n",
    "2.   As we did with the pulsar data, I want you to use k-fold validation, as well as the error curve, to determine the optimal depth for the trees used in the forest.\n",
    "3.  I want you to look at feature performance.   In the case of MNIST, the features are the pixels.   I would like you to determine the ranked importance of all of the pixels, and then make a heatmap (using plotly) along the lines of the plot in the book (Chapter 7, figure 7-6).\n",
    "\n",
    "This assignment is essentially a combination of parts of the \"multiclassV2.ipynb\" workbook, as well as the \"forest_mtru2.ipynb\" workbook. \n",
    "\n",
    "Use the structure below to craft your solution."
   ]
  },
  {
   "cell_type": "markdown",
   "metadata": {},
   "source": [
    "# Some Useful Methods"
   ]
  },
  {
   "cell_type": "code",
   "execution_count": 1,
   "metadata": {},
   "outputs": [
    {
     "data": {
      "text/html": [
       "<script type=\"text/javascript\">window.PlotlyConfig = {MathJaxConfig: 'local'};</script><script type=\"text/javascript\">if (window.MathJax) {MathJax.Hub.Config({SVG: {font: \"STIX-Web\"}});}</script><script>requirejs.config({paths: { 'plotly': ['https://cdn.plot.ly/plotly-latest.min']},});if(!window._Plotly) {require(['plotly'],function(plotly) {window._Plotly=plotly;});}</script>"
      ],
      "text/vnd.plotly.v1+html": [
       "<script type=\"text/javascript\">window.PlotlyConfig = {MathJaxConfig: 'local'};</script><script type=\"text/javascript\">if (window.MathJax) {MathJax.Hub.Config({SVG: {font: \"STIX-Web\"}});}</script><script>requirejs.config({paths: { 'plotly': ['https://cdn.plot.ly/plotly-latest.min']},});if(!window._Plotly) {require(['plotly'],function(plotly) {window._Plotly=plotly;});}</script>"
      ]
     },
     "metadata": {},
     "output_type": "display_data"
    }
   ],
   "source": [
    "from collections import defaultdict\n",
    "from functools import partial\n",
    "from itertools import repeat\n",
    "def nested_defaultdict(default_factory, depth=1):\n",
    "    result = partial(defaultdict, default_factory)\n",
    "    for _ in repeat(None, depth - 1):\n",
    "        result = partial(defaultdict, result)\n",
    "    return result()\n",
    "\n",
    "from plotly.offline import init_notebook_mode\n",
    "init_notebook_mode(connected = True)\n",
    "%matplotlib inline\n",
    "\n",
    "\n",
    "def getDecisionTreeGraphic(estimator,feature_names,class_names):\n",
    "  from sklearn import tree\n",
    "  from io import StringIO\n",
    "  import pydot_ng as pydot \n",
    "  import graphviz\n",
    "  import matplotlib.pyplot as plt\n",
    "\n",
    "  dot_data = StringIO()\n",
    "\n",
    "  #                         class_names=classColumn,\n",
    "  out = tree.export_graphviz(estimator,out_file=None,\n",
    "                           feature_names=feature_names,\n",
    "                           class_names=class_names,\n",
    "                           filled=True, rounded=True,\n",
    "                           special_characters=True,\n",
    "                            node_ids=1,)\n",
    "  import pydotplus\n",
    "  pydot_graph = pydotplus.graph_from_dot_data(out)\n",
    "  pydot_graph.set_size('\"7,7!\"')\n",
    "  #print(pydot_graph.getvalue())\n",
    "  #graph = graphviz.Source( out)\n",
    "  graph = graphviz.Source(pydot_graph.to_string())\n",
    "  return graph"
   ]
  },
  {
   "cell_type": "markdown",
   "metadata": {
    "colab_type": "text",
    "id": "MaKlGDN1t3LY"
   },
   "source": [
    "## Get the data"
   ]
  },
  {
   "cell_type": "code",
   "execution_count": 16,
   "metadata": {
    "colab": {},
    "colab_type": "code",
    "id": "N38J0jI-v98V"
   },
   "outputs": [
    {
     "name": "stdout",
     "output_type": "stream",
     "text": [
      "Processing digit  0\n",
      "Processing digit  1\n",
      "Processing digit  2\n",
      "Processing digit  3\n",
      "Processing digit  4\n",
      "Processing digit  5\n",
      "Processing digit  6\n",
      "Processing digit  7\n",
      "Processing digit  8\n",
      "Processing digit  9\n",
      "Length of sample:      70000\n"
     ]
    }
   ],
   "source": [
    "import pandas as pd\n",
    "#\n",
    "# Define our \"signal\" digit\n",
    "short = \"\"\n",
    "#short = \"short_\"\n",
    "\n",
    "#\n",
    "# Read in all of the other digits\n",
    "dfCombined = pd.DataFrame()\n",
    "for digit in range(10):\n",
    "    print(\"Processing digit \",digit)\n",
    "    fname = '/fs/scratch/PAS1585/ch3/digit_' + short + str(digit) + '.csv'\n",
    "    df = pd.read_csv(fname,header=None)\n",
    "    df['digit'] = digit\n",
    "    dfCombined = pd.concat([dfCombined, df])\n",
    "\n",
    "print(\"Length of sample:     \",len(dfCombined))\n"
   ]
  },
  {
   "cell_type": "code",
   "execution_count": 3,
   "metadata": {},
   "outputs": [
    {
     "data": {
      "text/html": [
       "<div>\n",
       "<style scoped>\n",
       "    .dataframe tbody tr th:only-of-type {\n",
       "        vertical-align: middle;\n",
       "    }\n",
       "\n",
       "    .dataframe tbody tr th {\n",
       "        vertical-align: top;\n",
       "    }\n",
       "\n",
       "    .dataframe thead th {\n",
       "        text-align: right;\n",
       "    }\n",
       "</style>\n",
       "<table border=\"1\" class=\"dataframe\">\n",
       "  <thead>\n",
       "    <tr style=\"text-align: right;\">\n",
       "      <th></th>\n",
       "      <th>0</th>\n",
       "      <th>1</th>\n",
       "      <th>2</th>\n",
       "      <th>3</th>\n",
       "      <th>4</th>\n",
       "      <th>5</th>\n",
       "      <th>6</th>\n",
       "      <th>7</th>\n",
       "      <th>8</th>\n",
       "      <th>9</th>\n",
       "      <th>...</th>\n",
       "      <th>775</th>\n",
       "      <th>776</th>\n",
       "      <th>777</th>\n",
       "      <th>778</th>\n",
       "      <th>779</th>\n",
       "      <th>780</th>\n",
       "      <th>781</th>\n",
       "      <th>782</th>\n",
       "      <th>783</th>\n",
       "      <th>digit</th>\n",
       "    </tr>\n",
       "  </thead>\n",
       "  <tbody>\n",
       "    <tr>\n",
       "      <th>0</th>\n",
       "      <td>0</td>\n",
       "      <td>0</td>\n",
       "      <td>0</td>\n",
       "      <td>0</td>\n",
       "      <td>0</td>\n",
       "      <td>0</td>\n",
       "      <td>0</td>\n",
       "      <td>0</td>\n",
       "      <td>0</td>\n",
       "      <td>0</td>\n",
       "      <td>...</td>\n",
       "      <td>0</td>\n",
       "      <td>0</td>\n",
       "      <td>0</td>\n",
       "      <td>0</td>\n",
       "      <td>0</td>\n",
       "      <td>0</td>\n",
       "      <td>0</td>\n",
       "      <td>0</td>\n",
       "      <td>0</td>\n",
       "      <td>0</td>\n",
       "    </tr>\n",
       "    <tr>\n",
       "      <th>1</th>\n",
       "      <td>0</td>\n",
       "      <td>0</td>\n",
       "      <td>0</td>\n",
       "      <td>0</td>\n",
       "      <td>0</td>\n",
       "      <td>0</td>\n",
       "      <td>0</td>\n",
       "      <td>0</td>\n",
       "      <td>0</td>\n",
       "      <td>0</td>\n",
       "      <td>...</td>\n",
       "      <td>0</td>\n",
       "      <td>0</td>\n",
       "      <td>0</td>\n",
       "      <td>0</td>\n",
       "      <td>0</td>\n",
       "      <td>0</td>\n",
       "      <td>0</td>\n",
       "      <td>0</td>\n",
       "      <td>0</td>\n",
       "      <td>0</td>\n",
       "    </tr>\n",
       "    <tr>\n",
       "      <th>2</th>\n",
       "      <td>0</td>\n",
       "      <td>0</td>\n",
       "      <td>0</td>\n",
       "      <td>0</td>\n",
       "      <td>0</td>\n",
       "      <td>0</td>\n",
       "      <td>0</td>\n",
       "      <td>0</td>\n",
       "      <td>0</td>\n",
       "      <td>0</td>\n",
       "      <td>...</td>\n",
       "      <td>0</td>\n",
       "      <td>0</td>\n",
       "      <td>0</td>\n",
       "      <td>0</td>\n",
       "      <td>0</td>\n",
       "      <td>0</td>\n",
       "      <td>0</td>\n",
       "      <td>0</td>\n",
       "      <td>0</td>\n",
       "      <td>0</td>\n",
       "    </tr>\n",
       "    <tr>\n",
       "      <th>3</th>\n",
       "      <td>0</td>\n",
       "      <td>0</td>\n",
       "      <td>0</td>\n",
       "      <td>0</td>\n",
       "      <td>0</td>\n",
       "      <td>0</td>\n",
       "      <td>0</td>\n",
       "      <td>0</td>\n",
       "      <td>0</td>\n",
       "      <td>0</td>\n",
       "      <td>...</td>\n",
       "      <td>0</td>\n",
       "      <td>0</td>\n",
       "      <td>0</td>\n",
       "      <td>0</td>\n",
       "      <td>0</td>\n",
       "      <td>0</td>\n",
       "      <td>0</td>\n",
       "      <td>0</td>\n",
       "      <td>0</td>\n",
       "      <td>0</td>\n",
       "    </tr>\n",
       "    <tr>\n",
       "      <th>4</th>\n",
       "      <td>0</td>\n",
       "      <td>0</td>\n",
       "      <td>0</td>\n",
       "      <td>0</td>\n",
       "      <td>0</td>\n",
       "      <td>0</td>\n",
       "      <td>0</td>\n",
       "      <td>0</td>\n",
       "      <td>0</td>\n",
       "      <td>0</td>\n",
       "      <td>...</td>\n",
       "      <td>0</td>\n",
       "      <td>0</td>\n",
       "      <td>0</td>\n",
       "      <td>0</td>\n",
       "      <td>0</td>\n",
       "      <td>0</td>\n",
       "      <td>0</td>\n",
       "      <td>0</td>\n",
       "      <td>0</td>\n",
       "      <td>0</td>\n",
       "    </tr>\n",
       "  </tbody>\n",
       "</table>\n",
       "<p>5 rows × 785 columns</p>\n",
       "</div>"
      ],
      "text/plain": [
       "   0  1  2  3  4  5  6  7  8  9  ...    775  776  777  778  779  780  781  \\\n",
       "0  0  0  0  0  0  0  0  0  0  0  ...      0    0    0    0    0    0    0   \n",
       "1  0  0  0  0  0  0  0  0  0  0  ...      0    0    0    0    0    0    0   \n",
       "2  0  0  0  0  0  0  0  0  0  0  ...      0    0    0    0    0    0    0   \n",
       "3  0  0  0  0  0  0  0  0  0  0  ...      0    0    0    0    0    0    0   \n",
       "4  0  0  0  0  0  0  0  0  0  0  ...      0    0    0    0    0    0    0   \n",
       "\n",
       "   782  783  digit  \n",
       "0    0    0      0  \n",
       "1    0    0      0  \n",
       "2    0    0      0  \n",
       "3    0    0      0  \n",
       "4    0    0      0  \n",
       "\n",
       "[5 rows x 785 columns]"
      ]
     },
     "execution_count": 3,
     "metadata": {},
     "output_type": "execute_result"
    }
   ],
   "source": [
    "dfCombined.head()"
   ]
  },
  {
   "cell_type": "markdown",
   "metadata": {
    "colab_type": "text",
    "id": "Kngl5zZQt5zN"
   },
   "source": [
    "## The Performance Method.\n",
    "Get this from the multiclassV2 workbook.   Remember that the multiclass performance method does not return AUC as a performance metric.   I suggest using \"macro accuracy\"."
   ]
  },
  {
   "cell_type": "code",
   "execution_count": 4,
   "metadata": {
    "colab": {},
    "colab_type": "code",
    "id": "9qq62d0xwBK1"
   },
   "outputs": [],
   "source": [
    "# Determine the performance\n",
    "def multiPerformance(y,y_pred,y_score):\n",
    "\n",
    "# Make our matrix\n",
    "    confusionMatrix = nested_defaultdict(int,2)\n",
    "    classes = set()\n",
    "    totalTrue = defaultdict(int)\n",
    "    totalPred = defaultdict(int)\n",
    "\n",
    "    for i in range(len(y_pred)):\n",
    "        trueClass = y[i]\n",
    "        classes.add(trueClass)\n",
    "        predClass = y_pred[i]\n",
    "        totalTrue[trueClass] += 1\n",
    "        totalPred[predClass] += 1\n",
    "        confusionMatrix[trueClass][predClass] += 1\n",
    "        \n",
    "    recall = 0\n",
    "    precision = 0\n",
    "    auc = 0\n",
    "    \n",
    "    for trueClass in classes:\n",
    "        \n",
    "        TP = confusionMatrix[trueClass][trueClass]\n",
    "        \n",
    "        for predClass in classes:\n",
    "            \n",
    "            if predClass != trueClass:\n",
    "                \n",
    "                FP = confusionMatrix[predClass][trueClass]\n",
    "                FN = confusionMatrix[trueClass][predClass]\n",
    "                TN = confusionMatrix[predClass][predClass]\n",
    "        \n",
    "        \n",
    "        recall += TP / (TP + FN)\n",
    "        precision += TP / (TP + FP)\n",
    "        \n",
    "    RecallMacro = recall/len(classes)\n",
    "    PrecisionMacro = precision/len(classes)\n",
    "        \n",
    "    results = {\"confusionMatrix\":confusionMatrix,\"RecallMacro\":RecallMacro,\"PrecisionMacro\":PrecisionMacro}\n",
    "\n",
    "        \n",
    "    return results"
   ]
  },
  {
   "cell_type": "markdown",
   "metadata": {
    "colab_type": "text",
    "id": "7apzF2MZuOQP"
   },
   "source": [
    "## The Runfitter Method\n",
    "Get this from the multiclassV2 notebook."
   ]
  },
  {
   "cell_type": "code",
   "execution_count": 5,
   "metadata": {
    "colab": {},
    "colab_type": "code",
    "id": "QOkRh3g8wCqp"
   },
   "outputs": [],
   "source": [
    "def runFitter(estimator,X_train,y_train,X_test,y_test):\n",
    "#\n",
    "# Now fit to our training set\n",
    "  estimator.fit(X_train,y_train)\n",
    "#\n",
    "# Now predict the classes and get the score for our traing set\n",
    "  y_train_pred = estimator.predict(X_train)\n",
    "  y_train_score = estimator.predict_proba(X_train)[:,1]   # NOTE: some estimators have a predict_prob method instead od descision_function\n",
    "#\n",
    "# Now predict the classes and get the score for our test set\n",
    "  y_test_pred = estimator.predict(X_test)\n",
    "  y_test_score = estimator.predict_proba(X_test)[:,1]\n",
    "\n",
    "#\n",
    "# Now get the performaance\n",
    "  results_test = multiPerformance(y_test,y_test_pred,y_test_score)\n",
    "  results_train = multiPerformance(y_train,y_train_pred,y_train_score)\n",
    "#\n",
    "# Decide what you want to return: for now, just precision, recall, and auc for both test and train\n",
    "  results = {\n",
    "      'recall_test':results_test['RecallMacro'],\n",
    "      'precision_test':results_test['PrecisionMacro'],\n",
    "      'recall_train':results_train['RecallMacro'],\n",
    "      'precision_train':results_train['PrecisionMacro'],\n",
    "}\n",
    "\n",
    "  return results\n",
    "  "
   ]
  },
  {
   "cell_type": "markdown",
   "metadata": {
    "colab_type": "text",
    "id": "0uiwclYZuKcW"
   },
   "source": [
    "## Prepare the data\n",
    "Remember that the features (X) are the first 784 columns, and the labels (y) are given by the \"digit\" column."
   ]
  },
  {
   "cell_type": "code",
   "execution_count": 6,
   "metadata": {
    "colab": {},
    "colab_type": "code",
    "id": "5Pn-LlTgwX0x"
   },
   "outputs": [
    {
     "name": "stderr",
     "output_type": "stream",
     "text": [
      "/apps/project/ondemand/python/3.6-conda5.2/lib/python3.6/site-packages/ipykernel_launcher.py:4: FutureWarning:\n",
      "\n",
      "Method .as_matrix will be removed in a future version. Use .values instead.\n",
      "\n"
     ]
    }
   ],
   "source": [
    "from sklearn.utils import shuffle\n",
    "dfCombinedShuffle = shuffle(dfCombined,random_state=42)    # by setting the random state we will get reproducible results\n",
    "\n",
    "X = dfCombinedShuffle.as_matrix(columns=dfCombinedShuffle.columns[:784])\n",
    "y = dfCombinedShuffle['digit'].values"
   ]
  },
  {
   "cell_type": "code",
   "execution_count": null,
   "metadata": {},
   "outputs": [],
   "source": []
  },
  {
   "cell_type": "code",
   "execution_count": null,
   "metadata": {},
   "outputs": [],
   "source": []
  },
  {
   "cell_type": "markdown",
   "metadata": {
    "colab_type": "text",
    "id": "cFvP2GHDwjET"
   },
   "source": [
    "## Run the fitter once\n",
    "Use a reasonable set of parameters for the forest estimator: for example, n_estimators=100, max_depth=5.  The perform one run of k-fold validation to see what sort of accuracy you get.   An average macro accuracy of 86% on the test set is reasonable with these parameters."
   ]
  },
  {
   "cell_type": "code",
   "execution_count": 7,
   "metadata": {
    "colab": {},
    "colab_type": "code",
    "id": "gSllKaJhxC8L"
   },
   "outputs": [],
   "source": [
    "from sklearn.model_selection import StratifiedKFold\n",
    "kfolds = 5\n",
    "skf = StratifiedKFold(n_splits=kfolds)"
   ]
  },
  {
   "cell_type": "code",
   "execution_count": 8,
   "metadata": {
    "scrolled": false
   },
   "outputs": [
    {
     "name": "stdout",
     "output_type": "stream",
     "text": [
      "Precision train/test  0.985 0.984\n",
      "Recall train/test     0.977 0.974\n"
     ]
    }
   ],
   "source": [
    "from sklearn.ensemble import RandomForestClassifier\n",
    "estimator = RandomForestClassifier(n_estimators=100, max_depth=6,random_state=42)\n",
    "\n",
    "avg_precision_train = 0.0\n",
    "avg_recall_train = 0.0\n",
    "avg_auc_train = 0.0\n",
    "avg_precision_test = 0.0\n",
    "avg_recall_test = 0.0\n",
    "avg_auc_test = 0.0\n",
    "numSplits = 0.0\n",
    "#\n",
    "# Now loop\n",
    "for train_index, test_index in skf.split(X, y):\n",
    "  numSplits += 1\n",
    "  X_train = X[train_index]\n",
    "  y_train = y[train_index]\n",
    "  X_test = X[test_index]\n",
    "  y_test = y[test_index]\n",
    "  \n",
    "#\n",
    "# Now fit to our training set\n",
    "  results = runFitter(estimator,X_train,y_train,X_test,y_test)\n",
    "\n",
    "  avg_precision_train += results['precision_train']\n",
    "  avg_recall_train += results['recall_train']\n",
    "\n",
    "#\n",
    "  avg_precision_test += results['precision_test']\n",
    "  avg_recall_test += results['recall_test']\n",
    "#\n",
    "avg_precision_train /= numSplits\n",
    "avg_recall_train /= numSplits\n",
    "\n",
    "avg_precision_test /= numSplits\n",
    "avg_recall_test /= numSplits\n",
    "# \n",
    "# Now print\n",
    "print(\"Precision train/test \",round(avg_precision_train,3),round(avg_precision_test,3))\n",
    "print(\"Recall train/test    \",round(avg_recall_train,3),round(avg_recall_test,3))"
   ]
  },
  {
   "cell_type": "markdown",
   "metadata": {
    "colab_type": "text",
    "id": "ArlCTtBuxHqy"
   },
   "source": [
    "## Finding the Optimal max_depth\n",
    "Here you want to loop from max_depth=2 to 22.   You could do this in increments of 2 (2,4,6,8..,20,22) to save time.   Save the performance (macro_accuracy) at each max_depth."
   ]
  },
  {
   "cell_type": "code",
   "execution_count": 9,
   "metadata": {
    "colab": {},
    "colab_type": "code",
    "id": "CqgL4MFxxfW7"
   },
   "outputs": [
    {
     "name": "stdout",
     "output_type": "stream",
     "text": [
      "training with max depth = 2\n",
      "training with max depth = 4\n",
      "training with max depth = 6\n",
      "training with max depth = 8\n",
      "training with max depth = 10\n",
      "training with max depth = 12\n",
      "training with max depth = 14\n",
      "training with max depth = 16\n",
      "training with max depth = 18\n",
      "training with max depth = 20\n",
      "training with max depth = 22\n"
     ]
    },
    {
     "data": {
      "text/html": [
       "<div>\n",
       "<style scoped>\n",
       "    .dataframe tbody tr th:only-of-type {\n",
       "        vertical-align: middle;\n",
       "    }\n",
       "\n",
       "    .dataframe tbody tr th {\n",
       "        vertical-align: top;\n",
       "    }\n",
       "\n",
       "    .dataframe thead th {\n",
       "        text-align: right;\n",
       "    }\n",
       "</style>\n",
       "<table border=\"1\" class=\"dataframe\">\n",
       "  <thead>\n",
       "    <tr style=\"text-align: right;\">\n",
       "      <th></th>\n",
       "      <th>max_depth</th>\n",
       "      <th>trainError_pre</th>\n",
       "      <th>testError_pre</th>\n",
       "      <th>trainError_rec</th>\n",
       "      <th>testError_rec</th>\n",
       "      <th>testError_auc</th>\n",
       "      <th>trainError_auc</th>\n",
       "    </tr>\n",
       "  </thead>\n",
       "  <tbody>\n",
       "    <tr>\n",
       "      <th>0</th>\n",
       "      <td>2.0</td>\n",
       "      <td>0.055485</td>\n",
       "      <td>0.057466</td>\n",
       "      <td>0.053665</td>\n",
       "      <td>0.052935</td>\n",
       "      <td>1.0</td>\n",
       "      <td>1.0</td>\n",
       "    </tr>\n",
       "    <tr>\n",
       "      <th>1</th>\n",
       "      <td>4.0</td>\n",
       "      <td>0.026425</td>\n",
       "      <td>0.026934</td>\n",
       "      <td>0.037615</td>\n",
       "      <td>0.039121</td>\n",
       "      <td>1.0</td>\n",
       "      <td>1.0</td>\n",
       "    </tr>\n",
       "    <tr>\n",
       "      <th>2</th>\n",
       "      <td>6.0</td>\n",
       "      <td>0.014504</td>\n",
       "      <td>0.016216</td>\n",
       "      <td>0.023167</td>\n",
       "      <td>0.026335</td>\n",
       "      <td>1.0</td>\n",
       "      <td>1.0</td>\n",
       "    </tr>\n",
       "    <tr>\n",
       "      <th>3</th>\n",
       "      <td>8.0</td>\n",
       "      <td>0.007445</td>\n",
       "      <td>0.011882</td>\n",
       "      <td>0.011737</td>\n",
       "      <td>0.019032</td>\n",
       "      <td>1.0</td>\n",
       "      <td>1.0</td>\n",
       "    </tr>\n",
       "    <tr>\n",
       "      <th>4</th>\n",
       "      <td>10.0</td>\n",
       "      <td>0.002779</td>\n",
       "      <td>0.009398</td>\n",
       "      <td>0.003945</td>\n",
       "      <td>0.014756</td>\n",
       "      <td>1.0</td>\n",
       "      <td>1.0</td>\n",
       "    </tr>\n",
       "  </tbody>\n",
       "</table>\n",
       "</div>"
      ],
      "text/plain": [
       "   max_depth  trainError_pre  testError_pre  trainError_rec  testError_rec  \\\n",
       "0        2.0        0.055485       0.057466        0.053665       0.052935   \n",
       "1        4.0        0.026425       0.026934        0.037615       0.039121   \n",
       "2        6.0        0.014504       0.016216        0.023167       0.026335   \n",
       "3        8.0        0.007445       0.011882        0.011737       0.019032   \n",
       "4       10.0        0.002779       0.009398        0.003945       0.014756   \n",
       "\n",
       "   testError_auc  trainError_auc  \n",
       "0            1.0             1.0  \n",
       "1            1.0             1.0  \n",
       "2            1.0             1.0  \n",
       "3            1.0             1.0  \n",
       "4            1.0             1.0  "
      ]
     },
     "execution_count": 9,
     "metadata": {},
     "output_type": "execute_result"
    }
   ],
   "source": [
    "#\n",
    "# Get our estimator and predict\n",
    "from sklearn.ensemble import RandomForestClassifier\n",
    "import pandas as pd\n",
    "#\n",
    "# Create a dataframe to store our results\n",
    "dfError = pd.DataFrame(columns=['max_depth','trainError_pre','testError_pre',\n",
    "                                    'trainError_rec','testError_rec'])\n",
    "\n",
    "for max_depth in range(2,24,2):\n",
    "  print(\"training with max depth =\",max_depth)\n",
    "  estimator = RandomForestClassifier(n_estimators=100,random_state=42,max_depth=max_depth)\n",
    "  avg_precision_train = 0.0\n",
    "  avg_recall_train = 0.0\n",
    "  avg_precision_test = 0.0\n",
    "  avg_recall_test = 0.0\n",
    "  numSplits = 0.0\n",
    "#\n",
    "# Now loop\n",
    "  for train_index, test_index in skf.split(X, y):\n",
    "    numSplits += 1\n",
    "    X_train = X[train_index]\n",
    "    y_train = y[train_index]\n",
    "    X_test = X[test_index]\n",
    "    y_test = y[test_index]\n",
    "\n",
    "#\n",
    "# Now fit to our training set\n",
    "    results = runFitter(estimator,X_train,y_train,X_test,y_test)\n",
    "    #print(\"results\",results)\n",
    "\n",
    "    avg_precision_train += results['precision_train']\n",
    "    avg_recall_train += results['recall_train']\n",
    "\n",
    "#\n",
    "    avg_precision_test += results['precision_test']\n",
    "    avg_recall_test += results['recall_test']\n",
    "\n",
    "#\n",
    "  avg_precision_train /= numSplits\n",
    "  avg_recall_train /= numSplits\n",
    "  avg_precision_test /= numSplits\n",
    "  avg_recall_test /= numSplits\n",
    "#\n",
    "# Fill dataframe\n",
    "  dfError = dfError.append({\n",
    "     'max_depth':max_depth,\n",
    "     'trainError_pre':1.0-avg_precision_train,'testError_pre':1.0-avg_precision_test,\n",
    "     'trainError_rec':1.0-avg_recall_train,'testError_rec':1.0-avg_recall_test,\n",
    "     'trainError_auc':1.0-avg_auc_train,'testError_auc':1.0-avg_auc_test\n",
    "      }, ignore_index=True)\n",
    "# \n",
    "# Now print\n",
    "dfError.head()"
   ]
  },
  {
   "cell_type": "markdown",
   "metadata": {
    "colab_type": "text",
    "id": "vCF48Qr8xgpz"
   },
   "source": [
    "## Plot accuracy vs max_depth\n",
    "This plot should have both train and test results on it.   And it should be obvious what the final max_depth choice should be."
   ]
  },
  {
   "cell_type": "code",
   "execution_count": 10,
   "metadata": {
    "colab": {},
    "colab_type": "code",
    "id": "HuB1GbyHxtip"
   },
   "outputs": [
    {
     "data": {
      "application/vnd.plotly.v1+json": {
       "config": {
        "linkText": "Export to plot.ly",
        "plotlyServerURL": "https://plot.ly",
        "showLink": false
       },
       "data": [
        {
         "mode": "lines",
         "name": "Training error",
         "type": "scatter",
         "x": [
          2,
          4,
          6,
          8,
          10,
          12,
          14,
          16,
          18,
          20,
          22
         ],
         "y": [
          0.055484518160634266,
          0.026424980240184248,
          0.014503967089953163,
          0.007444509857788439,
          0.0027788203681886614,
          0.0007001909442834187,
          0.0002497505459008176,
          0,
          0,
          0,
          0
         ]
        },
        {
         "mode": "lines",
         "name": "Testing Error",
         "type": "scatter",
         "x": [
          2,
          4,
          6,
          8,
          10,
          12,
          14,
          16,
          18,
          20,
          22
         ],
         "y": [
          0.05746634647849924,
          0.02693411470745577,
          0.016215584724370347,
          0.011881669472747047,
          0.009398318175600329,
          0.009485791542935607,
          0.008716973540286999,
          0.008928960440323763,
          0.008734824909414796,
          0.009123684351666439,
          0.009031444799666888
         ]
        }
       ],
       "layout": {
        "title": "Error (Precision) vs Model Complexity",
        "xaxis": {
         "title": "max_depth"
        },
        "yaxis": {
         "title": "Error (fraction)"
        }
       }
      },
      "text/html": [
       "<div id=\"61d03e69-2add-4410-a18e-022e7732e586\" style=\"height: 525px; width: 100%;\" class=\"plotly-graph-div\"></div><script type=\"text/javascript\">require([\"plotly\"], function(Plotly) { window.PLOTLYENV=window.PLOTLYENV || {};window.PLOTLYENV.BASE_URL=\"https://plot.ly\";Plotly.newPlot(\"61d03e69-2add-4410-a18e-022e7732e586\", [{\"mode\": \"lines\", \"name\": \"Training error\", \"x\": [2.0, 4.0, 6.0, 8.0, 10.0, 12.0, 14.0, 16.0, 18.0, 20.0, 22.0], \"y\": [0.055484518160634266, 0.026424980240184248, 0.014503967089953163, 0.007444509857788439, 0.0027788203681886614, 0.0007001909442834187, 0.0002497505459008176, 0.0, 0.0, 0.0, 0.0], \"type\": \"scatter\"}, {\"mode\": \"lines\", \"name\": \"Testing Error\", \"x\": [2.0, 4.0, 6.0, 8.0, 10.0, 12.0, 14.0, 16.0, 18.0, 20.0, 22.0], \"y\": [0.05746634647849924, 0.02693411470745577, 0.016215584724370347, 0.011881669472747047, 0.009398318175600329, 0.009485791542935607, 0.008716973540286999, 0.008928960440323763, 0.008734824909414796, 0.009123684351666439, 0.009031444799666888], \"type\": \"scatter\"}], {\"title\": \"Error (Precision) vs Model Complexity\", \"xaxis\": {\"title\": \"max_depth\"}, \"yaxis\": {\"title\": \"Error (fraction)\"}}, {\"showLink\": false, \"linkText\": \"Export to plot.ly\", \"plotlyServerURL\": \"https://plot.ly\"})});</script><script type=\"text/javascript\">window.addEventListener(\"resize\", function(){window._Plotly.Plots.resize(document.getElementById(\"61d03e69-2add-4410-a18e-022e7732e586\"));});</script>"
      ],
      "text/vnd.plotly.v1+html": [
       "<div id=\"61d03e69-2add-4410-a18e-022e7732e586\" style=\"height: 525px; width: 100%;\" class=\"plotly-graph-div\"></div><script type=\"text/javascript\">require([\"plotly\"], function(Plotly) { window.PLOTLYENV=window.PLOTLYENV || {};window.PLOTLYENV.BASE_URL=\"https://plot.ly\";Plotly.newPlot(\"61d03e69-2add-4410-a18e-022e7732e586\", [{\"mode\": \"lines\", \"name\": \"Training error\", \"x\": [2.0, 4.0, 6.0, 8.0, 10.0, 12.0, 14.0, 16.0, 18.0, 20.0, 22.0], \"y\": [0.055484518160634266, 0.026424980240184248, 0.014503967089953163, 0.007444509857788439, 0.0027788203681886614, 0.0007001909442834187, 0.0002497505459008176, 0.0, 0.0, 0.0, 0.0], \"type\": \"scatter\"}, {\"mode\": \"lines\", \"name\": \"Testing Error\", \"x\": [2.0, 4.0, 6.0, 8.0, 10.0, 12.0, 14.0, 16.0, 18.0, 20.0, 22.0], \"y\": [0.05746634647849924, 0.02693411470745577, 0.016215584724370347, 0.011881669472747047, 0.009398318175600329, 0.009485791542935607, 0.008716973540286999, 0.008928960440323763, 0.008734824909414796, 0.009123684351666439, 0.009031444799666888], \"type\": \"scatter\"}], {\"title\": \"Error (Precision) vs Model Complexity\", \"xaxis\": {\"title\": \"max_depth\"}, \"yaxis\": {\"title\": \"Error (fraction)\"}}, {\"showLink\": false, \"linkText\": \"Export to plot.ly\", \"plotlyServerURL\": \"https://plot.ly\"})});</script><script type=\"text/javascript\">window.addEventListener(\"resize\", function(){window._Plotly.Plots.resize(document.getElementById(\"61d03e69-2add-4410-a18e-022e7732e586\"));});</script>"
      ]
     },
     "metadata": {},
     "output_type": "display_data"
    },
    {
     "data": {
      "application/vnd.plotly.v1+json": {
       "config": {
        "linkText": "Export to plot.ly",
        "plotlyServerURL": "https://plot.ly",
        "showLink": false
       },
       "data": [
        {
         "mode": "lines",
         "name": "Training error",
         "type": "scatter",
         "x": [
          2,
          4,
          6,
          8,
          10,
          12,
          14,
          16,
          18,
          20,
          22
         ],
         "y": [
          0.0536647581400016,
          0.03761453197967657,
          0.023167001561817058,
          0.01173749208026087,
          0.003944697612309533,
          0.0008253760194506521,
          0.00022500000000003073,
          0,
          0,
          0,
          0
         ]
        },
        {
         "mode": "lines",
         "name": "Testing Error",
         "type": "scatter",
         "x": [
          2,
          4,
          6,
          8,
          10,
          12,
          14,
          16,
          18,
          20,
          22
         ],
         "y": [
          0.05293548430168771,
          0.039121325642301086,
          0.02633519559079267,
          0.01903232175430547,
          0.01475588792326743,
          0.01232595149892557,
          0.011112068105327721,
          0.010721987861322058,
          0.010895070498421311,
          0.010047028105064193,
          0.009958592083832096
         ]
        }
       ],
       "layout": {
        "title": "Error (Recall) vs Model Complexity",
        "xaxis": {
         "title": "max_depth"
        },
        "yaxis": {
         "title": "Error (fraction)"
        }
       }
      },
      "text/html": [
       "<div id=\"d70b1fd1-6d66-4a69-bac4-bc384a11c6e0\" style=\"height: 525px; width: 100%;\" class=\"plotly-graph-div\"></div><script type=\"text/javascript\">require([\"plotly\"], function(Plotly) { window.PLOTLYENV=window.PLOTLYENV || {};window.PLOTLYENV.BASE_URL=\"https://plot.ly\";Plotly.newPlot(\"d70b1fd1-6d66-4a69-bac4-bc384a11c6e0\", [{\"mode\": \"lines\", \"name\": \"Training error\", \"x\": [2.0, 4.0, 6.0, 8.0, 10.0, 12.0, 14.0, 16.0, 18.0, 20.0, 22.0], \"y\": [0.0536647581400016, 0.03761453197967657, 0.023167001561817058, 0.01173749208026087, 0.003944697612309533, 0.0008253760194506521, 0.00022500000000003073, 0.0, 0.0, 0.0, 0.0], \"type\": \"scatter\"}, {\"mode\": \"lines\", \"name\": \"Testing Error\", \"x\": [2.0, 4.0, 6.0, 8.0, 10.0, 12.0, 14.0, 16.0, 18.0, 20.0, 22.0], \"y\": [0.05293548430168771, 0.039121325642301086, 0.02633519559079267, 0.01903232175430547, 0.01475588792326743, 0.01232595149892557, 0.011112068105327721, 0.010721987861322058, 0.010895070498421311, 0.010047028105064193, 0.009958592083832096], \"type\": \"scatter\"}], {\"title\": \"Error (Recall) vs Model Complexity\", \"xaxis\": {\"title\": \"max_depth\"}, \"yaxis\": {\"title\": \"Error (fraction)\"}}, {\"showLink\": false, \"linkText\": \"Export to plot.ly\", \"plotlyServerURL\": \"https://plot.ly\"})});</script><script type=\"text/javascript\">window.addEventListener(\"resize\", function(){window._Plotly.Plots.resize(document.getElementById(\"d70b1fd1-6d66-4a69-bac4-bc384a11c6e0\"));});</script>"
      ],
      "text/vnd.plotly.v1+html": [
       "<div id=\"d70b1fd1-6d66-4a69-bac4-bc384a11c6e0\" style=\"height: 525px; width: 100%;\" class=\"plotly-graph-div\"></div><script type=\"text/javascript\">require([\"plotly\"], function(Plotly) { window.PLOTLYENV=window.PLOTLYENV || {};window.PLOTLYENV.BASE_URL=\"https://plot.ly\";Plotly.newPlot(\"d70b1fd1-6d66-4a69-bac4-bc384a11c6e0\", [{\"mode\": \"lines\", \"name\": \"Training error\", \"x\": [2.0, 4.0, 6.0, 8.0, 10.0, 12.0, 14.0, 16.0, 18.0, 20.0, 22.0], \"y\": [0.0536647581400016, 0.03761453197967657, 0.023167001561817058, 0.01173749208026087, 0.003944697612309533, 0.0008253760194506521, 0.00022500000000003073, 0.0, 0.0, 0.0, 0.0], \"type\": \"scatter\"}, {\"mode\": \"lines\", \"name\": \"Testing Error\", \"x\": [2.0, 4.0, 6.0, 8.0, 10.0, 12.0, 14.0, 16.0, 18.0, 20.0, 22.0], \"y\": [0.05293548430168771, 0.039121325642301086, 0.02633519559079267, 0.01903232175430547, 0.01475588792326743, 0.01232595149892557, 0.011112068105327721, 0.010721987861322058, 0.010895070498421311, 0.010047028105064193, 0.009958592083832096], \"type\": \"scatter\"}], {\"title\": \"Error (Recall) vs Model Complexity\", \"xaxis\": {\"title\": \"max_depth\"}, \"yaxis\": {\"title\": \"Error (fraction)\"}}, {\"showLink\": false, \"linkText\": \"Export to plot.ly\", \"plotlyServerURL\": \"https://plot.ly\"})});</script><script type=\"text/javascript\">window.addEventListener(\"resize\", function(){window._Plotly.Plots.resize(document.getElementById(\"d70b1fd1-6d66-4a69-bac4-bc384a11c6e0\"));});</script>"
      ]
     },
     "metadata": {},
     "output_type": "display_data"
    }
   ],
   "source": [
    "import plotly.plotly as py\n",
    "import numpy as np\n",
    "from plotly.offline import iplot\n",
    "import plotly.graph_objs as go\n",
    "\n",
    "# Create a trace\n",
    "trace1 = go.Scatter(\n",
    "    x = dfError['max_depth'],\n",
    "    y = dfError['trainError_pre'],\n",
    "    mode = 'lines',\n",
    "    name = \"Training error\"\n",
    ")\n",
    "# Create a trace\n",
    "trace2 = go.Scatter(\n",
    "    x = dfError['max_depth'],\n",
    "    y = dfError['testError_pre'],\n",
    "    mode = 'lines',\n",
    "    name = \"Testing Error\"\n",
    ")\n",
    "\n",
    "layout = dict(\n",
    "    title='Error (Precision) vs Model Complexity',\n",
    "    xaxis=dict(title='max_depth'),\n",
    "    yaxis=dict(title='Error (fraction)')\n",
    ")\n",
    "\n",
    "data = [trace1, trace2]\n",
    "iplot(dict(data=data,layout=layout),validate=False)\n",
    "\n",
    "# Create a trace\n",
    "trace1 = go.Scatter(\n",
    "    x = dfError['max_depth'],\n",
    "    y = dfError['trainError_rec'],\n",
    "    mode = 'lines',\n",
    "    name = \"Training error\"\n",
    ")\n",
    "# Create a trace\n",
    "trace2 = go.Scatter(\n",
    "    x = dfError['max_depth'],\n",
    "    y = dfError['testError_rec'],\n",
    "    mode = 'lines',\n",
    "    name = \"Testing Error\"\n",
    ")\n",
    "\n",
    "layout = dict(\n",
    "    title='Error (Recall) vs Model Complexity',\n",
    "    xaxis=dict(title='max_depth'),\n",
    "    yaxis=dict(title='Error (fraction)')\n",
    ")\n",
    "\n",
    "data = [trace1, trace2]\n",
    "iplot(dict(data=data,layout=layout),validate=False)\n"
   ]
  },
  {
   "cell_type": "markdown",
   "metadata": {
    "colab_type": "text",
    "id": "Ip7LL-PExujE"
   },
   "source": [
    "## Feature importance\n",
    "As noted above, we want to find the feature importance of the pixels.   However, we want to do this with the **final** model.   What is the final model?   The model with the ideal max_depth that we determined above.   So you will want to re-train the model, using this max_depth, as well as the **full** data.   Look at how this is done at the end of \"forest_htru2.ipynb\".\n",
    "\n",
    "Also, to plot the feature importance of the pixels, you will have to reshape the returned importances (with are of length 784) to an array of shape (28,28).   Then you can plot them as a heatmap.   Use google to find the appropriate plotly commands (google \"plotly heatmap\").\n",
    "\n",
    "Also, are you sure that the orientation of the heatmap is correct?   Come up with a way of checking this."
   ]
  },
  {
   "cell_type": "code",
   "execution_count": 12,
   "metadata": {
    "colab": {},
    "colab_type": "code",
    "id": "8Dk-ctNLzWVw"
   },
   "outputs": [
    {
     "name": "stderr",
     "output_type": "stream",
     "text": [
      "/apps/project/ondemand/python/3.6-conda5.2/lib/python3.6/site-packages/ipykernel_launcher.py:4: FutureWarning:\n",
      "\n",
      "Method .as_matrix will be removed in a future version. Use .values instead.\n",
      "\n"
     ]
    },
    {
     "name": "stdout",
     "output_type": "stream",
     "text": [
      "Precision: 0.9991987893553503\n",
      "Recall:    0.9990984950761659\n"
     ]
    }
   ],
   "source": [
    "from sklearn.utils import shuffle\n",
    "dfCombinedShuffle = shuffle(dfCombined,random_state=42)    # by setting the random state we will get reproducible results\n",
    "\n",
    "X = dfCombinedShuffle.as_matrix(columns=dfCombinedShuffle.columns[:784])\n",
    "y = dfCombinedShuffle['digit'].values\n",
    "\n",
    "estimator = RandomForestClassifier(n_estimators=100,random_state=42,max_depth=12)\n",
    "\n",
    "results = runFitter(estimator,X,y,X,y)\n",
    "\n",
    "print(\"Precision:\",results['precision_train'])\n",
    "print(\"Recall:   \",results['recall_train'])\n"
   ]
  },
  {
   "cell_type": "code",
   "execution_count": 15,
   "metadata": {},
   "outputs": [
    {
     "name": "stdout",
     "output_type": "stream",
     "text": [
      "<class 'numpy.ndarray'>\n"
     ]
    },
    {
     "data": {
      "text/plain": [
       "<matplotlib.image.AxesImage at 0x2b34548076a0>"
      ]
     },
     "execution_count": 15,
     "metadata": {},
     "output_type": "execute_result"
    },
    {
     "data": {
      "image/png": "[encoded data removed]",
      "text/plain": [
       "<Figure size 432x288 with 1 Axes>"
      ]
     },
     "metadata": {
      "needs_background": "light"
     },
     "output_type": "display_data"
    }
   ],
   "source": [
    "import matplotlib.pyplot as plt\n",
    "img = estimator.feature_importances_     # grab the pixel info\n",
    "img = img.reshape(28,28)\n",
    "print(type(img))\n",
    "plt.imshow(img)"
   ]
  },
  {
   "cell_type": "code",
   "execution_count": 17,
   "metadata": {},
   "outputs": [
    {
     "data": {
      "text/plain": [
       "10000"
      ]
     },
     "execution_count": 17,
     "metadata": {},
     "output_type": "execute_result"
    }
   ],
   "source": [
    "len(X)"
   ]
  },
  {
   "cell_type": "code",
   "execution_count": null,
   "metadata": {},
   "outputs": [],
   "source": []
  }
 ],
 "metadata": {
  "colab": {
   "collapsed_sections": [],
   "name": "assignment6.ipynb",
   "provenance": [],
   "version": "0.3.2"
  },
  "kernelspec": {
   "display_name": "Python 3",
   "language": "python",
   "name": "python3"
  },
  "language_info": {
   "codemirror_mode": {
    "name": "ipython",
    "version": 3
   },
   "file_extension": ".py",
   "mimetype": "text/x-python",
   "name": "python",
   "nbconvert_exporter": "python",
   "pygments_lexer": "ipython3",
   "version": "3.6.6"
  }
 },
 "nbformat": 4,
 "nbformat_minor": 1
}
