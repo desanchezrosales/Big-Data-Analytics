{
 "cells": [
  {
   "cell_type": "markdown",
   "metadata": {},
   "source": [
    "# Reading Assignments\n",
    "\n",
    "This is a list of reading assignments associated with each set of topics we will cover throughout the course.  \n",
    "\n",
    "I plan to give short \"reading quizzes\" which will be extremely trivial if you have at least read through (or watched, if it is a video) the material once before coming to class.\n",
    "\n",
    "## Week 2: Data preparation and plotting.   Read/view before coming to class Tuesday August 27.\n",
    "- Watch this: Using pandas: a short [pandas intro video.](https://www.youtube.com/watch?v=dcqPhpY7tWk)\n",
    "The video uses the \"titanic\" dataset, which can be found on the scratch area on OSC at this location:\n",
    "    \n",
    "         /fs/scratch/PAS1585/titanic/titanic3.xls\n",
    "\n",
    "**If** you want to go along with the video, you will need to replace the line:\n",
    "    \n",
    "    titanic_df = pd.read_excel('titanic3.xls','titanic3',index_col=None,na_values=['NA'])    \n",
    "    \n",
    "with:\n",
    "    \n",
    "    titanic_df = pd.read_excel('/fs/scratch/PAS1585/titanic/titanic3.xls','titanic3',index_col=None,na_values=['NA'])\n",
    "    \n",
    "\n",
    "- Read though this: A simple tutorial using pandas: https://bitbucket.org/hrojas/learn-pandas/src/master/\n",
    "This has alot of lessons on pandas which will be very helpful.   At the very least, go through lesson 1.   If you have time, you can copy snippets of the code from this lesson into you own jupyter notebook to practice.\n",
    "\n",
    " \n"
   ]
  },
  {
   "cell_type": "code",
   "execution_count": null,
   "metadata": {},
   "outputs": [],
   "source": []
  }
 ],
 "metadata": {
  "kernelspec": {
   "display_name": "Python 3",
   "language": "python",
   "name": "python3"
  },
  "language_info": {
   "codemirror_mode": {
    "name": "ipython",
    "version": 3
   },
   "file_extension": ".py",
   "mimetype": "text/x-python",
   "name": "python",
   "nbconvert_exporter": "python",
   "pygments_lexer": "ipython3",
   "version": "3.6.6"
  }
 },
 "nbformat": 4,
 "nbformat_minor": 2
}
