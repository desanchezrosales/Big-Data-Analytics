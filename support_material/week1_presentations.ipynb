{
 "cells": [
  {
   "cell_type": "markdown",
   "metadata": {},
   "source": [
    "# Week 1 Presentations\n",
    "- [Syllabus](https://github.com/big-data-org-fall-2019/public_files/blob/master/new_syllabus_2019_v1.pdf)\n",
    "- [Course Intro](https://github.com/big-data-org-fall-2019/public_files/blob/master/IntroToCourse_fall2019.pdf)\n",
    "- [Using OSC](https://github.com/big-data-org-fall-2019/public_files/blob/master/UsingOSC_part1_fall2019.pdf)"
   ]
  },
  {
   "cell_type": "code",
   "execution_count": null,
   "metadata": {},
   "outputs": [],
   "source": []
  }
 ],
 "metadata": {
  "kernelspec": {
   "display_name": "Python 3",
   "language": "python",
   "name": "python3"
  },
  "language_info": {
   "codemirror_mode": {
    "name": "ipython",
    "version": 3
   },
   "file_extension": ".py",
   "mimetype": "text/x-python",
   "name": "python",
   "nbconvert_exporter": "python",
   "pygments_lexer": "ipython3",
   "version": "3.6.6"
  }
 },
 "nbformat": 4,
 "nbformat_minor": 2
}
