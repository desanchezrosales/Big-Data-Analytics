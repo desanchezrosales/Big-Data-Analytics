{
 "cells": [
  {
   "cell_type": "markdown",
   "metadata": {},
   "source": [
    "# Get the MNIST data\n",
    "Get the data using the keras loading function, then process it so it is ready for our fully connected network (FCN)."
   ]
  },
  {
   "cell_type": "markdown",
   "metadata": {},
   "source": [
    "# Errors?\n",
    "Check to see that the **kernel** is correct (Python 6.6/Conda 5.2).\n"
   ]
  },
  {
   "cell_type": "code",
   "execution_count": 2,
   "metadata": {},
   "outputs": [
    {
     "name": "stdout",
     "output_type": "stream",
     "text": [
      "Train info (60000, 28, 28) (60000,)\n",
      "Test info (10000, 28, 28) (10000,)\n"
     ]
    }
   ],
   "source": [
    "from keras.datasets import mnist\n",
    "(train_images, train_labels), (test_images, test_labels) = mnist.load_data()\n",
    "\n",
    "short = False\n",
    "if short:\n",
    "    train_images = train_images[:7000,:]\n",
    "    train_labels = train_labels[:7000]\n",
    "    test_images = test_images[:3000,:]\n",
    "    test_labels = test_labels[:3000]\n",
    "#\n",
    "print(\"Train info\",train_images.shape, train_labels.shape)\n",
    "print(\"Test info\",test_images.shape, test_labels.shape)\n",
    "train_images = train_images.reshape((train_images.shape[0],28*28))\n",
    "train_images = train_images.astype('float32')/255\n",
    "\n",
    "test_images = test_images.reshape((test_images.shape[0],28*28))\n",
    "test_images = test_images.astype('float32')/255\n",
    "from keras.utils import to_categorical\n",
    "\n",
    "train_labels_cat = to_categorical(train_labels)\n",
    "test_labels_cat = to_categorical(test_labels)\n"
   ]
  },
  {
   "cell_type": "markdown",
   "metadata": {},
   "source": [
    "# Build the FCN and train it\n",
    "We will build a simple 1-hidden-layer network.   We will use 400 hidden nodes since that was close to optimal based on our earlier studies.   We will then save the network for later use."
   ]
  },
  {
   "cell_type": "code",
   "execution_count": 3,
   "metadata": {},
   "outputs": [
    {
     "name": "stdout",
     "output_type": "stream",
     "text": [
      "Train on 60000 samples, validate on 10000 samples\n",
      "Epoch 1/15\n",
      "60000/60000 [==============================] - 2s 36us/step - loss: 0.3286 - acc: 0.9046 - val_loss: 0.2181 - val_acc: 0.9359\n",
      "Epoch 2/15\n",
      "60000/60000 [==============================] - 2s 33us/step - loss: 0.1785 - acc: 0.9489 - val_loss: 0.1477 - val_acc: 0.9556\n",
      "Epoch 3/15\n",
      "60000/60000 [==============================] - 2s 33us/step - loss: 0.1233 - acc: 0.9645 - val_loss: 0.1164 - val_acc: 0.9664\n",
      "Epoch 4/15\n",
      "60000/60000 [==============================] - 2s 33us/step - loss: 0.0916 - acc: 0.9741 - val_loss: 0.0957 - val_acc: 0.9695\n",
      "Epoch 5/15\n",
      "60000/60000 [==============================] - 2s 33us/step - loss: 0.0702 - acc: 0.9794 - val_loss: 0.0840 - val_acc: 0.9742\n",
      "Epoch 6/15\n",
      "60000/60000 [==============================] - 2s 34us/step - loss: 0.0535 - acc: 0.9846 - val_loss: 0.0742 - val_acc: 0.9764\n",
      "Epoch 7/15\n",
      "60000/60000 [==============================] - 2s 34us/step - loss: 0.0421 - acc: 0.9879 - val_loss: 0.0713 - val_acc: 0.9785\n",
      "Epoch 8/15\n",
      "60000/60000 [==============================] - 2s 34us/step - loss: 0.0330 - acc: 0.9910 - val_loss: 0.0692 - val_acc: 0.9784\n",
      "Epoch 9/15\n",
      "60000/60000 [==============================] - 2s 33us/step - loss: 0.0256 - acc: 0.9936 - val_loss: 0.0646 - val_acc: 0.9794\n",
      "Epoch 10/15\n",
      "60000/60000 [==============================] - 2s 33us/step - loss: 0.0203 - acc: 0.9954 - val_loss: 0.0613 - val_acc: 0.9806\n",
      "Epoch 11/15\n",
      "60000/60000 [==============================] - 2s 34us/step - loss: 0.0158 - acc: 0.9966 - val_loss: 0.0614 - val_acc: 0.9805\n",
      "Epoch 12/15\n",
      "60000/60000 [==============================] - 2s 33us/step - loss: 0.0121 - acc: 0.9976 - val_loss: 0.0631 - val_acc: 0.9799\n",
      "Epoch 13/15\n",
      "60000/60000 [==============================] - 2s 33us/step - loss: 0.0096 - acc: 0.9983 - val_loss: 0.0616 - val_acc: 0.9810\n",
      "Epoch 14/15\n",
      "60000/60000 [==============================] - 2s 33us/step - loss: 0.0069 - acc: 0.9992 - val_loss: 0.0601 - val_acc: 0.9819\n",
      "Epoch 15/15\n",
      "60000/60000 [==============================] - 2s 33us/step - loss: 0.0056 - acc: 0.9993 - val_loss: 0.0652 - val_acc: 0.9811\n"
     ]
    }
   ],
   "source": [
    "from keras import models\n",
    "from keras import layers\n",
    "\n",
    "network = models.Sequential()\n",
    "network.add(layers.Dense(400,activation='tanh',input_shape=(28*28,)))\n",
    "network.add(layers.Dense(10,activation='softmax'))\n",
    "network.compile(optimizer='adam',loss='categorical_crossentropy',metrics=['accuracy'])\n",
    "#\n",
    "history = network.fit(train_images,train_labels_cat,epochs=15,batch_size=128,validation_data=(test_images,test_labels_cat))\n",
    "network.save('fully_trained_model_fcn.h5')"
   ]
  },
  {
   "cell_type": "markdown",
   "metadata": {},
   "source": [
    "# Finish\n",
    "The performance on the standard test set is around 98% which is pretty good!"
   ]
  },
  {
   "cell_type": "code",
   "execution_count": null,
   "metadata": {},
   "outputs": [],
   "source": []
  }
 ],
 "metadata": {
  "kernelspec": {
   "display_name": "Python 3.6 (Conda 5.2) [python/3.6-conda5.2]",
   "language": "python",
   "name": "sys_python36conda"
  },
  "language_info": {
   "codemirror_mode": {
    "name": "ipython",
    "version": 3
   },
   "file_extension": ".py",
   "mimetype": "text/x-python",
   "name": "python",
   "nbconvert_exporter": "python",
   "pygments_lexer": "ipython3",
   "version": "3.6.6"
  }
 },
 "nbformat": 4,
 "nbformat_minor": 2
}
