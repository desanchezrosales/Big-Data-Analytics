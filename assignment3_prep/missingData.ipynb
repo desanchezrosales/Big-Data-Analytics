{
 "cells": [
  {
   "cell_type": "markdown",
   "metadata": {
    "colab_type": "text",
    "id": "Y0QS7cLxBsv1"
   },
   "source": [
    "# The Airport dataset\n",
    "For some simple data cleaning and preparation studies we will use an airport dataset from this [website](https://github.com/ismayc/pnwflights14): \n",
    "It contains information about all flights that departed from the two major airports of the Pacific Northwest (PNW), SEA in Seattle and PDX in Portland, in 2014: 162,049 flights in total."
   ]
  },
  {
   "cell_type": "code",
   "execution_count": 1,
   "metadata": {
    "colab": {},
    "colab_type": "code",
    "id": "Lmxc9N3CCcCo"
   },
   "outputs": [
    {
     "name": "stdout",
     "output_type": "stream",
     "text": [
      "   year  month  day  dep_time  dep_delay  arr_time  arr_delay carrier tailnum  \\\n",
      "0  2014      1    1       1.0       96.0     235.0       70.0      AS  N508AS   \n",
      "1  2014      1    1       4.0       -6.0     738.0      -23.0      US  N195UW   \n",
      "2  2014      1    1       8.0       13.0     548.0       -4.0      UA  N37422   \n",
      "3  2014      1    1      28.0       -2.0     800.0      -23.0      US  N547UW   \n",
      "4  2014      1    1      34.0       44.0     325.0       43.0      AS  N762AS   \n",
      "\n",
      "   flight origin dest  air_time  distance  hour  minute  \n",
      "0     145    PDX  ANC     194.0      1542   0.0     1.0  \n",
      "1    1830    SEA  CLT     252.0      2279   0.0     4.0  \n",
      "2    1609    PDX  IAH     201.0      1825   0.0     8.0  \n",
      "3     466    PDX  CLT     251.0      2282   0.0    28.0  \n",
      "4     121    SEA  ANC     201.0      1448   0.0    34.0  \n"
     ]
    }
   ],
   "source": [
    "import pandas as pd\n",
    "\n",
    "flights = pd.read_csv(\"/fs/scratch/PAS1585/flights/flights.csv\")\n",
    "print(flights.head())"
   ]
  },
  {
   "cell_type": "markdown",
   "metadata": {
    "colab_type": "text",
    "id": "Z6Jb88WWA9rO"
   },
   "source": [
    "# Dealing with missing data\n",
    "Sometimes you have datasets in which there are subsets of the data which are missing some features. \n",
    "\n",
    "How do we find these rows?  If the data is truly missing (meaning there is nothing in the place where it should be)  we can use a tool in pandas to find it: Let's use google: **pandas dataframe find rows with nan**.   (\"nan\" means \"not a number\")\n",
    "\n",
    "The answer looks something like this: df1 = df[df.isnull().any(axis=1)]\n",
    "This finds all rows in dataframe **df** in which any column in that row has a null, and then returns that as a new dataframe called df1.\n",
    "\n",
    "So let's try it with our flights dataframe:"
   ]
  },
  {
   "cell_type": "code",
   "execution_count": 2,
   "metadata": {
    "colab": {},
    "colab_type": "code",
    "id": "NErc1CHdDRdf"
   },
   "outputs": [
    {
     "name": "stdout",
     "output_type": "stream",
     "text": [
      "     year  month  day  dep_time  dep_delay  arr_time  arr_delay carrier  \\\n",
      "408  2014      1    1       NaN        NaN       NaN        NaN      AS   \n",
      "409  2014      1    1       NaN        NaN       NaN        NaN      OO   \n",
      "410  2014      1    1       NaN        NaN       NaN        NaN      OO   \n",
      "411  2014      1    1       NaN        NaN       NaN        NaN      OO   \n",
      "412  2014      1    1       NaN        NaN       NaN        NaN      OO   \n",
      "413  2014      1    1       NaN        NaN       NaN        NaN      OO   \n",
      "414  2014      1    1       NaN        NaN       NaN        NaN      OO   \n",
      "415  2014      1    1       NaN        NaN       NaN        NaN      OO   \n",
      "416  2014      1    1       NaN        NaN       NaN        NaN      UA   \n",
      "417  2014      1    1       NaN        NaN       NaN        NaN      UA   \n",
      "418  2014      1    1       NaN        NaN       NaN        NaN      UA   \n",
      "421  2014      1    2      14.0       84.0    1356.0        NaN      DL   \n",
      "428  2014      1    2      55.0      116.0       NaN        NaN      DL   \n",
      "431  2014      1    2     158.0      180.0    1257.0        NaN      B6   \n",
      "519  2014      1    2     741.0       41.0    1551.0        NaN      AA   \n",
      "824  2014      1    2    2035.0      -10.0       NaN        NaN      AS   \n",
      "831  2014      1    2    2100.0       -5.0       NaN        NaN      AS   \n",
      "855  2014      1    2    2307.0      110.0    1213.0        NaN      B6   \n",
      "866  2014      1    2       NaN        NaN       NaN        NaN      AS   \n",
      "867  2014      1    2       NaN        NaN       NaN        NaN      AS   \n",
      "\n",
      "    tailnum  flight origin dest  air_time  distance  hour  minute  \n",
      "408  N763AS      61    SEA  JNU       NaN       909   NaN     NaN  \n",
      "409  N237SW    5428    PDX  SEA       NaN       129   NaN     NaN  \n",
      "410  N237SW    5325    SEA  PDX       NaN       129   NaN     NaN  \n",
      "411  N585SW    5353    PDX  EUG       NaN       106   NaN     NaN  \n",
      "412  N295SW    5438    SEA  PDX       NaN       129   NaN     NaN  \n",
      "413  N295SW    5379    PDX  SEA       NaN       129   NaN     NaN  \n",
      "414  N295SW    5403    PDX  EUG       NaN       106   NaN     NaN  \n",
      "415  N918SW    5639    SEA  SFO       NaN       679   NaN     NaN  \n",
      "416     NaN    1142    SEA  EWR       NaN      2402   NaN     NaN  \n",
      "417     NaN    1195    SEA  DEN       NaN      1024   NaN     NaN  \n",
      "418     NaN    1647    PDX  ORD       NaN      1739   NaN     NaN  \n",
      "421  N379DA    2022    PDX  JFK       NaN      2454   0.0    14.0  \n",
      "428  N705TW    1542    SEA  JFK       NaN      2422   0.0    55.0  \n",
      "431  N630JB     264    SEA  JFK       NaN      2422   1.0    58.0  \n",
      "519  N3KXAA    2218    PDX  ORD       NaN      1739   7.0    41.0  \n",
      "824  N560AS     574    PDX  SAN       NaN       933  20.0    35.0  \n",
      "831  N537AS     488    SEA  SAN       NaN      1050  21.0     0.0  \n",
      "855  N635JB    1206    PDX  JFK       NaN      2454  23.0     7.0  \n",
      "866  N403AS      14    SEA  EWR       NaN      2402   NaN     NaN  \n",
      "867  N549AS      24    SEA  BOS       NaN      2496   NaN     NaN  \n"
     ]
    }
   ],
   "source": [
    "flights_nulls = flights[flights.isnull().any(axis=1)]\n",
    "print(flights_nulls.head(20))"
   ]
  },
  {
   "cell_type": "markdown",
   "metadata": {
    "colab_type": "text",
    "id": "hDjgvfXXDfC1"
   },
   "source": [
    "Notice the first column printed out above - the one with 408, then 409, etc.   This is the pandas dataframe **index**.  If you watched the video I pointed the class to, this should be familiar.\n",
    "\n",
    "We can print out some of these same rows from the **original** dataframe by using this index.   We can do this using \"**loc**\" or \"**iloc**\".   The difference being:\n",
    "1.  loc gets rows (or columns) with particular labels from the index. \n",
    "2.  iloc gets rows (or columns) at particular positions in the index (so it only takes integers)\n",
    "\n",
    "In our original dataframe (flights) the *label* is the same as the *position*.   This is **not** true for the derived dataframe flights_nulls.    \n",
    " \n",
    " Here is a specific row from the original dataframe:"
   ]
  },
  {
   "cell_type": "code",
   "execution_count": 5,
   "metadata": {
    "colab": {},
    "colab_type": "code",
    "id": "02ND_ipBDhkj"
   },
   "outputs": [
    {
     "name": "stdout",
     "output_type": "stream",
     "text": [
      "Using loc\n",
      "year           2014\n",
      "month             1\n",
      "day               1\n",
      "dep_time        NaN\n",
      "dep_delay       NaN\n",
      "arr_time        NaN\n",
      "arr_delay       NaN\n",
      "carrier          AS\n",
      "tailnum      N763AS\n",
      "flight           61\n",
      "origin          SEA\n",
      "dest            JNU\n",
      "air_time        NaN\n",
      "distance        909\n",
      "hour            NaN\n",
      "minute          NaN\n",
      "Name: 408, dtype: object\n",
      "\n",
      "Using iloc\n",
      "year           2014\n",
      "month             1\n",
      "day               1\n",
      "dep_time        NaN\n",
      "dep_delay       NaN\n",
      "arr_time        NaN\n",
      "arr_delay       NaN\n",
      "carrier          AS\n",
      "tailnum      N763AS\n",
      "flight           61\n",
      "origin          SEA\n",
      "dest            JNU\n",
      "air_time        NaN\n",
      "distance        909\n",
      "hour            NaN\n",
      "minute          NaN\n",
      "Name: 408, dtype: object\n"
     ]
    }
   ],
   "source": [
    "print(\"Using loc\")\n",
    "print(flights.loc[408,:])\n",
    "print()\n",
    "print(\"Using iloc\")\n",
    "print(flights.iloc[408][:])"
   ]
  },
  {
   "cell_type": "markdown",
   "metadata": {
    "colab_type": "text",
    "id": "9pUe5avefDiR"
   },
   "source": [
    "Here are rows from the derived dataframe:"
   ]
  },
  {
   "cell_type": "code",
   "execution_count": 6,
   "metadata": {
    "colab": {},
    "colab_type": "code",
    "id": "zqQKVYsPfCgd"
   },
   "outputs": [
    {
     "name": "stdout",
     "output_type": "stream",
     "text": [
      "Using loc\n",
      "year           2014\n",
      "month             1\n",
      "day               1\n",
      "dep_time        NaN\n",
      "dep_delay       NaN\n",
      "arr_time        NaN\n",
      "arr_delay       NaN\n",
      "carrier          AS\n",
      "tailnum      N763AS\n",
      "flight           61\n",
      "origin          SEA\n",
      "dest            JNU\n",
      "air_time        NaN\n",
      "distance        909\n",
      "hour            NaN\n",
      "minute          NaN\n",
      "Name: 408, dtype: object\n",
      "\n",
      "Using iloc\n",
      "year           2014\n",
      "month             1\n",
      "day               1\n",
      "dep_time        NaN\n",
      "dep_delay       NaN\n",
      "arr_time        NaN\n",
      "arr_delay       NaN\n",
      "carrier          AS\n",
      "tailnum      N763AS\n",
      "flight           61\n",
      "origin          SEA\n",
      "dest            JNU\n",
      "air_time        NaN\n",
      "distance        909\n",
      "hour            NaN\n",
      "minute          NaN\n",
      "Name: 408, dtype: object\n"
     ]
    }
   ],
   "source": [
    "print(\"Using loc\")\n",
    "print(flights_nulls.loc[408,:])    ## this uses the index label\n",
    "print()\n",
    "print(\"Using iloc\")\n",
    "print(flights_nulls.iloc[0][:])    ## this uses the position - the zeroth row"
   ]
  },
  {
   "cell_type": "markdown",
   "metadata": {
    "colab_type": "text",
    "id": "L4heuJBhEWGB"
   },
   "source": [
    "Back to dealing with missing data!\n",
    "\n",
    "Here are some options:\n",
    "\n",
    "1.  Simply remove rows with missing data.\n",
    "2.  Replace the missing data with the mean of that column.\n",
    "3.  Replace the missing data with the mean of columns that are similar to that row. For exmple, we could choose rows that are geographically similar.\n",
    "\n",
    "It is important to think carefully about the data when choosing which option to use.  It might not make sense to replace missing values with the means of the respective columns.    On the other hand removing every row which has a missing value might remove too much data."
   ]
  },
  {
   "cell_type": "markdown",
   "metadata": {
    "colab_type": "text",
    "id": "OItR2E0-b6kA"
   },
   "source": [
    "Here is how you would remove rows with missing data:"
   ]
  },
  {
   "cell_type": "code",
   "execution_count": 7,
   "metadata": {
    "colab": {},
    "colab_type": "code",
    "id": "F5IBuuEPb5KN"
   },
   "outputs": [
    {
     "name": "stdout",
     "output_type": "stream",
     "text": [
      "Length of flights DF: 162049\n",
      "Length of flights with no nulls DF: 160748\n",
      "Length of flights with nulls DF: 1301\n"
     ]
    }
   ],
   "source": [
    "flights_nonulls = flights.dropna()\n",
    "print(\"Length of flights DF:\",len(flights))\n",
    "print(\"Length of flights with no nulls DF:\",len(flights_nonulls))\n",
    "print(\"Length of flights with nulls DF:\",len(flights_nulls))\n",
    "\n",
    "\n"
   ]
  },
  {
   "cell_type": "markdown",
   "metadata": {
    "colab_type": "text",
    "id": "OqtzYTflcmlW"
   },
   "source": [
    "Removing rows with no nulls only affects 0.8% of the data, so it is probably the easiest approach.\n",
    "\n",
    "Just for completeness, lets also look at how to replace null data with the mean: \n",
    "\n",
    "**NOTE** This will take some time!"
   ]
  },
  {
   "cell_type": "code",
   "execution_count": 8,
   "metadata": {
    "colab": {},
    "colab_type": "code",
    "id": "IMnOpDExc4TJ"
   },
   "outputs": [
    {
     "name": "stdout",
     "output_type": "stream",
     "text": [
      "year            2014\n",
      "month              1\n",
      "day                1\n",
      "dep_time     1278.28\n",
      "dep_delay    6.13386\n",
      "arr_time      1482.5\n",
      "arr_delay    2.24087\n",
      "carrier           AS\n",
      "tailnum       N763AS\n",
      "flight            61\n",
      "origin           SEA\n",
      "dest             JNU\n",
      "air_time     152.589\n",
      "distance         909\n",
      "hour         12.4795\n",
      "minute       30.3322\n",
      "Name: 408, dtype: object\n"
     ]
    }
   ],
   "source": [
    "flights.fillna(flights.mean(),inplace=True)\n",
    "print(flights.loc[408,:])"
   ]
  },
  {
   "cell_type": "markdown",
   "metadata": {
    "colab_type": "text",
    "id": "GSoQ_ZdYdd_G"
   },
   "source": [
    "We see that the row we looked at previously (rownum=408) has missing values filled in with the means from those rows (**be patient!!** this will take some time to finish!):"
   ]
  },
  {
   "cell_type": "code",
   "execution_count": 9,
   "metadata": {
    "colab": {},
    "colab_type": "code",
    "id": "dkZyCIZNfw7F"
   },
   "outputs": [
    {
     "name": "stdout",
     "output_type": "stream",
     "text": [
      "Column means\n",
      " year         2014.000000\n",
      "month           6.605027\n",
      "day            15.749890\n",
      "dep_time     1278.283755\n",
      "dep_delay       6.133859\n",
      "arr_time     1482.501282\n",
      "arr_delay       2.240868\n",
      "flight       1357.356725\n",
      "air_time      152.588511\n",
      "distance     1204.514634\n",
      "hour           12.479515\n",
      "minute         30.332244\n",
      "dtype: float64\n"
     ]
    }
   ],
   "source": [
    "print(\"Column means\\n\",flights.mean())"
   ]
  },
  {
   "cell_type": "code",
   "execution_count": null,
   "metadata": {},
   "outputs": [],
   "source": []
  }
 ],
 "metadata": {
  "colab": {
   "collapsed_sections": [],
   "name": "missingData.ipynb",
   "provenance": [],
   "toc_visible": true,
   "version": "0.3.2"
  },
  "kernelspec": {
   "display_name": "Python 3",
   "language": "python",
   "name": "python3"
  },
  "language_info": {
   "codemirror_mode": {
    "name": "ipython",
    "version": 3
   },
   "file_extension": ".py",
   "mimetype": "text/x-python",
   "name": "python",
   "nbconvert_exporter": "python",
   "pygments_lexer": "ipython3",
   "version": "3.6.6"
  }
 },
 "nbformat": 4,
 "nbformat_minor": 1
}
