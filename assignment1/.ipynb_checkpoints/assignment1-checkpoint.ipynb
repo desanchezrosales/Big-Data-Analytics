{
 "cells": [
  {
   "cell_type": "markdown",
   "metadata": {
    "colab_type": "text",
    "id": "view-in-github"
   },
   "source": [
    "<a href=\"https://colab.research.google.com/github/big-data-analytics-physics/handsonml_ch1/blob/master/assignment1.ipynb\" target=\"_parent\"><img src=\"https://colab.research.google.com/assets/colab-badge.svg\" alt=\"Open In Colab\"/></a>"
   ]
  },
  {
   "cell_type": "markdown",
   "metadata": {
    "colab_type": "text",
    "id": "uZLC-qIxAx_D"
   },
   "source": [
    "## Riddler Problem\n",
    "This notebook will be used to get a little practice with python.   The problem we will tackle is a [Riddler](https://fivethirtyeight.com/tag/the-riddler/).   These are a set of puzzles on the 538 website.   \n",
    "\n",
    "The problem we will tackle is \"Competitive Coin Flipping\", described [here](https://fivethirtyeight.com/features/the-new-national-pastime-competitive-coin-flipping/).\n",
    "\n",
    "Here is a snippet describing the problem:"
   ]
  },
  {
   "cell_type": "markdown",
   "metadata": {
    "colab_type": "text",
    "id": "McElDMMBAPki"
   },
   "source": [
    "From the website:  Riddler Nation recently legalized sports betting, and of course everyone is excited to risk some cash on the national pastime: competitive coin flipping.\n",
    "\n",
    "Every coin-flipping match is a faceoff between two teams. Each team selects a sequence of heads and/or tails to look for, and they simultaneously flip their own coin over and over until one team finds its sequence. If both teams find their sequences at the same time, they start over and flip until only team finds it. First to be the only team to have found its sequence wins.\n",
    "\n",
    "You decide to get in on the action and go to one of these events. When you arrive, you see that the Red Team has chosen the sequence “heads-tails,” while the Blue Team has chosen “heads-heads.” You can get even odds on either team. Which team should you put your money on?"
   ]
  },
  {
   "cell_type": "markdown",
   "metadata": {
    "colab_type": "text",
    "id": "ug8bAEhOB1Y5"
   },
   "source": [
    "## Your Task\n",
    "Write a python program to model this problem, and use the results to figure out if one team or the other is better to bet on.\n",
    "\n",
    "To begin this problem, we first need a random number generator, so we can simulate the flipping of a coin.   Go to google and type \"python random number between 0 and 1\".\n",
    "\n",
    "Use the information you find, and write a snippet of code to generate random numbers in a loop.    "
   ]
  },
  {
   "cell_type": "code",
   "execution_count": 7,
   "metadata": {
    "colab": {},
    "colab_type": "code",
    "id": "P6Tq7f7YCifq"
   },
   "outputs": [
    {
     "name": "stdout",
     "output_type": "stream",
     "text": [
      "Trial  0 0.5500994639406747\n",
      "Trial  1 0.6819531044479497\n",
      "Trial  2 0.7367585652121393\n",
      "Trial  3 0.9698725426380277\n",
      "Trial  4 0.18923835203960326\n",
      "Trial  5 0.9000172691577122\n",
      "Trial  6 0.1640068820419236\n",
      "Trial  7 0.4072919484914874\n",
      "Trial  8 0.47559221949566854\n",
      "Trial  9 0.045895869750535945\n"
     ]
    }
   ],
   "source": [
    "#\n",
    "# Import the appropriate python package\n",
    "import random\n",
    "#\n",
    "# Here is a for loop that runs from 0 to 9 (1 less than the argument of \"range\")\n",
    "for i in range(10):\n",
    "#\n",
    "    print(\"Trial \",i,random.random())\n",
    "# ***ADD YOUR CODE HERE***\n",
    "\n",
    "\n"
   ]
  },
  {
   "cell_type": "markdown",
   "metadata": {
    "colab_type": "text",
    "id": "G5wFn6HHCrHQ"
   },
   "source": [
    "We now need to simulate a coin flip.   Lets make a *method* to do just that.   Define heads as a random number greater or equal to 0.5, and tails as a number less than 0.5.   Have the method return a 1 if heads, and a 0 if tails."
   ]
  },
  {
   "cell_type": "code",
   "execution_count": 79,
   "metadata": {
    "colab": {},
    "colab_type": "code",
    "id": "5DeT6kALDIUz"
   },
   "outputs": [
    {
     "name": "stdout",
     "output_type": "stream",
     "text": [
      "1\n"
     ]
    }
   ],
   "source": [
    "def coinFlip():\n",
    "#\n",
    "# Set default return value\n",
    "    flip = 0\n",
    "    val = 0.0\n",
    "    \n",
    "# ***ADD YOUR CODE HERE**\n",
    "    val = random.random()\n",
    "    flip = int(val > 0.5)\n",
    "# Return the result\n",
    "    return flip\n",
    "\n",
    "print(coinFlip())\n"
   ]
  },
  {
   "cell_type": "markdown",
   "metadata": {
    "colab_type": "text",
    "id": "mVxIZROQNigC"
   },
   "source": [
    "\n",
    "\n",
    "---\n",
    "\n",
    "Now test the method: use a loop so you can try it many times.   If the random number generator is good, then over a long time you should get as many heads as tails.  Test this!"
   ]
  },
  {
   "cell_type": "code",
   "execution_count": 27,
   "metadata": {
    "colab": {},
    "colab_type": "code",
    "id": "sn-pAH80DaFr"
   },
   "outputs": [
    {
     "name": "stdout",
     "output_type": "stream",
     "text": [
      "513 heads 487 tails 1.053388090349076 ratio\n"
     ]
    }
   ],
   "source": [
    "x =[]\n",
    "for i in range(1000):\n",
    "\n",
    "# Flip the coin!\n",
    "    x.append(coinFlip())\n",
    "#\n",
    "# Print the result\n",
    "heads = sum(x)\n",
    "tails = len(x)-heads\n",
    "\n",
    "print(heads,\"heads\",tails,\"tails\", heads/tails,\"ratio\")\n",
    "#\n",
    "# How many total heads/tails were there?"
   ]
  },
  {
   "cell_type": "markdown",
   "metadata": {
    "colab_type": "text",
    "id": "gZp1GVw5Ebpq"
   },
   "source": [
    "\n",
    "\n",
    "---\n",
    "\n",
    "\n",
    "\n",
    "---\n",
    "\n",
    "Now lets run the compettitiopn.   The rules are:\n",
    "1) Each team does a flip\n",
    "2) Team HT looks for a sequence of \"Heads, then Tails\".   Team HH looks for a sequence of \"Heads, then Heads\".   If they both get the sequence they want on the same flip, they start over."
   ]
  },
  {
   "cell_type": "markdown",
   "metadata": {
    "colab_type": "text",
    "id": "ka0uq5DlLiUA"
   },
   "source": [
    "\n",
    "\n",
    "---\n",
    "\n",
    "Write a method to run the competition.  You have some starter code below which should help.   Things to remember:\n",
    "\n",
    "*   You need to keep track of the *last* flip of each team, as well as the current flip.\n",
    "*   If both teams get their sequence, you need to start over\n",
    "*   Once a team gets its sequence, the competition ends\n"
   ]
  },
  {
   "cell_type": "code",
   "execution_count": 127,
   "metadata": {
    "colab": {},
    "colab_type": "code",
    "id": "m9tKlr4NEbI2"
   },
   "outputs": [],
   "source": [
    "def runCompetition():\n",
    "    HH = []\n",
    "    HT = []\n",
    "    \n",
    "    counter = 0\n",
    "    for i in range(100):\n",
    "        HH.append(coinFlip())\n",
    "        HT.append(coinFlip())\n",
    "        \n",
    "        if counter > 0:\n",
    "            print(HH)\n",
    "            print(HT)\n",
    "            print(counter)\n",
    "            \n",
    "            if HH[counter-1] == 1 and HH[counter] == 1 and HT[counter-1] == 1 and HT[counter] == 0:\n",
    "                counter = 0 \n",
    "                HH = []\n",
    "                HT = []\n",
    "            elif HH[counter-1] == 1 and HH[counter] == 1:\n",
    "                    winner = \"HH\"\n",
    "                    return winner\n",
    "            elif HT[counter-1] == 1 and HT[counter] == 0:\n",
    "                    winner = \"HT\"\n",
    "                    return winner\n",
    "        counter  =  counter + 1"
   ]
  },
  {
   "cell_type": "markdown",
   "metadata": {
    "colab_type": "text",
    "id": "48tiDQALMG0a"
   },
   "source": [
    "\n",
    "\n",
    "---\n",
    "\n",
    "\n",
    "\n",
    "---\n",
    "\n",
    "Now what we want to figure out is: which team is more likely to win?   That is, of we are given *even* odds, which team would we pick to win.   To determoine this, we simple need to call our competition method many times (say 1000), and count how often one team wins vs the other.   if there is no advantage to either team, then both should win about 500 times."
   ]
  },
  {
   "cell_type": "code",
   "execution_count": 128,
   "metadata": {
    "colab": {},
    "colab_type": "code",
    "id": "QxWCnqyeKeeZ"
   },
   "outputs": [
    {
     "name": "stdout",
     "output_type": "stream",
     "text": [
      "[1, 0]\n",
      "[1, 0]\n",
      "1\n",
      "[0, 1]\n",
      "[1, 1]\n",
      "1\n",
      "[0, 1, 1]\n",
      "[1, 1, 1]\n",
      "2\n",
      "[0, 0]\n",
      "[0, 1]\n",
      "1\n",
      "[0, 0, 1]\n",
      "[0, 1, 0]\n",
      "2\n",
      "[1, 0]\n",
      "[1, 0]\n",
      "1\n",
      "[1, 1]\n",
      "[1, 1]\n",
      "1\n",
      "[0, 1]\n",
      "[0, 0]\n",
      "1\n",
      "[0, 1, 0]\n",
      "[0, 0, 0]\n",
      "2\n",
      "[0, 1, 0, 0]\n",
      "[0, 0, 0, 1]\n",
      "3\n",
      "[0, 1, 0, 0, 0]\n",
      "[0, 0, 0, 1, 1]\n",
      "4\n",
      "[0, 1, 0, 0, 0, 0]\n",
      "[0, 0, 0, 1, 1, 1]\n",
      "5\n",
      "[0, 1, 0, 0, 0, 0, 1]\n",
      "[0, 0, 0, 1, 1, 1, 1]\n",
      "6\n",
      "[0, 1, 0, 0, 0, 0, 1, 1]\n",
      "[0, 0, 0, 1, 1, 1, 1, 0]\n",
      "7\n",
      "[1]\n",
      "[1]\n",
      "1\n"
     ]
    },
    {
     "ename": "IndexError",
     "evalue": "list index out of range",
     "output_type": "error",
     "traceback": [
      "\u001b[0;31m---------------------------------------------------------------------------\u001b[0m",
      "\u001b[0;31mIndexError\u001b[0m                                Traceback (most recent call last)",
      "\u001b[0;32m<ipython-input-128-fe644ae103f0>\u001b[0m in \u001b[0;36m<module>\u001b[0;34m\u001b[0m\n\u001b[1;32m      6\u001b[0m \u001b[0;34m\u001b[0m\u001b[0m\n\u001b[1;32m      7\u001b[0m \u001b[0;32mfor\u001b[0m \u001b[0mtrials\u001b[0m \u001b[0;32min\u001b[0m \u001b[0mrange\u001b[0m\u001b[0;34m(\u001b[0m\u001b[0mruns\u001b[0m\u001b[0;34m)\u001b[0m\u001b[0;34m:\u001b[0m\u001b[0;34m\u001b[0m\u001b[0m\n\u001b[0;32m----> 8\u001b[0;31m     \u001b[0mwinner\u001b[0m \u001b[0;34m=\u001b[0m \u001b[0mrunCompetition\u001b[0m\u001b[0;34m(\u001b[0m\u001b[0;34m)\u001b[0m\u001b[0;34m\u001b[0m\u001b[0m\n\u001b[0m\u001b[1;32m      9\u001b[0m \u001b[0;34m\u001b[0m\u001b[0m\n\u001b[1;32m     10\u001b[0m     \u001b[0;32mif\u001b[0m \u001b[0mwinner\u001b[0m \u001b[0;34m==\u001b[0m \u001b[0;34m'HH'\u001b[0m\u001b[0;34m:\u001b[0m\u001b[0;34m\u001b[0m\u001b[0m\n",
      "\u001b[0;32m<ipython-input-127-38d4e1d2d4a1>\u001b[0m in \u001b[0;36mrunCompetition\u001b[0;34m()\u001b[0m\n\u001b[1;32m     13\u001b[0m             \u001b[0mprint\u001b[0m\u001b[0;34m(\u001b[0m\u001b[0mcounter\u001b[0m\u001b[0;34m)\u001b[0m\u001b[0;34m\u001b[0m\u001b[0m\n\u001b[1;32m     14\u001b[0m \u001b[0;34m\u001b[0m\u001b[0m\n\u001b[0;32m---> 15\u001b[0;31m             \u001b[0;32mif\u001b[0m \u001b[0mHH\u001b[0m\u001b[0;34m[\u001b[0m\u001b[0mcounter\u001b[0m\u001b[0;34m-\u001b[0m\u001b[0;36m1\u001b[0m\u001b[0;34m]\u001b[0m \u001b[0;34m==\u001b[0m \u001b[0;36m1\u001b[0m \u001b[0;32mand\u001b[0m \u001b[0mHH\u001b[0m\u001b[0;34m[\u001b[0m\u001b[0mcounter\u001b[0m\u001b[0;34m]\u001b[0m \u001b[0;34m==\u001b[0m \u001b[0;36m1\u001b[0m \u001b[0;32mand\u001b[0m \u001b[0mHT\u001b[0m\u001b[0;34m[\u001b[0m\u001b[0mcounter\u001b[0m\u001b[0;34m-\u001b[0m\u001b[0;36m1\u001b[0m\u001b[0;34m]\u001b[0m \u001b[0;34m==\u001b[0m \u001b[0;36m1\u001b[0m \u001b[0;32mand\u001b[0m \u001b[0mHT\u001b[0m\u001b[0;34m[\u001b[0m\u001b[0mcounter\u001b[0m\u001b[0;34m]\u001b[0m \u001b[0;34m==\u001b[0m\u001b[0;36m0\u001b[0m\u001b[0;34m:\u001b[0m\u001b[0;34m\u001b[0m\u001b[0m\n\u001b[0m\u001b[1;32m     16\u001b[0m                 \u001b[0mcounter\u001b[0m \u001b[0;34m=\u001b[0m \u001b[0;36m0\u001b[0m\u001b[0;34m\u001b[0m\u001b[0m\n\u001b[1;32m     17\u001b[0m                 \u001b[0mHH\u001b[0m \u001b[0;34m=\u001b[0m \u001b[0;34m[\u001b[0m\u001b[0;34m]\u001b[0m\u001b[0;34m\u001b[0m\u001b[0m\n",
      "\u001b[0;31mIndexError\u001b[0m: list index out of range"
     ]
    }
   ],
   "source": [
    "\n",
    "winsHT = 0\n",
    "winsHH = 0\n",
    "\n",
    "runs =100000\n",
    "\n",
    "for trials in range(runs):\n",
    "    winner = runCompetition()\n",
    "    \n",
    "    if winner == 'HH':\n",
    "        winsHH = winsHH + 1\n",
    "        \n",
    "    elif winner == 'HT':\n",
    "        winsHT = winsHT + 1\n",
    "        \n",
    "print(\"HH won\", winsHH, \"times\")\n",
    "print(\"HT won\", winsHT, \"times\")\n",
    "print(\"the ratio HH/total is:\", winsHH/runs)\n",
    "print(\"the ratio HT/total is:\", winsHT/runs)\n"
   ]
  },
  {
   "cell_type": "code",
   "execution_count": 95,
   "metadata": {},
   "outputs": [],
   "source": [
    "def runCompetition_2():\n",
    "    HH = []\n",
    "    TT = []\n",
    "    \n",
    "    for i in range(100):\n",
    "        HH.append(coinFlip())\n",
    "        TT.append(coinFlip())\n",
    "        if HH[i-1] == 1 and HH[i] == 1 and TT[i-1] == 0 and TT[i] == 0:\n",
    "            i = 0 \n",
    "            HH = []\n",
    "            HT =[]\n",
    "        elif HH[i-1] == 1 and HH[i] == 1:\n",
    "                winner = \"HH\"\n",
    "                return winner\n",
    "        elif TT[i-1] == 0 and TT[i] == 0:\n",
    "                winner = \"TT\"\n",
    "                return winner"
   ]
  },
  {
   "cell_type": "code",
   "execution_count": 96,
   "metadata": {},
   "outputs": [
    {
     "ename": "IndexError",
     "evalue": "list index out of range",
     "output_type": "error",
     "traceback": [
      "\u001b[0;31m---------------------------------------------------------------------------\u001b[0m",
      "\u001b[0;31mIndexError\u001b[0m                                Traceback (most recent call last)",
      "\u001b[0;32m<ipython-input-96-f8b8094303b6>\u001b[0m in \u001b[0;36m<module>\u001b[0;34m\u001b[0m\n\u001b[1;32m      5\u001b[0m \u001b[0;34m\u001b[0m\u001b[0m\n\u001b[1;32m      6\u001b[0m \u001b[0;32mfor\u001b[0m \u001b[0mtrials\u001b[0m \u001b[0;32min\u001b[0m \u001b[0mrange\u001b[0m\u001b[0;34m(\u001b[0m\u001b[0mruns\u001b[0m\u001b[0;34m)\u001b[0m\u001b[0;34m:\u001b[0m\u001b[0;34m\u001b[0m\u001b[0m\n\u001b[0;32m----> 7\u001b[0;31m     \u001b[0mwinner\u001b[0m \u001b[0;34m=\u001b[0m \u001b[0mrunCompetition_2\u001b[0m\u001b[0;34m(\u001b[0m\u001b[0;34m)\u001b[0m\u001b[0;34m\u001b[0m\u001b[0m\n\u001b[0m\u001b[1;32m      8\u001b[0m \u001b[0;34m\u001b[0m\u001b[0m\n\u001b[1;32m      9\u001b[0m     \u001b[0;32mif\u001b[0m \u001b[0mwinner\u001b[0m \u001b[0;34m==\u001b[0m \u001b[0;34m'HH'\u001b[0m\u001b[0;34m:\u001b[0m\u001b[0;34m\u001b[0m\u001b[0m\n",
      "\u001b[0;32m<ipython-input-95-35e2f8a70693>\u001b[0m in \u001b[0;36mrunCompetition_2\u001b[0;34m()\u001b[0m\n\u001b[1;32m      6\u001b[0m         \u001b[0mHH\u001b[0m\u001b[0;34m.\u001b[0m\u001b[0mappend\u001b[0m\u001b[0;34m(\u001b[0m\u001b[0mcoinFlip\u001b[0m\u001b[0;34m(\u001b[0m\u001b[0;34m)\u001b[0m\u001b[0;34m)\u001b[0m\u001b[0;34m\u001b[0m\u001b[0m\n\u001b[1;32m      7\u001b[0m         \u001b[0mTT\u001b[0m\u001b[0;34m.\u001b[0m\u001b[0mappend\u001b[0m\u001b[0;34m(\u001b[0m\u001b[0mcoinFlip\u001b[0m\u001b[0;34m(\u001b[0m\u001b[0;34m)\u001b[0m\u001b[0;34m)\u001b[0m\u001b[0;34m\u001b[0m\u001b[0m\n\u001b[0;32m----> 8\u001b[0;31m         \u001b[0;32mif\u001b[0m \u001b[0mHH\u001b[0m\u001b[0;34m[\u001b[0m\u001b[0mi\u001b[0m\u001b[0;34m-\u001b[0m\u001b[0;36m1\u001b[0m\u001b[0;34m]\u001b[0m \u001b[0;34m==\u001b[0m \u001b[0;36m1\u001b[0m \u001b[0;32mand\u001b[0m \u001b[0mHH\u001b[0m\u001b[0;34m[\u001b[0m\u001b[0mi\u001b[0m\u001b[0;34m]\u001b[0m \u001b[0;34m==\u001b[0m \u001b[0;36m1\u001b[0m \u001b[0;32mand\u001b[0m \u001b[0mTT\u001b[0m\u001b[0;34m[\u001b[0m\u001b[0mi\u001b[0m\u001b[0;34m-\u001b[0m\u001b[0;36m1\u001b[0m\u001b[0;34m]\u001b[0m \u001b[0;34m==\u001b[0m \u001b[0;36m0\u001b[0m \u001b[0;32mand\u001b[0m \u001b[0mTT\u001b[0m\u001b[0;34m[\u001b[0m\u001b[0mi\u001b[0m\u001b[0;34m]\u001b[0m \u001b[0;34m==\u001b[0m \u001b[0;36m0\u001b[0m\u001b[0;34m:\u001b[0m\u001b[0;34m\u001b[0m\u001b[0m\n\u001b[0m\u001b[1;32m      9\u001b[0m             \u001b[0mi\u001b[0m \u001b[0;34m=\u001b[0m \u001b[0;36m0\u001b[0m\u001b[0;34m\u001b[0m\u001b[0m\n\u001b[1;32m     10\u001b[0m             \u001b[0mHH\u001b[0m \u001b[0;34m=\u001b[0m \u001b[0;34m[\u001b[0m\u001b[0;34m]\u001b[0m\u001b[0;34m\u001b[0m\u001b[0m\n",
      "\u001b[0;31mIndexError\u001b[0m: list index out of range"
     ]
    }
   ],
   "source": [
    "winsTT = 0\n",
    "winsHH = 0\n",
    "\n",
    "runs =100000\n",
    "\n",
    "for trials in range(runs):\n",
    "    winner = runCompetition_2()\n",
    "    \n",
    "    if winner == 'HH':\n",
    "        winsHH = winsHH + 1\n",
    "        \n",
    "    elif winner == 'TT':\n",
    "        winsTT = winsTT + 1\n",
    "        \n",
    "print(\"HH won\", winsHH, \"times\")\n",
    "print(\"TT won\", winsTT, \"times\")\n",
    "print(\"the ratio HH/total is:\", winsHH/runs)\n",
    "print(\"the ratio TT/total is:\", winsTT/runs)"
   ]
  },
  {
   "cell_type": "code",
   "execution_count": null,
   "metadata": {},
   "outputs": [],
   "source": []
  },
  {
   "cell_type": "code",
   "execution_count": null,
   "metadata": {},
   "outputs": [],
   "source": []
  }
 ],
 "metadata": {
  "colab": {
   "collapsed_sections": [],
   "name": "assignment1.ipynb",
   "provenance": [],
   "version": "0.3.2"
  },
  "kernelspec": {
   "display_name": "Python 3",
   "language": "python",
   "name": "python3"
  },
  "language_info": {
   "codemirror_mode": {
    "name": "ipython",
    "version": 3
   },
   "file_extension": ".py",
   "mimetype": "text/x-python",
   "name": "python",
   "nbconvert_exporter": "python",
   "pygments_lexer": "ipython3",
   "version": "3.6.6"
  }
 },
 "nbformat": 4,
 "nbformat_minor": 1
}
