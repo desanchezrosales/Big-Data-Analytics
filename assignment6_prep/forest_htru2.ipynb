{
 "cells": [
  {
   "cell_type": "markdown",
   "metadata": {
    "colab_type": "text",
    "id": "H-XII8KKiNzp"
   },
   "source": [
    "# Random Forests\n",
    "In this workbook, we will examine **random forests**.   As you might expect, random forests are a collection of **decision trees**.   More precisely, random forests are an ensemble of decision trees, designed to overcome two drawbacks of decsion trees:\n",
    "1.  Decision trees are prone to overfitting the data.  Now this is a limitation that can be overcome, as we saw in the previous example, but may be more difficult depending on sample size and the nature of the problem you are working on.\n",
    "2.  Decision trees are sensitive to the actual distribution of the training data, such that small perturbations in one single distribution can yield a very different tree.\n",
    "\n",
    "The basic idea is very simple: instead of training a single tree, we will train a large number of trees and average the results.   But of course if we use the same data, we will get the same trees.   To overcome this, **random** forests introduce the following ideas:\n",
    "1.  Randomize the training data.   The technique used is called **bootstrap aggregating** or **bagging** for short.   If we have **n** samples in our training data, we select **n** samples **with replacement** from that same dataset.   On average this will choose about 63% of the training data for each tree (meaning that there are copies in the training set).   The key idea is that each tree in the forest sees a different (but overlapping) subset of the data.\n",
    "2.  Randomize the features used by each tree in the forest.  By default, the random forests in scikit use only a subset of the available features (by default the rounded sqrt(number of input features)) when deciding which feature to use to split the data at each node in a given tree.\n",
    "\n",
    "How are the results of all of these tree combined?   As we saw with our decision tree workbook, a decision tree can predict a class (0,1,2, etc), or a set of probabilities.   When combining an ensemble of trees we have two options to predict the result for a single sample:\n",
    "1.  Hard voting: use the class predicted by most of the trees.\n",
    "2.  Soft voting: average the probabilites, and use the class with the highest probability.   This allows higher performance by giving greater weight to more confident predicitons.   Sklearn uses this method for random forests."
   ]
  },
  {
   "cell_type": "markdown",
   "metadata": {
    "colab_type": "text",
    "id": "TrW0n0ghoYgl"
   },
   "source": [
    "# Feature Importance\n",
    "A very useful property of random forests is that they can be used to assess **feature importance**.   The idea is that since different trees use different subsets of available features at each split point within each tree, we have a mechanism for assessing how important a specific feature is for our model.   A feature's importance is related to how much that feature reduces impurity on average across all of the trees in the forest.\n",
    "\n",
    "To help us test this idea, we will add a **random** feature to our dataset.   This feature should neither help nor hurt our classification, and when we  check our feature importances later, we would expect that the random feature will be ranked very low in feature importance.\n"
   ]
  },
  {
   "cell_type": "markdown",
   "metadata": {
    "colab_type": "text",
    "id": "NvfjJRFB0yRQ"
   },
   "source": [
    "# Getting the data:\n",
    "We will again use the puslar data as we did for the decision tree workbook.   The data come from the UCI Machine Learning Repository: https://archive.ics.uci.edu/ml/datasets/HTRU2\n",
    "\n",
    "As usual the data is on github: 'https://raw.githubusercontent.com/big-data-analytics-physics/data/master/HTRU2/HTRU_2a.csv'\n",
    "\n",
    "As noted above, will will add a separate column labeled \"random\" which is essentailly a *fake* feature. "
   ]
  },
  {
   "cell_type": "code",
   "execution_count": 14,
   "metadata": {
    "colab": {},
    "colab_type": "code",
    "id": "luIJ0Dguwewg"
   },
   "outputs": [
    {
     "data": {
      "text/html": [
       "<div>\n",
       "<style scoped>\n",
       "    .dataframe tbody tr th:only-of-type {\n",
       "        vertical-align: middle;\n",
       "    }\n",
       "\n",
       "    .dataframe tbody tr th {\n",
       "        vertical-align: top;\n",
       "    }\n",
       "\n",
       "    .dataframe thead th {\n",
       "        text-align: right;\n",
       "    }\n",
       "</style>\n",
       "<table border=\"1\" class=\"dataframe\">\n",
       "  <thead>\n",
       "    <tr style=\"text-align: right;\">\n",
       "      <th></th>\n",
       "      <th>Profile_mean</th>\n",
       "      <th>Profile_stdev</th>\n",
       "      <th>Profile_skewness</th>\n",
       "      <th>Profile_kurtosis</th>\n",
       "      <th>DM_mean</th>\n",
       "      <th>DM_stdev</th>\n",
       "      <th>DM_skewness</th>\n",
       "      <th>DM_kurtosis</th>\n",
       "      <th>class</th>\n",
       "      <th>random</th>\n",
       "    </tr>\n",
       "  </thead>\n",
       "  <tbody>\n",
       "    <tr>\n",
       "      <th>0</th>\n",
       "      <td>140.562500</td>\n",
       "      <td>55.683782</td>\n",
       "      <td>-0.234571</td>\n",
       "      <td>-0.699648</td>\n",
       "      <td>3.199833</td>\n",
       "      <td>19.110426</td>\n",
       "      <td>7.975532</td>\n",
       "      <td>74.242225</td>\n",
       "      <td>0</td>\n",
       "      <td>0.720577</td>\n",
       "    </tr>\n",
       "    <tr>\n",
       "      <th>1</th>\n",
       "      <td>102.507812</td>\n",
       "      <td>58.882430</td>\n",
       "      <td>0.465318</td>\n",
       "      <td>-0.515088</td>\n",
       "      <td>1.677258</td>\n",
       "      <td>14.860146</td>\n",
       "      <td>10.576487</td>\n",
       "      <td>127.393580</td>\n",
       "      <td>0</td>\n",
       "      <td>0.828634</td>\n",
       "    </tr>\n",
       "    <tr>\n",
       "      <th>2</th>\n",
       "      <td>103.015625</td>\n",
       "      <td>39.341649</td>\n",
       "      <td>0.323328</td>\n",
       "      <td>1.051164</td>\n",
       "      <td>3.121237</td>\n",
       "      <td>21.744669</td>\n",
       "      <td>7.735822</td>\n",
       "      <td>63.171909</td>\n",
       "      <td>0</td>\n",
       "      <td>0.947930</td>\n",
       "    </tr>\n",
       "    <tr>\n",
       "      <th>3</th>\n",
       "      <td>136.750000</td>\n",
       "      <td>57.178449</td>\n",
       "      <td>-0.068415</td>\n",
       "      <td>-0.636238</td>\n",
       "      <td>3.642977</td>\n",
       "      <td>20.959280</td>\n",
       "      <td>6.896499</td>\n",
       "      <td>53.593661</td>\n",
       "      <td>0</td>\n",
       "      <td>0.180099</td>\n",
       "    </tr>\n",
       "    <tr>\n",
       "      <th>4</th>\n",
       "      <td>88.726562</td>\n",
       "      <td>40.672225</td>\n",
       "      <td>0.600866</td>\n",
       "      <td>1.123492</td>\n",
       "      <td>1.178930</td>\n",
       "      <td>11.468720</td>\n",
       "      <td>14.269573</td>\n",
       "      <td>252.567306</td>\n",
       "      <td>0</td>\n",
       "      <td>0.132220</td>\n",
       "    </tr>\n",
       "  </tbody>\n",
       "</table>\n",
       "</div>"
      ],
      "text/plain": [
       "   Profile_mean  Profile_stdev  Profile_skewness  Profile_kurtosis   DM_mean  \\\n",
       "0    140.562500      55.683782         -0.234571         -0.699648  3.199833   \n",
       "1    102.507812      58.882430          0.465318         -0.515088  1.677258   \n",
       "2    103.015625      39.341649          0.323328          1.051164  3.121237   \n",
       "3    136.750000      57.178449         -0.068415         -0.636238  3.642977   \n",
       "4     88.726562      40.672225          0.600866          1.123492  1.178930   \n",
       "\n",
       "    DM_stdev  DM_skewness  DM_kurtosis  class    random  \n",
       "0  19.110426     7.975532    74.242225      0  0.720577  \n",
       "1  14.860146    10.576487   127.393580      0  0.828634  \n",
       "2  21.744669     7.735822    63.171909      0  0.947930  \n",
       "3  20.959280     6.896499    53.593661      0  0.180099  \n",
       "4  11.468720    14.269573   252.567306      0  0.132220  "
      ]
     },
     "execution_count": 14,
     "metadata": {},
     "output_type": "execute_result"
    }
   ],
   "source": [
    "import pandas as pd\n",
    "import numpy as np\n",
    "\n",
    "\n",
    "#\n",
    "# Read in all of the other digits\n",
    "fname = 'https://raw.githubusercontent.com/big-data-analytics-physics/data/master/HTRU2/HTRU_2a.csv'\n",
    "dfAll = pd.read_csv(fname)\n",
    "#\n",
    "# Add a feature called \"random\" with random numbers from 0-1\n",
    "dfAll['random'] = np.random.random(size=len(dfAll))\n",
    "dfAll.head(5)\n",
    "\n",
    "\n"
   ]
  },
  {
   "cell_type": "markdown",
   "metadata": {
    "colab_type": "text",
    "id": "okYk61Ix0hHF"
   },
   "source": [
    "## Reorder data columns\n",
    "Our code below expects the **last** column to have the **class** label.  Since we added the **random** column this is not longer true, so in the code below we reorder the columns."
   ]
  },
  {
   "cell_type": "code",
   "execution_count": 15,
   "metadata": {
    "colab": {},
    "colab_type": "code",
    "id": "icnD0lyr7j3E"
   },
   "outputs": [
    {
     "data": {
      "text/html": [
       "<div>\n",
       "<style scoped>\n",
       "    .dataframe tbody tr th:only-of-type {\n",
       "        vertical-align: middle;\n",
       "    }\n",
       "\n",
       "    .dataframe tbody tr th {\n",
       "        vertical-align: top;\n",
       "    }\n",
       "\n",
       "    .dataframe thead th {\n",
       "        text-align: right;\n",
       "    }\n",
       "</style>\n",
       "<table border=\"1\" class=\"dataframe\">\n",
       "  <thead>\n",
       "    <tr style=\"text-align: right;\">\n",
       "      <th></th>\n",
       "      <th>Profile_mean</th>\n",
       "      <th>Profile_stdev</th>\n",
       "      <th>Profile_skewness</th>\n",
       "      <th>Profile_kurtosis</th>\n",
       "      <th>DM_mean</th>\n",
       "      <th>DM_stdev</th>\n",
       "      <th>DM_skewness</th>\n",
       "      <th>DM_kurtosis</th>\n",
       "      <th>random</th>\n",
       "      <th>class</th>\n",
       "    </tr>\n",
       "  </thead>\n",
       "  <tbody>\n",
       "    <tr>\n",
       "      <th>0</th>\n",
       "      <td>140.562500</td>\n",
       "      <td>55.683782</td>\n",
       "      <td>-0.234571</td>\n",
       "      <td>-0.699648</td>\n",
       "      <td>3.199833</td>\n",
       "      <td>19.110426</td>\n",
       "      <td>7.975532</td>\n",
       "      <td>74.242225</td>\n",
       "      <td>0.720577</td>\n",
       "      <td>0</td>\n",
       "    </tr>\n",
       "    <tr>\n",
       "      <th>1</th>\n",
       "      <td>102.507812</td>\n",
       "      <td>58.882430</td>\n",
       "      <td>0.465318</td>\n",
       "      <td>-0.515088</td>\n",
       "      <td>1.677258</td>\n",
       "      <td>14.860146</td>\n",
       "      <td>10.576487</td>\n",
       "      <td>127.393580</td>\n",
       "      <td>0.828634</td>\n",
       "      <td>0</td>\n",
       "    </tr>\n",
       "    <tr>\n",
       "      <th>2</th>\n",
       "      <td>103.015625</td>\n",
       "      <td>39.341649</td>\n",
       "      <td>0.323328</td>\n",
       "      <td>1.051164</td>\n",
       "      <td>3.121237</td>\n",
       "      <td>21.744669</td>\n",
       "      <td>7.735822</td>\n",
       "      <td>63.171909</td>\n",
       "      <td>0.947930</td>\n",
       "      <td>0</td>\n",
       "    </tr>\n",
       "    <tr>\n",
       "      <th>3</th>\n",
       "      <td>136.750000</td>\n",
       "      <td>57.178449</td>\n",
       "      <td>-0.068415</td>\n",
       "      <td>-0.636238</td>\n",
       "      <td>3.642977</td>\n",
       "      <td>20.959280</td>\n",
       "      <td>6.896499</td>\n",
       "      <td>53.593661</td>\n",
       "      <td>0.180099</td>\n",
       "      <td>0</td>\n",
       "    </tr>\n",
       "    <tr>\n",
       "      <th>4</th>\n",
       "      <td>88.726562</td>\n",
       "      <td>40.672225</td>\n",
       "      <td>0.600866</td>\n",
       "      <td>1.123492</td>\n",
       "      <td>1.178930</td>\n",
       "      <td>11.468720</td>\n",
       "      <td>14.269573</td>\n",
       "      <td>252.567306</td>\n",
       "      <td>0.132220</td>\n",
       "      <td>0</td>\n",
       "    </tr>\n",
       "  </tbody>\n",
       "</table>\n",
       "</div>"
      ],
      "text/plain": [
       "   Profile_mean  Profile_stdev  Profile_skewness  Profile_kurtosis   DM_mean  \\\n",
       "0    140.562500      55.683782         -0.234571         -0.699648  3.199833   \n",
       "1    102.507812      58.882430          0.465318         -0.515088  1.677258   \n",
       "2    103.015625      39.341649          0.323328          1.051164  3.121237   \n",
       "3    136.750000      57.178449         -0.068415         -0.636238  3.642977   \n",
       "4     88.726562      40.672225          0.600866          1.123492  1.178930   \n",
       "\n",
       "    DM_stdev  DM_skewness  DM_kurtosis    random  class  \n",
       "0  19.110426     7.975532    74.242225  0.720577      0  \n",
       "1  14.860146    10.576487   127.393580  0.828634      0  \n",
       "2  21.744669     7.735822    63.171909  0.947930      0  \n",
       "3  20.959280     6.896499    53.593661  0.180099      0  \n",
       "4  11.468720    14.269573   252.567306  0.132220      0  "
      ]
     },
     "execution_count": 15,
     "metadata": {},
     "output_type": "execute_result"
    }
   ],
   "source": [
    "dfAll = dfAll[['Profile_mean','Profile_stdev','Profile_skewness','Profile_kurtosis','DM_mean',\n",
    "        'DM_stdev','DM_skewness','DM_kurtosis','random','class']]\n",
    "num_features = 9\n",
    "dfAll.head(5)"
   ]
  },
  {
   "cell_type": "markdown",
   "metadata": {
    "colab_type": "text",
    "id": "h0m8yoxK0ef1"
   },
   "source": [
    "# Defining Signal\n",
    "The **class** variable distinguished signal from background.   As usual,  **1** is signal (pulsars) and **0** is background.   We make sure the sample is balanced so we have equal numbers of pulsars and non-pulsars."
   ]
  },
  {
   "cell_type": "code",
   "execution_count": 3,
   "metadata": {
    "colab": {},
    "colab_type": "code",
    "id": "cZVQuKLBTV3T"
   },
   "outputs": [
    {
     "name": "stdout",
     "output_type": "stream",
     "text": [
      "Length of signal sample:      1639\n",
      "Length of background sample:  16259\n",
      "Size of signal sample  1639\n",
      "Size of background sample  1639\n",
      "Size of combined sample  3278\n"
     ]
    }
   ],
   "source": [
    "#\n",
    "# The data already has a 0/1 class variable that defines signal (1) and background (0)\n",
    "#\n",
    "# The data is already combined but it will be usefull to split it so we can look at \n",
    "# signal and background separately.\n",
    "dfA = dfAll[dfAll['class']==1]\n",
    "dfB = dfAll[dfAll['class']==0]\n",
    "\n",
    "print(\"Length of signal sample:     \",len(dfA))\n",
    "print(\"Length of background sample: \",len(dfB))\n",
    "\n",
    "#\n",
    "# Shuffle the data here\n",
    "from sklearn.utils import shuffle\n",
    "dfBShuffle = shuffle(dfB)\n",
    "#\n",
    "# Uncomment the next line to limit dfB to be the same length as dfA\n",
    "#dfB_use = dfBShuffle\n",
    "dfB_use = dfBShuffle.head(len(dfA))\n",
    "\n",
    "\n",
    "dfCombined = dfB_use\n",
    "dfCombined = pd.concat([dfCombined, dfA])\n",
    "dfCombined = shuffle(dfCombined)\n",
    "\n",
    "print(\"Size of signal sample \",len(dfA))\n",
    "print(\"Size of background sample \",len(dfB_use))\n",
    "print(\"Size of combined sample \",len(dfCombined))\n",
    "\n"
   ]
  },
  {
   "cell_type": "markdown",
   "metadata": {
    "colab_type": "text",
    "id": "lvhYHv5X2K_p"
   },
   "source": [
    "# Some useful methods\n",
    "We have our usual helpful methods of nested_defaultdict and matplotlib, as well as getDecisionTreeGraphic, which we can use to visualize an individual tree within a forest."
   ]
  },
  {
   "cell_type": "code",
   "execution_count": 4,
   "metadata": {
    "colab": {},
    "colab_type": "code",
    "id": "2qH7R-6S2OVm"
   },
   "outputs": [
    {
     "data": {
      "text/html": [
       "<script type=\"text/javascript\">window.PlotlyConfig = {MathJaxConfig: 'local'};</script><script type=\"text/javascript\">if (window.MathJax) {MathJax.Hub.Config({SVG: {font: \"STIX-Web\"}});}</script><script>requirejs.config({paths: { 'plotly': ['https://cdn.plot.ly/plotly-latest.min']},});if(!window._Plotly) {require(['plotly'],function(plotly) {window._Plotly=plotly;});}</script>"
      ],
      "text/vnd.plotly.v1+html": [
       "<script type=\"text/javascript\">window.PlotlyConfig = {MathJaxConfig: 'local'};</script><script type=\"text/javascript\">if (window.MathJax) {MathJax.Hub.Config({SVG: {font: \"STIX-Web\"}});}</script><script>requirejs.config({paths: { 'plotly': ['https://cdn.plot.ly/plotly-latest.min']},});if(!window._Plotly) {require(['plotly'],function(plotly) {window._Plotly=plotly;});}</script>"
      ]
     },
     "metadata": {},
     "output_type": "display_data"
    }
   ],
   "source": [
    "from collections import defaultdict\n",
    "from functools import partial\n",
    "from itertools import repeat\n",
    "def nested_defaultdict(default_factory, depth=1):\n",
    "    result = partial(defaultdict, default_factory)\n",
    "    for _ in repeat(None, depth - 1):\n",
    "        result = partial(defaultdict, result)\n",
    "    return result()\n",
    "\n",
    "from plotly.offline import init_notebook_mode\n",
    "init_notebook_mode(connected = True)\n",
    "%matplotlib inline\n",
    "\n",
    "\n",
    "def getDecisionTreeGraphic(estimator,feature_names,class_names):\n",
    "  from sklearn import tree\n",
    "  from io import StringIO\n",
    "  import pydot_ng as pydot \n",
    "  import graphviz\n",
    "  import matplotlib.pyplot as plt\n",
    "\n",
    "  dot_data = StringIO()\n",
    "\n",
    "  #                         class_names=classColumn,\n",
    "  out = tree.export_graphviz(estimator,out_file=None,\n",
    "                           feature_names=feature_names,\n",
    "                           class_names=class_names,\n",
    "                           filled=True, rounded=True,\n",
    "                           special_characters=True,\n",
    "                            node_ids=1,)\n",
    "  import pydotplus\n",
    "  pydot_graph = pydotplus.graph_from_dot_data(out)\n",
    "  pydot_graph.set_size('\"7,7!\"')\n",
    "  #print(pydot_graph.getvalue())\n",
    "  #graph = graphviz.Source( out)\n",
    "  graph = graphviz.Source(pydot_graph.to_string())\n",
    "  return graph\n"
   ]
  },
  {
   "cell_type": "markdown",
   "metadata": {
    "colab_type": "text",
    "id": "Fmcl8xlvFDKI"
   },
   "source": [
    "# Performance Method"
   ]
  },
  {
   "cell_type": "code",
   "execution_count": 5,
   "metadata": {
    "colab": {},
    "colab_type": "code",
    "id": "G1udjEbIFGHt"
   },
   "outputs": [],
   "source": [
    "#\n",
    "# Determine the performance\n",
    "def binaryPerformance(y,y_pred,y_score,debug=False):\n",
    "#\n",
    "# Assuming a binary classifier with 1=signal, 0=background\n",
    "  confusionMatrix = nested_defaultdict(int,2)\n",
    "  for i in range(len(y_pred)):\n",
    "    trueClass = y[i]\n",
    "    predClass = y_pred[i]\n",
    "    confusionMatrix[trueClass][predClass] += 1\n",
    "\n",
    "  if debug:\n",
    "    for trueClass in range(2):\n",
    "      print(\"True: \",trueClass,end=\"\")\n",
    "      for predClass in range(2):\n",
    "        print(\"\\t\",confusionMatrix[trueClass][predClass],end=\"\")\n",
    "      print()\n",
    "    print()\n",
    "  TP = confusionMatrix[1][1]\n",
    "  FP = confusionMatrix[0][1]\n",
    "  FN = confusionMatrix[1][0]\n",
    "  TN = confusionMatrix[0][0]\n",
    "  \n",
    "  if debug:\n",
    "    print(\"TP predicted true, actually true   \",TP)\n",
    "    print(\"FP predicted true, acutally false  \",FP)\n",
    "    print(\"TN predicted false, actually false \",TN)\n",
    "    print(\"FN predicted false, actually true  \",FN)\n",
    "\n",
    "\n",
    "  precision = TP / (TP + FP)\n",
    "  recall = TP / (TP + FN)\n",
    "  f1_score = 2.0 / ( (1.0/precision) + (1.0/recall) )\n",
    "  \n",
    "  if debug:\n",
    "    print(\"Precision = TP/(TP+FP) = fraction of predicted true actually true \",precision)\n",
    "    print(\"Recall = TP/(TP+FN) = fraction of true class predicted to be true \",recall)\n",
    "    print(\"F1 score = \",f1_score)\n",
    "\n",
    "  #\n",
    "  # Get the ROC curve.  We will use the sklearn function to do this\n",
    "  from sklearn import metrics\n",
    "  #fpr_train, tpr_train, thresholds_train = metrics.roc_curve(y_train, y_train_score, pos_label=1)\n",
    "  fpr, tpr, thresholds = metrics.roc_curve(y, y_score, pos_label=1)\n",
    "  #\n",
    "  # Get the auc\n",
    "  auc = metrics.roc_auc_score(y, y_score)\n",
    "  if debug:\n",
    "    print(\"AUC this sample: \",auc)\n",
    "  \n",
    "  return precision,recall,auc,fpr, tpr, thresholds"
   ]
  },
  {
   "cell_type": "markdown",
   "metadata": {
    "colab_type": "text",
    "id": "eIhQBrAXz3V8"
   },
   "source": [
    "#  The runFitter Method\n",
    "We will use the same form of the runFitter method we used in our decision tree workbook."
   ]
  },
  {
   "cell_type": "code",
   "execution_count": 6,
   "metadata": {
    "colab": {},
    "colab_type": "code",
    "id": "PrB1nvOxz5gq"
   },
   "outputs": [],
   "source": [
    "\n",
    "def runFitter(estimator,X_train,y_train,X_test,y_test,debug=False):\n",
    "#\n",
    "# Now fit to our training set\n",
    "  estimator.fit(X_train,y_train)\n",
    "#\n",
    "# Now predict the classes and get the score for our traing set\n",
    "  y_train_pred = estimator.predict(X_train)\n",
    "  y_train_score = estimator.predict_proba(X_train)[:,1]   # NOTE: some estimators have a predict_prob method instead od descision_function\n",
    "#\n",
    "# Now predict the classes and get the score for our test set\n",
    "  y_test_pred = estimator.predict(X_test)\n",
    "  y_test_score = estimator.predict_proba(X_test)[:,1]\n",
    "\n",
    "#\n",
    "# Now get the performaance\n",
    "  precision_test,recall_test,auc_test,fpr_test, tpr_test, thresholds_test\\\n",
    "    = binaryPerformance(y_test,y_test_pred,y_test_score,debug)\n",
    "  precision_train,recall_train,auc_train,fpr_train, tpr_train, thresholds_train\\\n",
    "    = binaryPerformance(y_train,y_train_pred,y_train_score,debug)\n",
    "#\n",
    "# Decide what you want to return: for now, just precision, recall, and auc for both test and train\n",
    "  results = {\n",
    "      'precision_train':precision_train,\n",
    "      'recall_train':recall_train,\n",
    "      'auc_train':auc_train,\n",
    "      'fpr_train':fpr_train, \n",
    "      'tpr_train':tpr_train, \n",
    "      'thresholds_train':thresholds_train,\n",
    "      'precision_test':precision_test,\n",
    "      'recall_test':recall_test,\n",
    "      'auc_test':auc_test,\n",
    "      'fpr_test':fpr_test, \n",
    "      'tpr_test':tpr_test, \n",
    "      'thresholds_test':thresholds_test}\n",
    "\n",
    "  return results\n",
    "  "
   ]
  },
  {
   "cell_type": "markdown",
   "metadata": {
    "colab_type": "text",
    "id": "lfCPNlDBGEzp"
   },
   "source": [
    "# Prepare the data\n",
    "As usual we shuffle it first and then dump the dataframe into an **X** features numpy array and a **y** labels number array."
   ]
  },
  {
   "cell_type": "code",
   "execution_count": 7,
   "metadata": {
    "colab": {},
    "colab_type": "code",
    "id": "8BMr0hJsjM1c"
   },
   "outputs": [
    {
     "name": "stderr",
     "output_type": "stream",
     "text": [
      "/apps/project/ondemand/python/3.6-conda5.2/lib/python3.6/site-packages/ipykernel_launcher.py:4: FutureWarning:\n",
      "\n",
      "Method .as_matrix will be removed in a future version. Use .values instead.\n",
      "\n"
     ]
    }
   ],
   "source": [
    "from sklearn.utils import shuffle\n",
    "dfCombinedShuffle = shuffle(dfCombined,random_state=42)    # by setting the random state we will get reproducible results\n",
    "\n",
    "X = dfCombinedShuffle.as_matrix(columns=dfCombinedShuffle.columns[:num_features])\n",
    "y = dfCombinedShuffle['class'].values"
   ]
  },
  {
   "cell_type": "markdown",
   "metadata": {
    "colab_type": "text",
    "id": "BmJAtZwNn39r"
   },
   "source": [
    "# Training a single random forest, with k-fold validation.\n",
    "Let's train a single random forest estimator, including cross validation.   But first we have to define the settings for the random forest estimator.   Here is the call definition from sklearn:\n",
    "\n",
    "    class sklearn.ensemble.RandomForestClassifier(n_estimators=’warn’, criterion=’gini’, max_depth=None, min_samples_split=2, min_samples_leaf=1, min_weight_fraction_leaf=0.0, max_features=’auto’, max_leaf_nodes=None, min_impurity_decrease=0.0, min_impurity_split=None, bootstrap=True, oob_score=False, n_jobs=None, random_state=None, verbose=0, warm_start=False, class_weight=None)\n",
    "    \n",
    "You will notice many parameters which are there to control the individual trees in the forest, such as **max_depth**,  **max_leaf_nodes** etc.   These serve exaclty the same purpose as described in the decision tree workbook.  We will only modify one of these - the **max_depth**  of the trees.   \n",
    "\n",
    "The other primary parameter is **n_estimators** which is simply the number of trees in the forest.   We will typically set this to 100, but forests with 500, 1000, or even 5000 trees are not uncommon.   The bigger the forest the longer it will take to train.   This can be parallelized, which is what **n_jobs** is for.   For now, we will leave this and all of the other parameters at their default values, unless specified otherwise."
   ]
  },
  {
   "cell_type": "code",
   "execution_count": 8,
   "metadata": {
    "colab": {},
    "colab_type": "code",
    "id": "A6quxoM0oZyi"
   },
   "outputs": [],
   "source": [
    "from sklearn.model_selection import StratifiedKFold\n",
    "kfolds = 5\n",
    "skf = StratifiedKFold(n_splits=kfolds)"
   ]
  },
  {
   "cell_type": "code",
   "execution_count": 9,
   "metadata": {
    "colab": {},
    "colab_type": "code",
    "id": "6ByI13WOobjS"
   },
   "outputs": [
    {
     "name": "stdout",
     "output_type": "stream",
     "text": [
      "Training\n",
      "Training\n",
      "Training\n",
      "Training\n",
      "Training\n",
      "Precision train/test  0.987 0.972\n",
      "Recall train/test     0.926 0.913\n",
      "AUC train/test        0.993 0.976\n"
     ]
    }
   ],
   "source": [
    "from sklearn.ensemble import RandomForestClassifier\n",
    "estimator = RandomForestClassifier(n_estimators=100, max_depth=6,random_state=42)\n",
    "\n",
    "avg_precision_train = 0.0\n",
    "avg_recall_train = 0.0\n",
    "avg_auc_train = 0.0\n",
    "avg_precision_test = 0.0\n",
    "avg_recall_test = 0.0\n",
    "avg_auc_test = 0.0\n",
    "numSplits = 0.0\n",
    "#\n",
    "# Now loop\n",
    "for train_index, test_index in skf.split(X, y):\n",
    "  print(\"Training\")\n",
    "  numSplits += 1\n",
    "  X_train = X[train_index]\n",
    "  y_train = y[train_index]\n",
    "  X_test = X[test_index]\n",
    "  y_test = y[test_index]\n",
    "  \n",
    "#\n",
    "# Now fit to our training set\n",
    "  results = runFitter(estimator,X_train,y_train,X_test,y_test,debug=False)\n",
    "\n",
    "  avg_precision_train += results['precision_train']\n",
    "  avg_recall_train += results['recall_train']\n",
    "  avg_auc_train += results['auc_train']\n",
    "#\n",
    "  avg_precision_test += results['precision_test']\n",
    "  avg_recall_test += results['recall_test']\n",
    "  avg_auc_test += results['auc_test']\n",
    "#\n",
    "avg_precision_train /= numSplits\n",
    "avg_recall_train /= numSplits\n",
    "avg_auc_train /= numSplits\n",
    "avg_precision_test /= numSplits\n",
    "avg_recall_test /= numSplits\n",
    "avg_auc_test /= numSplits\n",
    "# \n",
    "# Now print\n",
    "print(\"Precision train/test \",round(avg_precision_train,3),round(avg_precision_test,3))\n",
    "print(\"Recall train/test    \",round(avg_recall_train,3),round(avg_recall_test,3))\n",
    "print(\"AUC train/test       \",round(avg_auc_train,3),round(avg_auc_test,3))"
   ]
  },
  {
   "cell_type": "markdown",
   "metadata": {
    "colab_type": "text",
    "id": "4mxLY47RPqZP"
   },
   "source": [
    "# Overfitting vs Underfitting\n",
    "As with decision trees, we would like to make our parameter choices such that we are neither significantly over or under-fitting our training data.   \n",
    "\n",
    "To keep things simple, we will again vary only one parameter - the max_depth of the trees in the forest.   To choose the optimal point, we will plot both training and testing error vs max_depth.   \n",
    "\n",
    "We will again use 1-precision, 1-recall, and 1-AUC, as a measure of the **error** in our models."
   ]
  },
  {
   "cell_type": "code",
   "execution_count": 10,
   "metadata": {
    "colab": {},
    "colab_type": "code",
    "id": "eg-04NVuRD0j"
   },
   "outputs": [
    {
     "name": "stdout",
     "output_type": "stream",
     "text": [
      "training with max depth = 1\n",
      "training with max depth = 2\n",
      "training with max depth = 3\n",
      "training with max depth = 4\n",
      "training with max depth = 5\n",
      "training with max depth = 6\n",
      "training with max depth = 7\n",
      "training with max depth = 8\n",
      "training with max depth = 9\n",
      "training with max depth = 10\n",
      "training with max depth = 11\n",
      "training with max depth = 12\n",
      "training with max depth = 13\n",
      "training with max depth = 14\n",
      "training with max depth = 15\n",
      "training with max depth = 16\n",
      "training with max depth = 17\n",
      "training with max depth = 18\n",
      "training with max depth = 19\n",
      "<bound method NDFrame.head of     max_depth  trainError_pre  testError_pre  trainError_rec  testError_rec  \\\n",
      "0         1.0        0.028581       0.028632        0.129347       0.131802   \n",
      "1         2.0        0.018795       0.021595        0.116230       0.117767   \n",
      "2         3.0        0.021729       0.025693        0.093961       0.099461   \n",
      "3         4.0        0.023982       0.027947        0.081453       0.089699   \n",
      "4         5.0        0.020762       0.027815        0.079165       0.086649   \n",
      "5         6.0        0.013315       0.027843        0.074131       0.087260   \n",
      "6         7.0        0.008747       0.027711        0.068639       0.084821   \n",
      "7         8.0        0.003714       0.028256        0.061166       0.084212   \n",
      "8         9.0        0.000642       0.029608        0.052776       0.084210   \n",
      "9        10.0        0.000159       0.028968        0.040421       0.084212   \n",
      "10       11.0        0.000000       0.029587        0.026999       0.083602   \n",
      "11       12.0        0.000000       0.029556        0.015559       0.083602   \n",
      "12       13.0        0.000000       0.028274        0.007169       0.083602   \n",
      "13       14.0        0.000000       0.030699        0.002746       0.082990   \n",
      "14       15.0        0.000000       0.030836        0.000763       0.084212   \n",
      "15       16.0        0.000000       0.030234        0.000000       0.085433   \n",
      "16       17.0        0.000000       0.031415        0.000000       0.084823   \n",
      "17       18.0        0.000000       0.030842        0.000000       0.083602   \n",
      "18       19.0        0.000000       0.031423        0.000000       0.083602   \n",
      "\n",
      "    trainError_auc  testError_auc  \n",
      "0         0.045587       0.047303  \n",
      "1         0.029828       0.031723  \n",
      "2         0.022834       0.027253  \n",
      "3         0.016953       0.025227  \n",
      "4         0.011757       0.023978  \n",
      "5         0.006930       0.023944  \n",
      "6         0.003487       0.023698  \n",
      "7         0.001739       0.023529  \n",
      "8         0.000758       0.024796  \n",
      "9         0.000288       0.023876  \n",
      "10        0.000072       0.024491  \n",
      "11        0.000012       0.024866  \n",
      "12        0.000001       0.024515  \n",
      "13        0.000000       0.024452  \n",
      "14        0.000000       0.024963  \n",
      "15        0.000000       0.024963  \n",
      "16        0.000000       0.024876  \n",
      "17        0.000000       0.024713  \n",
      "18        0.000000       0.024582  >\n"
     ]
    }
   ],
   "source": [
    "#\n",
    "# Get our estimator and predict\n",
    "from sklearn.ensemble import RandomForestClassifier\n",
    "import pandas as pd\n",
    "#\n",
    "# Create a dataframe to store our results\n",
    "dfError = pd.DataFrame(columns=['max_depth','trainError_pre','testError_pre',\n",
    "                                    'trainError_rec','testError_rec',\n",
    "                                    'trainError_auc','testError_auc'])\n",
    "\n",
    "for max_depth in range(1,20):\n",
    "  print(\"training with max depth =\",max_depth)\n",
    "  estimator = RandomForestClassifier(n_estimators=100,random_state=42,max_depth=max_depth)\n",
    "  avg_precision_train = 0.0\n",
    "  avg_recall_train = 0.0\n",
    "  avg_auc_train = 0.0\n",
    "  avg_precision_test = 0.0\n",
    "  avg_recall_test = 0.0\n",
    "  avg_auc_test = 0.0\n",
    "  numSplits = 0.0\n",
    "#\n",
    "# Now loop\n",
    "  for train_index, test_index in skf.split(X, y):\n",
    "    numSplits += 1\n",
    "    X_train = X[train_index]\n",
    "    y_train = y[train_index]\n",
    "    X_test = X[test_index]\n",
    "    y_test = y[test_index]\n",
    "\n",
    "#\n",
    "# Now fit to our training set\n",
    "    results = runFitter(estimator,X_train,y_train,X_test,y_test,debug=False)\n",
    "    #print(\"results\",results)\n",
    "\n",
    "    avg_precision_train += results['precision_train']\n",
    "    avg_recall_train += results['recall_train']\n",
    "    avg_auc_train += results['auc_train']\n",
    "#\n",
    "    avg_precision_test += results['precision_test']\n",
    "    avg_recall_test += results['recall_test']\n",
    "    avg_auc_test += results['auc_test']\n",
    "#\n",
    "  avg_precision_train /= numSplits\n",
    "  avg_recall_train /= numSplits\n",
    "  avg_auc_train /= numSplits\n",
    "  avg_precision_test /= numSplits\n",
    "  avg_recall_test /= numSplits\n",
    "  avg_auc_test /= numSplits\n",
    "#\n",
    "# Fill dataframe\n",
    "  dfError = dfError.append({\n",
    "     'max_depth':max_depth,\n",
    "     'trainError_pre':1.0-avg_precision_train,'testError_pre':1.0-avg_precision_test,\n",
    "     'trainError_rec':1.0-avg_recall_train,'testError_rec':1.0-avg_recall_test,\n",
    "     'trainError_auc':1.0-avg_auc_train,'testError_auc':1.0-avg_auc_test\n",
    "      }, ignore_index=True)\n",
    "# \n",
    "# Now print\n",
    "print(dfError.head)"
   ]
  },
  {
   "cell_type": "markdown",
   "metadata": {
    "colab_type": "text",
    "id": "bBV3cwhiTYyC"
   },
   "source": [
    "# Plotting results\n",
    "\n",
    "Lets look at the error measures:\n",
    "1.  train/test Error using precision: remember that **precision** = TP/(TP+FP) = \"Total actual positive found as positive\" / \"Total our model identified as positive\".   It is the fraction of identified postives that are truly positive.   **(1-precision)** is then the **error** - the fraction of our identified postives that are incorrect.\n",
    "2.  train/test Error using recall: remember that **recall** = TP/(TP+FN) = \"Total actual positive found as positive\" / \"Total actual positive\".   It is the fraction of actual positives that our model managed to identify.   **(1-recall)** is then the **error** - the fraction of actual postives that we failed to identify.\n",
    "3.  train/test Error using AUC: remember that AUC measures the probability that a randomly chosen positive example is properly ranked above a randomly chosen negative example.   **(1-AUC)** is then the probability that we will fail to do this."
   ]
  },
  {
   "cell_type": "code",
   "execution_count": 11,
   "metadata": {
    "colab": {},
    "colab_type": "code",
    "id": "tmvKv77hToRD"
   },
   "outputs": [
    {
     "data": {
      "application/vnd.plotly.v1+json": {
       "config": {
        "linkText": "Export to plot.ly",
        "plotlyServerURL": "https://plot.ly",
        "showLink": false
       },
       "data": [
        {
         "mode": "lines",
         "name": "Training error",
         "type": "scatter",
         "x": [
          1,
          2,
          3,
          4,
          5,
          6,
          7,
          8,
          9,
          10,
          11,
          12,
          13,
          14,
          15,
          16,
          17,
          18,
          19
         ],
         "y": [
          0.02858058446179168,
          0.01879482237456931,
          0.021729339410364368,
          0.02398180409918904,
          0.020761950200916424,
          0.013314835862003216,
          0.008747070360807463,
          0.0037139961627767892,
          0.0006421903490272385,
          0.00015923566878972562,
          0,
          0,
          0,
          0,
          0,
          0,
          0,
          0,
          0
         ]
        },
        {
         "mode": "lines",
         "name": "Testing Error",
         "type": "scatter",
         "x": [
          1,
          2,
          3,
          4,
          5,
          6,
          7,
          8,
          9,
          10,
          11,
          12,
          13,
          14,
          15,
          16,
          17,
          18,
          19
         ],
         "y": [
          0.028632481106625973,
          0.021594910324231775,
          0.025693389399271793,
          0.027947414307944562,
          0.027815158560569153,
          0.0278431737651339,
          0.027711433773782046,
          0.028256260053521443,
          0.02960828918702829,
          0.028968113165579235,
          0.02958736090686709,
          0.029555505632370194,
          0.028274146987670057,
          0.03069877032433721,
          0.030835988876771858,
          0.03023418225925989,
          0.031415473212738854,
          0.030841742554231444,
          0.03142325107693722
         ]
        }
       ],
       "layout": {
        "title": "Error (Precision) vs Model Complexity",
        "xaxis": {
         "title": "max_depth"
        },
        "yaxis": {
         "title": "Error (fraction)"
        }
       }
      },
      "text/html": [
       "<div id=\"2ed50e38-2dea-4d79-a760-0ce74539b423\" style=\"height: 525px; width: 100%;\" class=\"plotly-graph-div\"></div><script type=\"text/javascript\">require([\"plotly\"], function(Plotly) { window.PLOTLYENV=window.PLOTLYENV || {};window.PLOTLYENV.BASE_URL=\"https://plot.ly\";Plotly.newPlot(\"2ed50e38-2dea-4d79-a760-0ce74539b423\", [{\"mode\": \"lines\", \"name\": \"Training error\", \"x\": [1.0, 2.0, 3.0, 4.0, 5.0, 6.0, 7.0, 8.0, 9.0, 10.0, 11.0, 12.0, 13.0, 14.0, 15.0, 16.0, 17.0, 18.0, 19.0], \"y\": [0.02858058446179168, 0.01879482237456931, 0.021729339410364368, 0.02398180409918904, 0.020761950200916424, 0.013314835862003216, 0.008747070360807463, 0.0037139961627767892, 0.0006421903490272385, 0.00015923566878972562, 0.0, 0.0, 0.0, 0.0, 0.0, 0.0, 0.0, 0.0, 0.0], \"type\": \"scatter\"}, {\"mode\": \"lines\", \"name\": \"Testing Error\", \"x\": [1.0, 2.0, 3.0, 4.0, 5.0, 6.0, 7.0, 8.0, 9.0, 10.0, 11.0, 12.0, 13.0, 14.0, 15.0, 16.0, 17.0, 18.0, 19.0], \"y\": [0.028632481106625973, 0.021594910324231775, 0.025693389399271793, 0.027947414307944562, 0.027815158560569153, 0.0278431737651339, 0.027711433773782046, 0.028256260053521443, 0.02960828918702829, 0.028968113165579235, 0.02958736090686709, 0.029555505632370194, 0.028274146987670057, 0.03069877032433721, 0.030835988876771858, 0.03023418225925989, 0.031415473212738854, 0.030841742554231444, 0.03142325107693722], \"type\": \"scatter\"}], {\"title\": \"Error (Precision) vs Model Complexity\", \"xaxis\": {\"title\": \"max_depth\"}, \"yaxis\": {\"title\": \"Error (fraction)\"}}, {\"showLink\": false, \"linkText\": \"Export to plot.ly\", \"plotlyServerURL\": \"https://plot.ly\"})});</script><script type=\"text/javascript\">window.addEventListener(\"resize\", function(){window._Plotly.Plots.resize(document.getElementById(\"2ed50e38-2dea-4d79-a760-0ce74539b423\"));});</script>"
      ],
      "text/vnd.plotly.v1+html": [
       "<div id=\"2ed50e38-2dea-4d79-a760-0ce74539b423\" style=\"height: 525px; width: 100%;\" class=\"plotly-graph-div\"></div><script type=\"text/javascript\">require([\"plotly\"], function(Plotly) { window.PLOTLYENV=window.PLOTLYENV || {};window.PLOTLYENV.BASE_URL=\"https://plot.ly\";Plotly.newPlot(\"2ed50e38-2dea-4d79-a760-0ce74539b423\", [{\"mode\": \"lines\", \"name\": \"Training error\", \"x\": [1.0, 2.0, 3.0, 4.0, 5.0, 6.0, 7.0, 8.0, 9.0, 10.0, 11.0, 12.0, 13.0, 14.0, 15.0, 16.0, 17.0, 18.0, 19.0], \"y\": [0.02858058446179168, 0.01879482237456931, 0.021729339410364368, 0.02398180409918904, 0.020761950200916424, 0.013314835862003216, 0.008747070360807463, 0.0037139961627767892, 0.0006421903490272385, 0.00015923566878972562, 0.0, 0.0, 0.0, 0.0, 0.0, 0.0, 0.0, 0.0, 0.0], \"type\": \"scatter\"}, {\"mode\": \"lines\", \"name\": \"Testing Error\", \"x\": [1.0, 2.0, 3.0, 4.0, 5.0, 6.0, 7.0, 8.0, 9.0, 10.0, 11.0, 12.0, 13.0, 14.0, 15.0, 16.0, 17.0, 18.0, 19.0], \"y\": [0.028632481106625973, 0.021594910324231775, 0.025693389399271793, 0.027947414307944562, 0.027815158560569153, 0.0278431737651339, 0.027711433773782046, 0.028256260053521443, 0.02960828918702829, 0.028968113165579235, 0.02958736090686709, 0.029555505632370194, 0.028274146987670057, 0.03069877032433721, 0.030835988876771858, 0.03023418225925989, 0.031415473212738854, 0.030841742554231444, 0.03142325107693722], \"type\": \"scatter\"}], {\"title\": \"Error (Precision) vs Model Complexity\", \"xaxis\": {\"title\": \"max_depth\"}, \"yaxis\": {\"title\": \"Error (fraction)\"}}, {\"showLink\": false, \"linkText\": \"Export to plot.ly\", \"plotlyServerURL\": \"https://plot.ly\"})});</script><script type=\"text/javascript\">window.addEventListener(\"resize\", function(){window._Plotly.Plots.resize(document.getElementById(\"2ed50e38-2dea-4d79-a760-0ce74539b423\"));});</script>"
      ]
     },
     "metadata": {},
     "output_type": "display_data"
    },
    {
     "data": {
      "application/vnd.plotly.v1+json": {
       "config": {
        "linkText": "Export to plot.ly",
        "plotlyServerURL": "https://plot.ly",
        "showLink": false
       },
       "data": [
        {
         "mode": "lines",
         "name": "Training error",
         "type": "scatter",
         "x": [
          1,
          2,
          3,
          4,
          5,
          6,
          7,
          8,
          9,
          10,
          11,
          12,
          13,
          14,
          15,
          16,
          17,
          18,
          19
         ],
         "y": [
          0.12934736097933064,
          0.1162301631597551,
          0.09396104258525428,
          0.08145278692489444,
          0.07916457368235008,
          0.07413083012409061,
          0.06863942066194118,
          0.061165606221279645,
          0.05277622741902488,
          0.04042145727521351,
          0.026998800022325242,
          0.015558780301761721,
          0.007168936391881098,
          0.0027455303157151167,
          0.0007625439526706135,
          0,
          0,
          0,
          0
         ]
        },
        {
         "mode": "lines",
         "name": "Testing Error",
         "type": "scatter",
         "x": [
          1,
          2,
          3,
          4,
          5,
          6,
          7,
          8,
          9,
          10,
          11,
          12,
          13,
          14,
          15,
          16,
          17,
          18,
          19
         ],
         "y": [
          0.13180241664801962,
          0.11776683821884093,
          0.09946110240918915,
          0.08969941075557541,
          0.08664876557022438,
          0.08726038636533162,
          0.0848213619750876,
          0.08421160587752663,
          0.08420974117998059,
          0.08421160587752685,
          0.08360184977996565,
          0.08360184977996565,
          0.08360184977996565,
          0.08299022898485864,
          0.08421160587752663,
          0.08543298277019462,
          0.08482322667263364,
          0.08360184977996565,
          0.08360184977996565
         ]
        }
       ],
       "layout": {
        "title": "Error (Recall) vs Model Complexity",
        "xaxis": {
         "title": "max_depth"
        },
        "yaxis": {
         "title": "Error (fraction)"
        }
       }
      },
      "text/html": [
       "<div id=\"99c01ddf-58f2-4b97-923b-917f173bf0e2\" style=\"height: 525px; width: 100%;\" class=\"plotly-graph-div\"></div><script type=\"text/javascript\">require([\"plotly\"], function(Plotly) { window.PLOTLYENV=window.PLOTLYENV || {};window.PLOTLYENV.BASE_URL=\"https://plot.ly\";Plotly.newPlot(\"99c01ddf-58f2-4b97-923b-917f173bf0e2\", [{\"mode\": \"lines\", \"name\": \"Training error\", \"x\": [1.0, 2.0, 3.0, 4.0, 5.0, 6.0, 7.0, 8.0, 9.0, 10.0, 11.0, 12.0, 13.0, 14.0, 15.0, 16.0, 17.0, 18.0, 19.0], \"y\": [0.12934736097933064, 0.1162301631597551, 0.09396104258525428, 0.08145278692489444, 0.07916457368235008, 0.07413083012409061, 0.06863942066194118, 0.061165606221279645, 0.05277622741902488, 0.04042145727521351, 0.026998800022325242, 0.015558780301761721, 0.007168936391881098, 0.0027455303157151167, 0.0007625439526706135, 0.0, 0.0, 0.0, 0.0], \"type\": \"scatter\"}, {\"mode\": \"lines\", \"name\": \"Testing Error\", \"x\": [1.0, 2.0, 3.0, 4.0, 5.0, 6.0, 7.0, 8.0, 9.0, 10.0, 11.0, 12.0, 13.0, 14.0, 15.0, 16.0, 17.0, 18.0, 19.0], \"y\": [0.13180241664801962, 0.11776683821884093, 0.09946110240918915, 0.08969941075557541, 0.08664876557022438, 0.08726038636533162, 0.0848213619750876, 0.08421160587752663, 0.08420974117998059, 0.08421160587752685, 0.08360184977996565, 0.08360184977996565, 0.08360184977996565, 0.08299022898485864, 0.08421160587752663, 0.08543298277019462, 0.08482322667263364, 0.08360184977996565, 0.08360184977996565], \"type\": \"scatter\"}], {\"title\": \"Error (Recall) vs Model Complexity\", \"xaxis\": {\"title\": \"max_depth\"}, \"yaxis\": {\"title\": \"Error (fraction)\"}}, {\"showLink\": false, \"linkText\": \"Export to plot.ly\", \"plotlyServerURL\": \"https://plot.ly\"})});</script><script type=\"text/javascript\">window.addEventListener(\"resize\", function(){window._Plotly.Plots.resize(document.getElementById(\"99c01ddf-58f2-4b97-923b-917f173bf0e2\"));});</script>"
      ],
      "text/vnd.plotly.v1+html": [
       "<div id=\"99c01ddf-58f2-4b97-923b-917f173bf0e2\" style=\"height: 525px; width: 100%;\" class=\"plotly-graph-div\"></div><script type=\"text/javascript\">require([\"plotly\"], function(Plotly) { window.PLOTLYENV=window.PLOTLYENV || {};window.PLOTLYENV.BASE_URL=\"https://plot.ly\";Plotly.newPlot(\"99c01ddf-58f2-4b97-923b-917f173bf0e2\", [{\"mode\": \"lines\", \"name\": \"Training error\", \"x\": [1.0, 2.0, 3.0, 4.0, 5.0, 6.0, 7.0, 8.0, 9.0, 10.0, 11.0, 12.0, 13.0, 14.0, 15.0, 16.0, 17.0, 18.0, 19.0], \"y\": [0.12934736097933064, 0.1162301631597551, 0.09396104258525428, 0.08145278692489444, 0.07916457368235008, 0.07413083012409061, 0.06863942066194118, 0.061165606221279645, 0.05277622741902488, 0.04042145727521351, 0.026998800022325242, 0.015558780301761721, 0.007168936391881098, 0.0027455303157151167, 0.0007625439526706135, 0.0, 0.0, 0.0, 0.0], \"type\": \"scatter\"}, {\"mode\": \"lines\", \"name\": \"Testing Error\", \"x\": [1.0, 2.0, 3.0, 4.0, 5.0, 6.0, 7.0, 8.0, 9.0, 10.0, 11.0, 12.0, 13.0, 14.0, 15.0, 16.0, 17.0, 18.0, 19.0], \"y\": [0.13180241664801962, 0.11776683821884093, 0.09946110240918915, 0.08969941075557541, 0.08664876557022438, 0.08726038636533162, 0.0848213619750876, 0.08421160587752663, 0.08420974117998059, 0.08421160587752685, 0.08360184977996565, 0.08360184977996565, 0.08360184977996565, 0.08299022898485864, 0.08421160587752663, 0.08543298277019462, 0.08482322667263364, 0.08360184977996565, 0.08360184977996565], \"type\": \"scatter\"}], {\"title\": \"Error (Recall) vs Model Complexity\", \"xaxis\": {\"title\": \"max_depth\"}, \"yaxis\": {\"title\": \"Error (fraction)\"}}, {\"showLink\": false, \"linkText\": \"Export to plot.ly\", \"plotlyServerURL\": \"https://plot.ly\"})});</script><script type=\"text/javascript\">window.addEventListener(\"resize\", function(){window._Plotly.Plots.resize(document.getElementById(\"99c01ddf-58f2-4b97-923b-917f173bf0e2\"));});</script>"
      ]
     },
     "metadata": {},
     "output_type": "display_data"
    },
    {
     "data": {
      "application/vnd.plotly.v1+json": {
       "config": {
        "linkText": "Export to plot.ly",
        "plotlyServerURL": "https://plot.ly",
        "showLink": false
       },
       "data": [
        {
         "mode": "lines",
         "name": "Training error",
         "type": "scatter",
         "x": [
          1,
          2,
          3,
          4,
          5,
          6,
          7,
          8,
          9,
          10,
          11,
          12,
          13,
          14,
          15,
          16,
          17,
          18,
          19
         ],
         "y": [
          0.04558702446182605,
          0.0298282779003598,
          0.02283374098235902,
          0.01695348831028487,
          0.011756812631431357,
          0.0069301651748651105,
          0.003487436374808084,
          0.0017394345812803413,
          0.0007582622748486534,
          0.0002881519455579795,
          7.166117241241832e-05,
          1.1745832817267043e-05,
          1.0469357599740547e-06,
          0,
          0,
          0,
          0,
          0,
          0
         ]
        },
        {
         "mode": "lines",
         "name": "Testing Error",
         "type": "scatter",
         "x": [
          1,
          2,
          3,
          4,
          5,
          6,
          7,
          8,
          9,
          10,
          11,
          12,
          13,
          14,
          15,
          16,
          17,
          18,
          19
         ],
         "y": [
          0.047303364156239924,
          0.03172280256778204,
          0.02725325826966729,
          0.0252271609857051,
          0.023978436960321536,
          0.02394377335499942,
          0.02369827837602201,
          0.023529021407395434,
          0.024796472207614273,
          0.023875812643452177,
          0.024491056112853515,
          0.024865890535583524,
          0.0245149215067062,
          0.024451635369511893,
          0.024962589079537856,
          0.02496349011705301,
          0.024875763517635763,
          0.024712504923708467,
          0.024582477962270866
         ]
        }
       ],
       "layout": {
        "title": "Error (AUC) vs Model Complexity",
        "xaxis": {
         "title": "max_depth"
        },
        "yaxis": {
         "title": "Error (fraction)"
        }
       }
      },
      "text/html": [
       "<div id=\"8be5cc5a-0308-441b-8d25-152270e7f880\" style=\"height: 525px; width: 100%;\" class=\"plotly-graph-div\"></div><script type=\"text/javascript\">require([\"plotly\"], function(Plotly) { window.PLOTLYENV=window.PLOTLYENV || {};window.PLOTLYENV.BASE_URL=\"https://plot.ly\";Plotly.newPlot(\"8be5cc5a-0308-441b-8d25-152270e7f880\", [{\"mode\": \"lines\", \"name\": \"Training error\", \"x\": [1.0, 2.0, 3.0, 4.0, 5.0, 6.0, 7.0, 8.0, 9.0, 10.0, 11.0, 12.0, 13.0, 14.0, 15.0, 16.0, 17.0, 18.0, 19.0], \"y\": [0.04558702446182605, 0.0298282779003598, 0.02283374098235902, 0.01695348831028487, 0.011756812631431357, 0.0069301651748651105, 0.003487436374808084, 0.0017394345812803413, 0.0007582622748486534, 0.0002881519455579795, 7.166117241241832e-05, 1.1745832817267043e-05, 1.0469357599740547e-06, 0.0, 0.0, 0.0, 0.0, 0.0, 0.0], \"type\": \"scatter\"}, {\"mode\": \"lines\", \"name\": \"Testing Error\", \"x\": [1.0, 2.0, 3.0, 4.0, 5.0, 6.0, 7.0, 8.0, 9.0, 10.0, 11.0, 12.0, 13.0, 14.0, 15.0, 16.0, 17.0, 18.0, 19.0], \"y\": [0.047303364156239924, 0.03172280256778204, 0.02725325826966729, 0.0252271609857051, 0.023978436960321536, 0.02394377335499942, 0.02369827837602201, 0.023529021407395434, 0.024796472207614273, 0.023875812643452177, 0.024491056112853515, 0.024865890535583524, 0.0245149215067062, 0.024451635369511893, 0.024962589079537856, 0.02496349011705301, 0.024875763517635763, 0.024712504923708467, 0.024582477962270866], \"type\": \"scatter\"}], {\"title\": \"Error (AUC) vs Model Complexity\", \"xaxis\": {\"title\": \"max_depth\"}, \"yaxis\": {\"title\": \"Error (fraction)\"}}, {\"showLink\": false, \"linkText\": \"Export to plot.ly\", \"plotlyServerURL\": \"https://plot.ly\"})});</script><script type=\"text/javascript\">window.addEventListener(\"resize\", function(){window._Plotly.Plots.resize(document.getElementById(\"8be5cc5a-0308-441b-8d25-152270e7f880\"));});</script>"
      ],
      "text/vnd.plotly.v1+html": [
       "<div id=\"8be5cc5a-0308-441b-8d25-152270e7f880\" style=\"height: 525px; width: 100%;\" class=\"plotly-graph-div\"></div><script type=\"text/javascript\">require([\"plotly\"], function(Plotly) { window.PLOTLYENV=window.PLOTLYENV || {};window.PLOTLYENV.BASE_URL=\"https://plot.ly\";Plotly.newPlot(\"8be5cc5a-0308-441b-8d25-152270e7f880\", [{\"mode\": \"lines\", \"name\": \"Training error\", \"x\": [1.0, 2.0, 3.0, 4.0, 5.0, 6.0, 7.0, 8.0, 9.0, 10.0, 11.0, 12.0, 13.0, 14.0, 15.0, 16.0, 17.0, 18.0, 19.0], \"y\": [0.04558702446182605, 0.0298282779003598, 0.02283374098235902, 0.01695348831028487, 0.011756812631431357, 0.0069301651748651105, 0.003487436374808084, 0.0017394345812803413, 0.0007582622748486534, 0.0002881519455579795, 7.166117241241832e-05, 1.1745832817267043e-05, 1.0469357599740547e-06, 0.0, 0.0, 0.0, 0.0, 0.0, 0.0], \"type\": \"scatter\"}, {\"mode\": \"lines\", \"name\": \"Testing Error\", \"x\": [1.0, 2.0, 3.0, 4.0, 5.0, 6.0, 7.0, 8.0, 9.0, 10.0, 11.0, 12.0, 13.0, 14.0, 15.0, 16.0, 17.0, 18.0, 19.0], \"y\": [0.047303364156239924, 0.03172280256778204, 0.02725325826966729, 0.0252271609857051, 0.023978436960321536, 0.02394377335499942, 0.02369827837602201, 0.023529021407395434, 0.024796472207614273, 0.023875812643452177, 0.024491056112853515, 0.024865890535583524, 0.0245149215067062, 0.024451635369511893, 0.024962589079537856, 0.02496349011705301, 0.024875763517635763, 0.024712504923708467, 0.024582477962270866], \"type\": \"scatter\"}], {\"title\": \"Error (AUC) vs Model Complexity\", \"xaxis\": {\"title\": \"max_depth\"}, \"yaxis\": {\"title\": \"Error (fraction)\"}}, {\"showLink\": false, \"linkText\": \"Export to plot.ly\", \"plotlyServerURL\": \"https://plot.ly\"})});</script><script type=\"text/javascript\">window.addEventListener(\"resize\", function(){window._Plotly.Plots.resize(document.getElementById(\"8be5cc5a-0308-441b-8d25-152270e7f880\"));});</script>"
      ]
     },
     "metadata": {},
     "output_type": "display_data"
    }
   ],
   "source": [
    "import plotly.plotly as py\n",
    "import numpy as np\n",
    "from plotly.offline import iplot\n",
    "import plotly.graph_objs as go\n",
    "\n",
    "# Create a trace\n",
    "trace1 = go.Scatter(\n",
    "    x = dfError['max_depth'],\n",
    "    y = dfError['trainError_pre'],\n",
    "    mode = 'lines',\n",
    "    name = \"Training error\"\n",
    ")\n",
    "# Create a trace\n",
    "trace2 = go.Scatter(\n",
    "    x = dfError['max_depth'],\n",
    "    y = dfError['testError_pre'],\n",
    "    mode = 'lines',\n",
    "    name = \"Testing Error\"\n",
    ")\n",
    "\n",
    "layout = dict(\n",
    "    title='Error (Precision) vs Model Complexity',\n",
    "    xaxis=dict(title='max_depth'),\n",
    "    yaxis=dict(title='Error (fraction)')\n",
    ")\n",
    "\n",
    "data = [trace1, trace2]\n",
    "iplot(dict(data=data,layout=layout),validate=False)\n",
    "\n",
    "# Create a trace\n",
    "trace1 = go.Scatter(\n",
    "    x = dfError['max_depth'],\n",
    "    y = dfError['trainError_rec'],\n",
    "    mode = 'lines',\n",
    "    name = \"Training error\"\n",
    ")\n",
    "# Create a trace\n",
    "trace2 = go.Scatter(\n",
    "    x = dfError['max_depth'],\n",
    "    y = dfError['testError_rec'],\n",
    "    mode = 'lines',\n",
    "    name = \"Testing Error\"\n",
    ")\n",
    "\n",
    "layout = dict(\n",
    "    title='Error (Recall) vs Model Complexity',\n",
    "    xaxis=dict(title='max_depth'),\n",
    "    yaxis=dict(title='Error (fraction)')\n",
    ")\n",
    "\n",
    "data = [trace1, trace2]\n",
    "iplot(dict(data=data,layout=layout),validate=False)\n",
    "# Create a trace\n",
    "trace1 = go.Scatter(\n",
    "    x = dfError['max_depth'],\n",
    "    y = dfError['trainError_auc'],\n",
    "    mode = 'lines',\n",
    "    name = \"Training error\"\n",
    ")\n",
    "# Create a trace\n",
    "trace2 = go.Scatter(\n",
    "    x = dfError['max_depth'],\n",
    "    y = dfError['testError_auc'],\n",
    "    mode = 'lines',\n",
    "    name = \"Testing Error\"\n",
    ")\n",
    "\n",
    "layout = dict(\n",
    "    title='Error (AUC) vs Model Complexity',\n",
    "    xaxis=dict(title='max_depth'),\n",
    "    yaxis=dict(title='Error (fraction)')\n",
    ")\n",
    "\n",
    "data = [trace1, trace2]\n",
    "iplot(dict(data=data,layout=layout),validate=False)\n"
   ]
  },
  {
   "cell_type": "markdown",
   "metadata": {
    "colab_type": "text",
    "id": "gZF3LyIWHV_m"
   },
   "source": [
    "# Feature Importance (1)\n",
    "A very useful property of random forests is that they can be used to assess **feature importance**.   To get this from a trained random forest, we need to first train a single random forest, using our optimal settings for our hyperparameters.\n",
    "\n",
    "Note that in the code below:\n",
    "1.  We call runFitter once.\n",
    "2.  We feed runFitter the same X,y arrays for both training and testing (since we don't really care about the testing set anymore).\n",
    "3.  Remember that the expected performance is **not** the result printed out below, but the avereged result from k-fold validation from above (at our optimal hyperparameter settings).\n"
   ]
  },
  {
   "cell_type": "code",
   "execution_count": 12,
   "metadata": {
    "colab": {},
    "colab_type": "code",
    "id": "vAUqquMXt2tK"
   },
   "outputs": [
    {
     "name": "stderr",
     "output_type": "stream",
     "text": [
      "/apps/project/ondemand/python/3.6-conda5.2/lib/python3.6/site-packages/ipykernel_launcher.py:4: FutureWarning:\n",
      "\n",
      "Method .as_matrix will be removed in a future version. Use .values instead.\n",
      "\n"
     ]
    },
    {
     "name": "stdout",
     "output_type": "stream",
     "text": [
      "Precision: 0.9837239583333334\n",
      "Recall:    0.9219035997559487\n",
      "AUC:       0.9918978409505044\n"
     ]
    }
   ],
   "source": [
    "from sklearn.utils import shuffle\n",
    "dfCombinedShuffle = shuffle(dfCombined,random_state=42)    # by setting the random state we will get reproducible results\n",
    "\n",
    "X = dfCombinedShuffle.as_matrix(columns=dfCombinedShuffle.columns[:num_features])\n",
    "y = dfCombinedShuffle['class'].values\n",
    "\n",
    "from sklearn.ensemble import RandomForestClassifier\n",
    "estimator = RandomForestClassifier(n_estimators=100, max_depth=6,random_state=42,oob_score=True)\n",
    "\n",
    "results = runFitter(estimator,X,y,X,y,debug=False)\n",
    "\n",
    "print(\"Precision:\",results['precision_train'])\n",
    "print(\"Recall:   \",results['recall_train'])\n",
    "print(\"AUC:      \",results['auc_train'])\n"
   ]
  },
  {
   "cell_type": "markdown",
   "metadata": {
    "colab_type": "text",
    "id": "SkyPt0Ab7jjb"
   },
   "source": [
    "# Feature Importance (2)\n",
    "Now that we have trained our random forest estimator, we can get the list of feature importances by accessing the **attribute** of our estimator like this:\n",
    "    * estimator.feature_importances_\n",
    "\n",
    "This is a **list**, ordered exactly as our features that we fed to the estimator - so it has the same order as **dfCombinedShuffle.columns** (up to but not including the **class** column).\n",
    "\n",
    "The code below shows how to access the feaure importance, as well as how to order it from maximum to minimum.\n",
    "\n",
    "There is a very interesting discussion of issues around the calculation of feature importances here:  https://explained.ai/rf-importance/index.html"
   ]
  },
  {
   "cell_type": "code",
   "execution_count": 13,
   "metadata": {
    "colab": {},
    "colab_type": "code",
    "id": "zDK4jv8cwBk_"
   },
   "outputs": [
    {
     "name": "stdout",
     "output_type": "stream",
     "text": [
      "unsorted importance\n",
      "Name,importance Profile_mean 0.165\n",
      "Name,importance Profile_stdev 0.015\n",
      "Name,importance Profile_skewness 0.459\n",
      "Name,importance Profile_kurtosis 0.182\n",
      "Name,importance DM_mean 0.068\n",
      "Name,importance DM_stdev 0.066\n",
      "Name,importance DM_skewness 0.019\n",
      "Name,importance DM_kurtosis 0.022\n",
      "Name,importance random 0.006\n",
      "\n",
      "Sorted importance\n",
      "Name,importance Profile_skewness 0.459\n",
      "Name,importance Profile_kurtosis 0.182\n",
      "Name,importance Profile_mean 0.165\n",
      "Name,importance DM_mean 0.068\n",
      "Name,importance DM_stdev 0.066\n",
      "Name,importance DM_kurtosis 0.022\n",
      "Name,importance DM_skewness 0.019\n",
      "Name,importance Profile_stdev 0.015\n",
      "Name,importance random 0.006\n"
     ]
    }
   ],
   "source": [
    "importanceByName = {}\n",
    "print(\"unsorted importance\")\n",
    "for name,importance in zip(dfCombinedShuffle.columns[:num_features],estimator.feature_importances_):\n",
    "  importanceByName[name] = importance\n",
    "  print(\"Name,importance\",name,round(importance,3))\n",
    "#\n",
    "# Now sort and print\n",
    "print()\n",
    "print(\"Sorted importance\")\n",
    "for name in sorted(importanceByName, key=importanceByName.get, reverse=True):\n",
    "  print(\"Name,importance\",name,round(importanceByName[name],3))\n"
   ]
  },
  {
   "cell_type": "markdown",
   "metadata": {
    "colab_type": "text",
    "id": "Hrc3GGnT9P17"
   },
   "source": [
    "# Additional things to try:\n",
    "Here are some things to explore to make sure you understand how things work:\n",
    "1.   You can add a second random variable to the features.   Do both random features end up at the bottom of importances?\n",
    "2.  You can remove the random variable and make sure your results are unaffected.\n",
    "3.   You can try different settings of trees: ntrees=10, or ntrees=200.   How much do your results change?"
   ]
  }
 ],
 "metadata": {
  "colab": {
   "collapsed_sections": [],
   "name": "forest_htru2.ipynb",
   "provenance": [],
   "toc_visible": true,
   "version": "0.3.2"
  },
  "kernelspec": {
   "display_name": "Python 3",
   "language": "python",
   "name": "python3"
  },
  "language_info": {
   "codemirror_mode": {
    "name": "ipython",
    "version": 3
   },
   "file_extension": ".py",
   "mimetype": "text/x-python",
   "name": "python",
   "nbconvert_exporter": "python",
   "pygments_lexer": "ipython3",
   "version": "3.6.6"
  }
 },
 "nbformat": 4,
 "nbformat_minor": 1
}
