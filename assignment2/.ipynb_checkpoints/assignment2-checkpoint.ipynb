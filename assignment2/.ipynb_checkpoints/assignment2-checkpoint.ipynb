{
 "cells": [
  {
   "cell_type": "markdown",
   "metadata": {
    "colab_type": "text",
    "id": "i2J3CjuhP4FD"
   },
   "source": [
    "# Assignment: Explore a dataset\n",
    "For this assignment, we will explore another dataset, with the goal of understand the features within that dataset.   I have download a few datsets, which you can find on the course scratch area:\n",
    "      /fs/scratch/PAS1585/\n",
    "      \n",
    "*   Wine quality (for two types of wine).  The datasets will be in the /wine subdirectory on the scratch area (or /fs/scratch/PAS1585/wine).  Do this first!   \n",
    "*   Student performance (for two subjects) /fs/scratch/PAS1585/student.   The files are student-mat.csv (Math course) and student-por.csv (Portuguese language course).   Look at these files if you complete everything else and have extra time.   Warning: I have not looked at these files, so they might have... features.\n",
    "\n",
    "Below is an example of opening this file in pandas:"
   ]
  },
  {
   "cell_type": "code",
   "execution_count": 0,
   "metadata": {
    "colab": {},
    "colab_type": "code",
    "id": "lD-kiu49UX5Q"
   },
   "outputs": [],
   "source": [
    "import pandas as pd\n",
    "fileName = \"/fs/scratch/PAS1585/wine/winequality-white.csv\"\n",
    "data=pd.read_csv(fileName)"
   ]
  },
  {
   "cell_type": "markdown",
   "metadata": {
    "colab_type": "text",
    "id": "x5ARrMCiWGzl"
   },
   "source": [
    "\n",
    "# Tasks\n",
    "\n",
    "Do the following for the white wine sample:\n",
    "\n",
    "\n",
    "1.   Get the mean of each column.\n",
    "2.   Noting that the column names in the two files are the same, write a loop and print out: the column name, the mean and std deviation of file one, the mean and std deviation of file two.  (There is an easy way to get the column names of a data frame!) \n",
    "3.   Make a heat map of the correlation matrix.   The variable that we will want to compare everythin to is \"quality\".\n",
    "4.   Make a scatter plot of the variable (or feature) most correlated with quality.   It will look not so good!   Try using box plots (where the x-axis is quality - so there is a box for quality=3, a box for quality=4, etc)\n",
    "5.    Do the same (box plot only) for the **least** correlated feature.\n",
    "6.    Split the sample based on the mean of the quality.   The plot a histogram of the most correlated feature for wines below the mean, and wines above the mean.   Put these on the same plot!\n",
    "7.    Finally, do some of the same things that you just did, but now for the red wine sample.    Is the feature that was most correlated with quality the same?\n",
    "\n",
    "# Formatting your assignment\n",
    "It is **very important** that your assignment is readable... both by you and those who will later look at it (like me!).   You need to use markdown to format your workbook.   I have a simple outline below which you can use for a starting point."
   ]
  },
  {
   "cell_type": "markdown",
   "metadata": {
    "colab_type": "text",
    "id": "qI7jXQGlki-e"
   },
   "source": [
    "# Assignment Header\n",
    "Some description about what we are trying to do"
   ]
  },
  {
   "cell_type": "markdown",
   "metadata": {
    "colab_type": "text",
    "id": "N9uL7-1-kscg"
   },
   "source": [
    "## Getting the data\n",
    "We use the following code to get the data"
   ]
  },
  {
   "cell_type": "code",
   "execution_count": 0,
   "metadata": {
    "colab": {},
    "colab_type": "code",
    "id": "tw7uvFe4kyRT"
   },
   "outputs": [],
   "source": [
    "# Here is some code"
   ]
  },
  {
   "cell_type": "markdown",
   "metadata": {
    "colab_type": "text",
    "id": "TNJQ4Giok676"
   },
   "source": [
    "## Simple column info\n",
    "\n",
    "---\n",
    "\n",
    "Now loop over the column names, and get the mean and std deviation of each column"
   ]
  },
  {
   "cell_type": "code",
   "execution_count": 0,
   "metadata": {
    "colab": {},
    "colab_type": "code",
    "id": "zoLYL-2kkiAv"
   },
   "outputs": [],
   "source": [
    "# some more code"
   ]
  },
  {
   "cell_type": "markdown",
   "metadata": {
    "colab_type": "text",
    "id": "TxPBFubok9xT"
   },
   "source": [
    "## The correlation matrix\n",
    "Pandas has a nice feature for graphically displaying the correlation matrix of a pandas dataframe:"
   ]
  },
  {
   "cell_type": "markdown",
   "metadata": {
    "colab_type": "text",
    "id": "Ecmt2MKKlJ1u"
   },
   "source": [
    "## Plotting\n",
    "Before plotting in plotly, we need to remember to put in the enable plotly method!"
   ]
  },
  {
   "cell_type": "code",
   "execution_count": 0,
   "metadata": {
    "colab": {},
    "colab_type": "code",
    "id": "KqF3WaiflLx1"
   },
   "outputs": [],
   "source": [
    "def enable_plotly_in_cell():\n",
    "  import IPython\n",
    "  from plotly.offline import init_notebook_mode\n",
    "  display(IPython.core.display.HTML('''\n",
    "        <script src=\"/static/components/requirejs/require.js\"></script>\n",
    "  '''))\n",
    "  init_notebook_mode(connected=False)"
   ]
  },
  {
   "cell_type": "markdown",
   "metadata": {
    "colab_type": "text",
    "id": "uhZG08USlOnl"
   },
   "source": [
    "## Simple Scatter plot\n",
    "Before we make **histograms**, lets look see if we can get a feel for the correlation matrix above by making some scatter plots: one of a very correlated variable first:"
   ]
  },
  {
   "cell_type": "code",
   "execution_count": 0,
   "metadata": {
    "colab": {},
    "colab_type": "code",
    "id": "_YxMYjeWlc_Y"
   },
   "outputs": [],
   "source": [
    "# code"
   ]
  },
  {
   "cell_type": "markdown",
   "metadata": {
    "colab_type": "text",
    "id": "bh4PY3yIleKh"
   },
   "source": [
    "## Boxplots\n",
    "Hmm.   Not so useful!    Have you heard of a \"boxplot\"?   This might be a good way to reprensent a scatter plot when one of the variables is categorical."
   ]
  },
  {
   "cell_type": "code",
   "execution_count": 0,
   "metadata": {
    "colab": {},
    "colab_type": "code",
    "id": "K3-X4pqQlfdp"
   },
   "outputs": [],
   "source": [
    "# code"
   ]
  },
  {
   "cell_type": "markdown",
   "metadata": {
    "colab_type": "text",
    "id": "x1KxmPkbln55"
   },
   "source": [
    "## Overlaying histograms\n",
    "\n",
    "\n",
    "---\n",
    "\n",
    "Now lets make a simple overlaid histogram.  We will make two dataframes: one for wines with quality above the mean, and one for wines with quality below the mean.    Then we can easily plot any feature from those two dataframes on the same figure.   Let's do \"xxxxx\" first:"
   ]
  },
  {
   "cell_type": "code",
   "execution_count": 0,
   "metadata": {
    "colab": {},
    "colab_type": "code",
    "id": "lwMs8MWHlvds"
   },
   "outputs": [],
   "source": [
    "# code"
   ]
  },
  {
   "cell_type": "markdown",
   "metadata": {
    "colab_type": "text",
    "id": "WSBsn_vwlwrT"
   },
   "source": [
    "# Red wine\n",
    "If you have time, you can look at some of the same features for read wine.   You might even try to put data from red and white on the same plot (though with different colors or markers)."
   ]
  },
  {
   "cell_type": "code",
   "execution_count": null,
   "metadata": {},
   "outputs": [],
   "source": []
  },
  {
   "cell_type": "code",
   "execution_count": null,
   "metadata": {},
   "outputs": [],
   "source": []
  }
 ],
 "metadata": {
  "colab": {
   "collapsed_sections": [],
   "name": "assignment2.ipynb",
   "provenance": [],
   "toc_visible": true,
   "version": "0.3.2"
  },
  "kernelspec": {
   "display_name": "Python 3",
   "language": "python",
   "name": "python3"
  },
  "language_info": {
   "codemirror_mode": {
    "name": "ipython",
    "version": 3
   },
   "file_extension": ".py",
   "mimetype": "text/x-python",
   "name": "python",
   "nbconvert_exporter": "python",
   "pygments_lexer": "ipython3",
   "version": "3.6.6"
  }
 },
 "nbformat": 4,
 "nbformat_minor": 1
}
