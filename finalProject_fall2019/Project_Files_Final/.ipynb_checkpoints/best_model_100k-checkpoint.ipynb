{
 "cells": [
  {
   "cell_type": "code",
   "execution_count": null,
   "metadata": {},
   "outputs": [],
   "source": [
    "import time\n",
    "import h5py\n",
    "import pandas as pd\n",
    "from keras.utils import to_categorical\n",
    "from sklearn.model_selection import StratifiedKFold\n",
    "from sklearn.model_selection import KFold\n",
    "from keras import models\n",
    "from keras import layers\n",
    "from sklearn.model_selection import StratifiedKFold\n",
    "from sklearn.model_selection import KFold\n",
    "from keras.callbacks import EarlyStopping\n",
    "\n",
    "start = time.time()\n",
    "\n",
    "#load images\n",
    "hf = h5py.File('/fs/scratch/PAS1585/sanchezrosales1/Train_data_100k.h5', 'r')\n",
    "hf.keys()\n",
    "pics = hf.get('data')\n",
    "\n",
    "#load label\n",
    "hf2 = h5py.File('/fs/scratch/PAS1585/sanchezrosales1/Train_labels_100k.h5', 'r')\n",
    "hf2.keys()\n",
    "label = hf2.get('data')\n",
    "\n",
    "#prepare data\n",
    "images = pics[0:]/255\n",
    "labels = to_categorical(label[0:])\n",
    "\n",
    "    \n",
    "cnn_network = models.Sequential()\n",
    "\n",
    "# First convolutional layer\n",
    "cnn_network.add(layers.Conv2D(32,(3,3),activation='relu',input_shape=(96,96,3)))\n",
    "cnn_network.add(layers.MaxPooling2D((2,2)))\n",
    "\n",
    "# Second convolutional layer\n",
    "cnn_network.add(layers.Conv2D(32,(3,3),activation='relu'))\n",
    "cnn_network.add(layers.MaxPooling2D((2,2)))\n",
    "\n",
    "# Connect to a dense output layer - just like an FCN\n",
    "cnn_network.add(layers.Flatten())\n",
    "cnn_network.add(layers.Dense(75,activation='relu'))\n",
    "cnn_network.add(layers.Dense(2,activation='softmax'))\n",
    "\n",
    "# Compile\n",
    "cnn_network.compile(optimizer='adam',loss='categorical_crossentropy',metrics=['accuracy'])\n",
    "\n",
    "   \n",
    "history = cnn_network.fit(images,labels,epochs=4,batch_size=64,verbose = 1)\n",
    "print('Train accuracy:',history.history['acc'])\n",
    "print('Test Loss:' ,  history.history['loss'])\n",
    "        \n",
    "cnn_network.save('/fs/scratch/PAS1585/sanchezrosales1/Trained_Models/best_model_100k.h5')\n",
    "\n",
    "end = time.time()\n",
    "print(end - start)"
   ]
  }
 ],
 "metadata": {
  "kernelspec": {
   "display_name": "Python 3.6 (Conda 5.2) [python/3.6-conda5.2]",
   "language": "python",
   "name": "sys_python36conda"
  },
  "language_info": {
   "codemirror_mode": {
    "name": "ipython",
    "version": 3
   },
   "file_extension": ".py",
   "mimetype": "text/x-python",
   "name": "python",
   "nbconvert_exporter": "python",
   "pygments_lexer": "ipython3",
   "version": "3.6.6"
  }
 },
 "nbformat": 4,
 "nbformat_minor": 2
}
