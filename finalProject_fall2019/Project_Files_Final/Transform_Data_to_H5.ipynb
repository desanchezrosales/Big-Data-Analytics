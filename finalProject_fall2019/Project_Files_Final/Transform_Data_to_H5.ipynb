{
 "cells": [
  {
   "cell_type": "code",
   "execution_count": 7,
   "metadata": {},
   "outputs": [
    {
     "name": "stdout",
     "output_type": "stream",
     "text": [
      "945.0168907642365\n"
     ]
    }
   ],
   "source": [
    "\n",
    "from PIL import Image\n",
    "import glob \n",
    "import numpy as np\n",
    "import matplotlib.pyplot as plt\n",
    "import pandas as pd\n",
    "from sklearn.utils import shuffle\n",
    "import time\n",
    "import h5py\n",
    "\n",
    "start = time.time()\n",
    "\n",
    "fname = '/fs/scratch/PAS1585/sanchezrosales1/train_labels/train_labels.csv'\n",
    "\n",
    "df = pd.read_csv(fname)\n",
    "\n",
    "df = shuffle(df, random_state = 42)\n",
    "\n",
    "\n",
    "pixels_train= []\n",
    "label_train = []\n",
    "\n",
    "#Train_Data\n",
    "for i in np.arange(0,100000,1):\n",
    "    pixels_train.append(np.asarray(Image.open( '/fs/scratch/PAS1585/sanchezrosales1/train/' + df['id'][i] + '.tif' )))\n",
    "    label_train.append(df['label'][i])\n",
    "\n",
    "hf = h5py.File('/fs/scratch/PAS1585/sanchezrosales1/Train_data_100k.h5', 'w')\n",
    "hf.create_dataset('data', data=pixels_train)\n",
    "hf.close()\n",
    "\n",
    "hf1 = h5py.File('/fs/scratch/PAS1585/sanchezrosales1/Train_labels_100k.h5', 'w')\n",
    "hf1.create_dataset('data', data=label_train)\n",
    "hf1.close()\n",
    "\n",
    "pixels_test = []\n",
    "label_test = []\n",
    "\n",
    "for i in np.arange(100000,120000,1):\n",
    "    pixels_test.append(np.asarray(Image.open( '/fs/scratch/PAS1585/sanchezrosales1/train/' + df['id'][i] + '.tif' )))\n",
    "    label_test.append(df['label'][i])\n",
    "\n",
    "hf2 = h5py.File('/fs/scratch/PAS1585/sanchezrosales1/Test_data_20k.h5', 'w')\n",
    "hf2.create_dataset('data', data=pixels_test)\n",
    "hf2.close()\n",
    "\n",
    "hf3 = h5py.File('/fs/scratch/PAS1585/sanchezrosales1/Test_labels_20k.h5', 'w')\n",
    "hf3.create_dataset('data', data=label_test)\n",
    "hf3.close()\n",
    "        \n",
    "end = time.time()\n",
    "\n",
    "print(end - start)"
   ]
  },
  {
   "cell_type": "code",
   "execution_count": null,
   "metadata": {},
   "outputs": [],
   "source": []
  },
  {
   "cell_type": "code",
   "execution_count": null,
   "metadata": {},
   "outputs": [],
   "source": []
  },
  {
   "cell_type": "code",
   "execution_count": null,
   "metadata": {},
   "outputs": [],
   "source": []
  }
 ],
 "metadata": {
  "kernelspec": {
   "display_name": "Python 3.6 (Conda 5.2) [python/3.6-conda5.2]",
   "language": "python",
   "name": "sys_python36conda"
  },
  "language_info": {
   "codemirror_mode": {
    "name": "ipython",
    "version": 3
   },
   "file_extension": ".py",
   "mimetype": "text/x-python",
   "name": "python",
   "nbconvert_exporter": "python",
   "pygments_lexer": "ipython3",
   "version": "3.6.6"
  }
 },
 "nbformat": 4,
 "nbformat_minor": 2
}
