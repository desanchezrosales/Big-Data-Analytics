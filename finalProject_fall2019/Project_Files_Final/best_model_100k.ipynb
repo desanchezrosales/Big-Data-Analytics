{
 "cells": [
  {
   "cell_type": "code",
   "execution_count": 3,
   "metadata": {},
   "outputs": [
    {
     "name": "stdout",
     "output_type": "stream",
     "text": [
      "Epoch 1/10\n",
      "100000/100000 [==============================] - 237s 2ms/step - loss: 0.4744 - acc: 0.7788\n",
      "Epoch 2/10\n",
      "100000/100000 [==============================] - 216s 2ms/step - loss: 0.4061 - acc: 0.8205\n",
      "Epoch 3/10\n",
      "100000/100000 [==============================] - 216s 2ms/step - loss: 0.3663 - acc: 0.8416\n",
      "Epoch 4/10\n",
      "100000/100000 [==============================] - 218s 2ms/step - loss: 0.3241 - acc: 0.8622\n",
      "Epoch 5/10\n",
      "100000/100000 [==============================] - 216s 2ms/step - loss: 0.2757 - acc: 0.8862\n",
      "Epoch 6/10\n",
      "100000/100000 [==============================] - 217s 2ms/step - loss: 0.2223 - acc: 0.9111\n",
      "Epoch 7/10\n",
      "100000/100000 [==============================] - 219s 2ms/step - loss: 0.1670 - acc: 0.9365\n",
      "Epoch 8/10\n",
      "100000/100000 [==============================] - 221s 2ms/step - loss: 0.1249 - acc: 0.9539\n",
      "Epoch 9/10\n",
      "100000/100000 [==============================] - 219s 2ms/step - loss: 0.0930 - acc: 0.9673\n",
      "Epoch 10/10\n",
      "100000/100000 [==============================] - 219s 2ms/step - loss: 0.0745 - acc: 0.9739\n",
      "Train accuracy: [0.77878, 0.82052, 0.84156, 0.86222, 0.88618, 0.91106, 0.93645, 0.95394, 0.96732, 0.9739]\n",
      "Test Loss: [0.47443368960380555, 0.40613464270591737, 0.3663277295589447, 0.3241133271789551, 0.2756805946922302, 0.22227547953128815, 0.16699407853603362, 0.12488574497580528, 0.09297006610751152, 0.07453159326314926]\n",
      "2208.093552350998\n"
     ]
    }
   ],
   "source": [
    "import time\n",
    "import h5py\n",
    "import pandas as pd\n",
    "from keras.utils import to_categorical\n",
    "from sklearn.model_selection import StratifiedKFold\n",
    "from sklearn.model_selection import KFold\n",
    "from keras import models\n",
    "from keras import layers\n",
    "from sklearn.model_selection import StratifiedKFold\n",
    "from sklearn.model_selection import KFold\n",
    "from keras.callbacks import EarlyStopping\n",
    "\n",
    "start = time.time()\n",
    "\n",
    "#load images\n",
    "hf = h5py.File('/fs/scratch/PAS1585/sanchezrosales1/Train_data_100k.h5', 'r')\n",
    "hf.keys()\n",
    "pics = hf.get('data')\n",
    "\n",
    "#load label\n",
    "hf2 = h5py.File('/fs/scratch/PAS1585/sanchezrosales1/Train_labels_100k.h5', 'r')\n",
    "hf2.keys()\n",
    "label = hf2.get('data')\n",
    "\n",
    "#prepare data\n",
    "images = pics[0:]/255\n",
    "labels = to_categorical(label[0:])\n",
    "\n",
    "    \n",
    "cnn_network = models.Sequential()\n",
    "\n",
    "# First convolutional layer\n",
    "cnn_network.add(layers.Conv2D(32,(3,3),activation='relu',input_shape=(96,96,3)))\n",
    "cnn_network.add(layers.MaxPooling2D((2,2)))\n",
    "\n",
    "# Second convolutional layer\n",
    "cnn_network.add(layers.Conv2D(32,(3,3),activation='relu'))\n",
    "cnn_network.add(layers.MaxPooling2D((2,2)))\n",
    "\n",
    "# Connect to a dense output layer - just like an FCN\n",
    "cnn_network.add(layers.Flatten())\n",
    "cnn_network.add(layers.Dense(75,activation='relu'))\n",
    "cnn_network.add(layers.Dense(2,activation='softmax'))\n",
    "\n",
    "# Compile\n",
    "cnn_network.compile(optimizer='adam',loss='categorical_crossentropy',metrics=['accuracy'])\n",
    "\n",
    "   \n",
    "history = cnn_network.fit(images,labels,epochs=10,batch_size=64,verbose = 1)\n",
    "print('Train accuracy:',history.history['acc'])\n",
    "print('Test Loss:' ,  history.history['loss'])\n",
    "        \n",
    "cnn_network.save('/fs/scratch/PAS1585/sanchezrosales1/Trained_Models/best_model_100k.h5')\n",
    "\n",
    "end = time.time()\n",
    "print(end - start)"
   ]
  },
  {
   "cell_type": "code",
   "execution_count": null,
   "metadata": {},
   "outputs": [],
   "source": []
  }
 ],
 "metadata": {
  "kernelspec": {
   "display_name": "Python 3.6 (Conda 5.2) [python/3.6-conda5.2]",
   "language": "python",
   "name": "sys_python36conda"
  },
  "language_info": {
   "codemirror_mode": {
    "name": "ipython",
    "version": 3
   },
   "file_extension": ".py",
   "mimetype": "text/x-python",
   "name": "python",
   "nbconvert_exporter": "python",
   "pygments_lexer": "ipython3",
   "version": "3.6.6"
  }
 },
 "nbformat": 4,
 "nbformat_minor": 2
}
