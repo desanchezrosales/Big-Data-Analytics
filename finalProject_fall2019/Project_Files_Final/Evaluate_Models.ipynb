{
 "cells": [
  {
   "cell_type": "code",
   "execution_count": 9,
   "metadata": {},
   "outputs": [
    {
     "name": "stdout",
     "output_type": "stream",
     "text": [
      "20000/20000 [==============================] - 15s 758us/step\n",
      "Test sample loss:  0.8350766464948655 ; Test sample accuracy:  0.816\n"
     ]
    }
   ],
   "source": [
    "from keras.models import load_model\n",
    "import numpy as np\n",
    "import h5py\n",
    "from keras.utils import to_categorical\n",
    "import pandas as pd\n",
    "\n",
    "hf = h5py.File('/fs/scratch/PAS1585/sanchezrosales1/Test_data_20k.h5', 'r')\n",
    "hf.keys()\n",
    "pics = hf.get('data')\n",
    "\n",
    "#load label\n",
    "hf2 = h5py.File('/fs/scratch/PAS1585/sanchezrosales1/Test_labels_20k.h5', 'r')\n",
    "hf2.keys()\n",
    "label = hf2.get('data')\n",
    "\n",
    "#prepare data\n",
    "images = pics[0:]/255\n",
    "labels = to_categorical(label[0:])\n",
    "\n",
    "\n",
    "trained_network = load_model('/fs/scratch/PAS1585/sanchezrosales1/Trained_Models/best_model_100k.h5')\n",
    "\n",
    "test_loss, test_acc = trained_network.evaluate(images,labels)\n",
    "print(\"Test sample loss: \",test_loss, \"; Test sample accuracy: \",test_acc)"
   ]
  },
  {
   "cell_type": "code",
   "execution_count": 3,
   "metadata": {},
   "outputs": [
    {
     "data": {
      "text/html": [
       "<script type=\"text/javascript\">window.PlotlyConfig = {MathJaxConfig: 'local'};</script><script type=\"text/javascript\">if (window.MathJax) {MathJax.Hub.Config({SVG: {font: \"STIX-Web\"}});}</script><script>requirejs.config({paths: { 'plotly': ['https://cdn.plot.ly/plotly-latest.min']},});if(!window._Plotly) {require(['plotly'],function(plotly) {window._Plotly=plotly;});}</script>"
      ],
      "text/vnd.plotly.v1+html": [
       "<script type=\"text/javascript\">window.PlotlyConfig = {MathJaxConfig: 'local'};</script><script type=\"text/javascript\">if (window.MathJax) {MathJax.Hub.Config({SVG: {font: \"STIX-Web\"}});}</script><script>requirejs.config({paths: { 'plotly': ['https://cdn.plot.ly/plotly-latest.min']},});if(!window._Plotly) {require(['plotly'],function(plotly) {window._Plotly=plotly;});}</script>"
      ]
     },
     "metadata": {},
     "output_type": "display_data"
    },
    {
     "data": {
      "application/vnd.plotly.v1+json": {
       "config": {
        "linkText": "Export to plot.ly",
        "plotlyServerURL": "https://plot.ly",
        "showLink": false
       },
       "data": [
        {
         "mode": "lines",
         "name": "Avg Test Accuracy",
         "type": "scatter",
         "uid": "3c77c827-ce37-4901-ab6f-6cc8598ac7cc",
         "x": [
          25,
          50,
          75,
          125
         ],
         "y": [
          0.90342,
          0.9442599999999999,
          0.9539799999999999,
          0.9539799999999999
         ]
        },
        {
         "mode": "lines",
         "name": "Avg Train Accuracy",
         "type": "scatter",
         "uid": "db72bebe-774b-4b6e-82ae-fa8ee2fe8273",
         "x": [
          25,
          50,
          75,
          125
         ],
         "y": [
          0.9148250000000001,
          0.96282,
          0.9588699999999999,
          0.9663350000000002
         ]
        }
       ],
       "layout": {}
      },
      "text/html": [
       "<div id=\"fd1525ce-d67f-4ca5-b700-aa7a3557a5e8\" style=\"height: 525px; width: 100%;\" class=\"plotly-graph-div\"></div><script type=\"text/javascript\">require([\"plotly\"], function(Plotly) { window.PLOTLYENV=window.PLOTLYENV || {};window.PLOTLYENV.BASE_URL=\"https://plot.ly\";Plotly.newPlot(\"fd1525ce-d67f-4ca5-b700-aa7a3557a5e8\", [{\"mode\": \"lines\", \"name\": \"Avg Test Accuracy\", \"x\": [25, 50, 75, 125], \"y\": [0.90342, 0.9442599999999999, 0.9539799999999999, 0.9539799999999999], \"type\": \"scatter\", \"uid\": \"85336fe1-de25-4c6b-b4cc-8eb462030a71\"}, {\"mode\": \"lines\", \"name\": \"Avg Train Accuracy\", \"x\": [25, 50, 75, 125], \"y\": [0.9148250000000001, 0.96282, 0.9588699999999999, 0.9663350000000002], \"type\": \"scatter\", \"uid\": \"d9ddf40f-5cde-404e-b652-896856f11f69\"}], {}, {\"showLink\": false, \"linkText\": \"Export to plot.ly\", \"plotlyServerURL\": \"https://plot.ly\"})});</script><script type=\"text/javascript\">window.addEventListener(\"resize\", function(){window._Plotly.Plots.resize(document.getElementById(\"fd1525ce-d67f-4ca5-b700-aa7a3557a5e8\"));});</script>"
      ],
      "text/vnd.plotly.v1+html": [
       "<div id=\"fd1525ce-d67f-4ca5-b700-aa7a3557a5e8\" style=\"height: 525px; width: 100%;\" class=\"plotly-graph-div\"></div><script type=\"text/javascript\">require([\"plotly\"], function(Plotly) { window.PLOTLYENV=window.PLOTLYENV || {};window.PLOTLYENV.BASE_URL=\"https://plot.ly\";Plotly.newPlot(\"fd1525ce-d67f-4ca5-b700-aa7a3557a5e8\", [{\"mode\": \"lines\", \"name\": \"Avg Test Accuracy\", \"x\": [25, 50, 75, 125], \"y\": [0.90342, 0.9442599999999999, 0.9539799999999999, 0.9539799999999999], \"type\": \"scatter\", \"uid\": \"85336fe1-de25-4c6b-b4cc-8eb462030a71\"}, {\"mode\": \"lines\", \"name\": \"Avg Train Accuracy\", \"x\": [25, 50, 75, 125], \"y\": [0.9148250000000001, 0.96282, 0.9588699999999999, 0.9663350000000002], \"type\": \"scatter\", \"uid\": \"d9ddf40f-5cde-404e-b652-896856f11f69\"}], {}, {\"showLink\": false, \"linkText\": \"Export to plot.ly\", \"plotlyServerURL\": \"https://plot.ly\"})});</script><script type=\"text/javascript\">window.addEventListener(\"resize\", function(){window._Plotly.Plots.resize(document.getElementById(\"fd1525ce-d67f-4ca5-b700-aa7a3557a5e8\"));});</script>"
      ]
     },
     "metadata": {},
     "output_type": "display_data"
    }
   ],
   "source": [
    "def enable_plotly_in_cell():\n",
    "  import IPython\n",
    "  from plotly.offline import init_notebook_mode\n",
    "#\n",
    "# OLD (google colab)\n",
    "#  display(IPython.core.display.HTML('''\n",
    "#        <script src=\"/static/components/requirejs/require.js\"></script>\n",
    "#  '''))\n",
    "#  init_notebook_mode(connected=False)\n",
    "#\n",
    "# New (OSC) [thanks to Stephen Gant for this!]\n",
    "  init_notebook_mode(connected=True)\n",
    "\n",
    "from plotly.offline import iplot\n",
    "import plotly.graph_objs as go\n",
    "import numpy as np\n",
    "\n",
    "enable_plotly_in_cell()\n",
    "#\n",
    "# Costs\n",
    "data1 = go.Scatter(\n",
    "    x=np.array([25,50,75,125]),\n",
    "    y=np.array([0.90342, 0.9442599999999999, 0.9539799999999999, 0.9539799999999999]),\n",
    "    mode='lines',\n",
    "    name=\"Avg Test Accuracy\"\n",
    ")\n",
    "\n",
    "data1_2 = go.Scatter(\n",
    "    x=np.array([25,50,75,125]),\n",
    "    y=np.array([0.9148250000000001, 0.96282, 0.9588699999999999, 0.9663350000000002]),\n",
    "    mode='lines',\n",
    "    name=\"Avg Train Accuracy\"\n",
    ")\n",
    "iplot(dict(data=[data1,data1_2]))"
   ]
  },
  {
   "cell_type": "code",
   "execution_count": 4,
   "metadata": {
    "scrolled": true
   },
   "outputs": [
    {
     "data": {
      "text/html": [
       "<script type=\"text/javascript\">window.PlotlyConfig = {MathJaxConfig: 'local'};</script><script type=\"text/javascript\">if (window.MathJax) {MathJax.Hub.Config({SVG: {font: \"STIX-Web\"}});}</script><script>requirejs.config({paths: { 'plotly': ['https://cdn.plot.ly/plotly-latest.min']},});if(!window._Plotly) {require(['plotly'],function(plotly) {window._Plotly=plotly;});}</script>"
      ],
      "text/vnd.plotly.v1+html": [
       "<script type=\"text/javascript\">window.PlotlyConfig = {MathJaxConfig: 'local'};</script><script type=\"text/javascript\">if (window.MathJax) {MathJax.Hub.Config({SVG: {font: \"STIX-Web\"}});}</script><script>requirejs.config({paths: { 'plotly': ['https://cdn.plot.ly/plotly-latest.min']},});if(!window._Plotly) {require(['plotly'],function(plotly) {window._Plotly=plotly;});}</script>"
      ]
     },
     "metadata": {},
     "output_type": "display_data"
    },
    {
     "data": {
      "application/vnd.plotly.v1+json": {
       "config": {
        "linkText": "Export to plot.ly",
        "plotlyServerURL": "https://plot.ly",
        "showLink": false
       },
       "data": [
        {
         "mode": "lines",
         "name": "Avg Test Accuracy",
         "type": "scatter",
         "uid": "72f2bc3b-dfa6-456c-bb0c-540a1b02ea9d",
         "x": [
          25,
          50,
          75,
          125
         ],
         "y": [
          0.9393499999999999,
          0.9548,
          0.96181,
          0.9541299999999999
         ]
        },
        {
         "mode": "lines",
         "name": "Avg Train Accuracy",
         "type": "scatter",
         "uid": "04970be3-5ebe-4f24-9fa2-e77a627f7c88",
         "x": [
          25,
          50,
          75,
          125
         ],
         "y": [
          0.9468525,
          0.96484,
          0.9733075,
          0.969895
         ]
        }
       ],
       "layout": {}
      },
      "text/html": [
       "<div id=\"b866f92b-49b3-4f8e-9e2d-fe01a96c2923\" style=\"height: 525px; width: 100%;\" class=\"plotly-graph-div\"></div><script type=\"text/javascript\">require([\"plotly\"], function(Plotly) { window.PLOTLYENV=window.PLOTLYENV || {};window.PLOTLYENV.BASE_URL=\"https://plot.ly\";Plotly.newPlot(\"b866f92b-49b3-4f8e-9e2d-fe01a96c2923\", [{\"mode\": \"lines\", \"name\": \"Avg Test Accuracy\", \"x\": [25, 50, 75, 125], \"y\": [0.9393499999999999, 0.9548, 0.96181, 0.9541299999999999], \"type\": \"scatter\", \"uid\": \"4bec8244-8f26-4e46-a8c8-82f3a222b552\"}, {\"mode\": \"lines\", \"name\": \"Avg Train Accuracy\", \"x\": [25, 50, 75, 125], \"y\": [0.9468525, 0.96484, 0.9733075, 0.969895], \"type\": \"scatter\", \"uid\": \"59e1a728-9ef3-4e80-b9e8-1abd0d8cd41c\"}], {}, {\"showLink\": false, \"linkText\": \"Export to plot.ly\", \"plotlyServerURL\": \"https://plot.ly\"})});</script><script type=\"text/javascript\">window.addEventListener(\"resize\", function(){window._Plotly.Plots.resize(document.getElementById(\"b866f92b-49b3-4f8e-9e2d-fe01a96c2923\"));});</script>"
      ],
      "text/vnd.plotly.v1+html": [
       "<div id=\"b866f92b-49b3-4f8e-9e2d-fe01a96c2923\" style=\"height: 525px; width: 100%;\" class=\"plotly-graph-div\"></div><script type=\"text/javascript\">require([\"plotly\"], function(Plotly) { window.PLOTLYENV=window.PLOTLYENV || {};window.PLOTLYENV.BASE_URL=\"https://plot.ly\";Plotly.newPlot(\"b866f92b-49b3-4f8e-9e2d-fe01a96c2923\", [{\"mode\": \"lines\", \"name\": \"Avg Test Accuracy\", \"x\": [25, 50, 75, 125], \"y\": [0.9393499999999999, 0.9548, 0.96181, 0.9541299999999999], \"type\": \"scatter\", \"uid\": \"4bec8244-8f26-4e46-a8c8-82f3a222b552\"}, {\"mode\": \"lines\", \"name\": \"Avg Train Accuracy\", \"x\": [25, 50, 75, 125], \"y\": [0.9468525, 0.96484, 0.9733075, 0.969895], \"type\": \"scatter\", \"uid\": \"59e1a728-9ef3-4e80-b9e8-1abd0d8cd41c\"}], {}, {\"showLink\": false, \"linkText\": \"Export to plot.ly\", \"plotlyServerURL\": \"https://plot.ly\"})});</script><script type=\"text/javascript\">window.addEventListener(\"resize\", function(){window._Plotly.Plots.resize(document.getElementById(\"b866f92b-49b3-4f8e-9e2d-fe01a96c2923\"));});</script>"
      ]
     },
     "metadata": {},
     "output_type": "display_data"
    }
   ],
   "source": [
    "def enable_plotly_in_cell():\n",
    "  import IPython\n",
    "  from plotly.offline import init_notebook_mode\n",
    "#\n",
    "# OLD (google colab)\n",
    "#  display(IPython.core.display.HTML('''\n",
    "#        <script src=\"/static/components/requirejs/require.js\"></script>\n",
    "#  '''))\n",
    "#  init_notebook_mode(connected=False)\n",
    "#\n",
    "# New (OSC) [thanks to Stephen Gant for this!]\n",
    "  init_notebook_mode(connected=True)\n",
    "\n",
    "from plotly.offline import iplot\n",
    "import plotly.graph_objs as go\n",
    "import numpy as np\n",
    "\n",
    "enable_plotly_in_cell()\n",
    "#\n",
    "# Costs\n",
    "data1 = go.Scatter(\n",
    "    x=np.array([25,50,75,125]),\n",
    "    y=np.array([0.9393499999999999, 0.9548, 0.96181, 0.9541299999999999]),\n",
    "    mode='lines',\n",
    "    name=\"Avg Test Accuracy\"\n",
    ")\n",
    "\n",
    "data1_2 = go.Scatter(\n",
    "    x=np.array([25,50,75,125]),\n",
    "    y=np.array([0.9468525, 0.96484, 0.9733075, 0.969895]),\n",
    "    mode='lines',\n",
    "    name=\"Avg Train Accuracy\"\n",
    ")\n",
    "iplot(dict(data=[data1,data1_2]))"
   ]
  },
  {
   "cell_type": "code",
   "execution_count": null,
   "metadata": {},
   "outputs": [],
   "source": []
  }
 ],
 "metadata": {
  "kernelspec": {
   "display_name": "Python 3.6 (Conda 5.2) [python/3.6-conda5.2]",
   "language": "python",
   "name": "sys_python36conda"
  },
  "language_info": {
   "codemirror_mode": {
    "name": "ipython",
    "version": 3
   },
   "file_extension": ".py",
   "mimetype": "text/x-python",
   "name": "python",
   "nbconvert_exporter": "python",
   "pygments_lexer": "ipython3",
   "version": "3.6.6"
  }
 },
 "nbformat": 4,
 "nbformat_minor": 2
}
