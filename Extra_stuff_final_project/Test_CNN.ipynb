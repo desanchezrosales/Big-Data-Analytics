{
 "cells": [
  {
   "cell_type": "markdown",
   "metadata": {},
   "source": [
    "# Import the data"
   ]
  },
  {
   "cell_type": "code",
   "execution_count": 3,
   "metadata": {},
   "outputs": [
    {
     "name": "stdout",
     "output_type": "stream",
     "text": [
      "0.06025576591491699\n"
     ]
    }
   ],
   "source": [
    "import time\n",
    "start = time.time()\n",
    "\n",
    "import h5py\n",
    "hf = h5py.File('/fs/scratch/PAS1585/sanchezrosales1/data.h5', 'r')\n",
    "hf.keys()\n",
    "pics = hf.get('data')\n",
    "\n",
    "end = time.time()\n",
    "print(end - start)"
   ]
  },
  {
   "cell_type": "code",
   "execution_count": 4,
   "metadata": {},
   "outputs": [],
   "source": [
    "import pandas as pd\n",
    "fname = '/fs/scratch/PAS1585/sanchezrosales1/train_labels/train_labels.csv'\n",
    "labels_df = pd.read_csv(fname)"
   ]
  },
  {
   "cell_type": "code",
   "execution_count": 5,
   "metadata": {},
   "outputs": [
    {
     "data": {
      "text/html": [
       "<div>\n",
       "<style scoped>\n",
       "    .dataframe tbody tr th:only-of-type {\n",
       "        vertical-align: middle;\n",
       "    }\n",
       "\n",
       "    .dataframe tbody tr th {\n",
       "        vertical-align: top;\n",
       "    }\n",
       "\n",
       "    .dataframe thead th {\n",
       "        text-align: right;\n",
       "    }\n",
       "</style>\n",
       "<table border=\"1\" class=\"dataframe\">\n",
       "  <thead>\n",
       "    <tr style=\"text-align: right;\">\n",
       "      <th></th>\n",
       "      <th>id</th>\n",
       "      <th>label</th>\n",
       "    </tr>\n",
       "  </thead>\n",
       "  <tbody>\n",
       "    <tr>\n",
       "      <th>0</th>\n",
       "      <td>f38a6374c348f90b587e046aac6079959adf3835</td>\n",
       "      <td>0</td>\n",
       "    </tr>\n",
       "    <tr>\n",
       "      <th>1</th>\n",
       "      <td>c18f2d887b7ae4f6742ee445113fa1aef383ed77</td>\n",
       "      <td>1</td>\n",
       "    </tr>\n",
       "    <tr>\n",
       "      <th>2</th>\n",
       "      <td>755db6279dae599ebb4d39a9123cce439965282d</td>\n",
       "      <td>0</td>\n",
       "    </tr>\n",
       "    <tr>\n",
       "      <th>3</th>\n",
       "      <td>bc3f0c64fb968ff4a8bd33af6971ecae77c75e08</td>\n",
       "      <td>0</td>\n",
       "    </tr>\n",
       "    <tr>\n",
       "      <th>4</th>\n",
       "      <td>068aba587a4950175d04c680d38943fd488d6a9d</td>\n",
       "      <td>0</td>\n",
       "    </tr>\n",
       "  </tbody>\n",
       "</table>\n",
       "</div>"
      ],
      "text/plain": [
       "                                         id  label\n",
       "0  f38a6374c348f90b587e046aac6079959adf3835      0\n",
       "1  c18f2d887b7ae4f6742ee445113fa1aef383ed77      1\n",
       "2  755db6279dae599ebb4d39a9123cce439965282d      0\n",
       "3  bc3f0c64fb968ff4a8bd33af6971ecae77c75e08      0\n",
       "4  068aba587a4950175d04c680d38943fd488d6a9d      0"
      ]
     },
     "execution_count": 5,
     "metadata": {},
     "output_type": "execute_result"
    }
   ],
   "source": [
    "labels_df.head()"
   ]
  },
  {
   "cell_type": "code",
   "execution_count": 6,
   "metadata": {},
   "outputs": [],
   "source": [
    "images = pics[0:4999]/255\n",
    "\n",
    "from keras.utils import to_categorical\n",
    "\n",
    "labels = to_categorical(labels_df['label'][0:4999])"
   ]
  },
  {
   "cell_type": "code",
   "execution_count": 7,
   "metadata": {},
   "outputs": [],
   "source": [
    "from sklearn.model_selection import StratifiedKFold\n",
    "from sklearn.model_selection import KFold\n",
    "\n",
    "kfolds = 4\n",
    "\n",
    "skf = KFold(n_splits=kfolds, random_state=42, shuffle=True)\n",
    "\n",
    "indexes = range(4999)"
   ]
  },
  {
   "cell_type": "markdown",
   "metadata": {},
   "source": [
    "# Set Up Network"
   ]
  },
  {
   "cell_type": "code",
   "execution_count": 18,
   "metadata": {},
   "outputs": [],
   "source": [
    "from keras import models\n",
    "from keras import layers\n",
    "from sklearn.model_selection import StratifiedKFold\n",
    "from sklearn.model_selection import KFold\n",
    "from keras.callbacks import EarlyStopping\n",
    "\n",
    "# l = layer, k = kernel, hn = hidden nodes for FCN\n",
    "\n",
    "def run_fitter(l1,k1,l2,k2,hn):\n",
    "    \n",
    "    cnn_network = models.Sequential()\n",
    "\n",
    "    # First convolutional layer\n",
    "    cnn_network.add(layers.Conv2D(l1,(k1,k1),activation='relu',input_shape=(96,96,3)))\n",
    "    cnn_network.add(layers.MaxPooling2D((2,2)))\n",
    "    \n",
    "    # Second convolutional layer\n",
    "    cnn_network.add(layers.Conv2D(l2,(k2,k2),activation='relu'))\n",
    "    cnn_network.add(layers.MaxPooling2D((2,2)))\n",
    "\n",
    "    # Connect to a dense output layer - just like an FCN\n",
    "    cnn_network.add(layers.Flatten())\n",
    "    cnn_network.add(layers.Dense(hn,activation='relu'))\n",
    "    cnn_network.add(layers.Dense(2,activation='softmax'))\n",
    "\n",
    "    # Compile\n",
    "    cnn_network.compile(optimizer='adam',loss='categorical_crossentropy',metrics=['accuracy'])\n",
    "\n",
    "    #set up early stopping\n",
    "    patienceCount = 5\n",
    "    callbacks = [EarlyStopping(monitor='val_loss', patience=patienceCount)]\n",
    "    \n",
    "    avg_acc_test = 0.0\n",
    "    avg_acc_train = 0.0\n",
    "    avg_loss_test = 0.0\n",
    "    avg_loss_train = 0.0\n",
    "    avg_epochs = 0.0\n",
    "    numSplits = 0.0\n",
    "    count = 0\n",
    "    \n",
    "    for train_index, test_index in skf.split(indexes):\n",
    "        print('Training')\n",
    "        X_train = images[train_index]\n",
    "        y_train = labels[train_index]\n",
    "        X_test = images[test_index]\n",
    "        y_test = labels[test_index]\n",
    "        \n",
    "        history = cnn_network.fit(X_train,y_train,epochs=50,batch_size=64,verbose = 0, callbacks = callbacks, validation_data=(X_test,y_test))\n",
    "\n",
    "        training_vals_acc = history.history['acc']\n",
    "        training_vals_loss = history.history['loss']\n",
    "        valid_vals_acc = history.history['val_acc']\n",
    "        valid_vals_loss = history.history['val_loss']\n",
    "\n",
    "        avg_epochs += len(training_vals_acc) - patienceCount\n",
    "\n",
    "        avg_acc_train += training_vals_acc[-patienceCount]\n",
    "        avg_loss_train += training_vals_loss[-patienceCount]\n",
    "\n",
    "        avg_acc_test += valid_vals_acc[-patienceCount]\n",
    "        avg_loss_test += valid_vals_loss[-patienceCount]\n",
    "\n",
    "        numSplits += 1.0\n",
    "        count += 1\n",
    "        \n",
    "        cnn_network.save('/fs/scratch/PAS1585/sanchezrosales1/Trained_Models/fully_trained_model_' + str(count) + '.h5')\n",
    "        \n",
    "    avg_acc_test /= (numSplits)\n",
    "    avg_acc_train /= (numSplits)\n",
    "    \n",
    "    avg_loss_test /= (numSplits)\n",
    "    avg_loss_train /= (numSplits)\n",
    "    \n",
    "    avg_epochs /= (numSplits)\n",
    "    \n",
    "    return avg_acc_test,avg_acc_train,avg_loss_test,avg_loss_train,avg_epochs"
   ]
  },
  {
   "cell_type": "code",
   "execution_count": 19,
   "metadata": {},
   "outputs": [
    {
     "name": "stdout",
     "output_type": "stream",
     "text": [
      "Training\n",
      "Training\n"
     ]
    },
    {
     "ename": "KeyboardInterrupt",
     "evalue": "",
     "output_type": "error",
     "traceback": [
      "\u001b[0;31m---------------------------------------------------------------------------\u001b[0m",
      "\u001b[0;31mKeyboardInterrupt\u001b[0m                         Traceback (most recent call last)",
      "\u001b[0;32m<ipython-input-19-cc9b11babde2>\u001b[0m in \u001b[0;36m<module>\u001b[0;34m()\u001b[0m\n\u001b[1;32m     10\u001b[0m \u001b[0;34m\u001b[0m\u001b[0m\n\u001b[1;32m     11\u001b[0m \u001b[0;32mfor\u001b[0m \u001b[0mnodes\u001b[0m \u001b[0;32min\u001b[0m \u001b[0;34m[\u001b[0m\u001b[0;36m5\u001b[0m\u001b[0;34m]\u001b[0m\u001b[0;34m:\u001b[0m\u001b[0;34m\u001b[0m\u001b[0m\n\u001b[0;32m---> 12\u001b[0;31m     \u001b[0mavg_acc_test\u001b[0m\u001b[0;34m,\u001b[0m\u001b[0mavg_acc_train\u001b[0m\u001b[0;34m,\u001b[0m\u001b[0mavg_loss_test\u001b[0m\u001b[0;34m,\u001b[0m\u001b[0mavg_loss_train\u001b[0m\u001b[0;34m,\u001b[0m\u001b[0mavg_epochs\u001b[0m \u001b[0;34m=\u001b[0m \u001b[0mrun_fitter\u001b[0m\u001b[0;34m(\u001b[0m\u001b[0;36m3\u001b[0m\u001b[0;34m,\u001b[0m\u001b[0;36m3\u001b[0m\u001b[0;34m,\u001b[0m\u001b[0;36m3\u001b[0m\u001b[0;34m,\u001b[0m\u001b[0;36m3\u001b[0m\u001b[0;34m,\u001b[0m\u001b[0mnodes\u001b[0m\u001b[0;34m)\u001b[0m\u001b[0;34m\u001b[0m\u001b[0m\n\u001b[0m\u001b[1;32m     13\u001b[0m \u001b[0;34m\u001b[0m\u001b[0m\n\u001b[1;32m     14\u001b[0m     \u001b[0mavg_acc_train_list\u001b[0m\u001b[0;34m.\u001b[0m\u001b[0mappend\u001b[0m\u001b[0;34m(\u001b[0m\u001b[0mavg_acc_train\u001b[0m\u001b[0;34m)\u001b[0m\u001b[0;34m\u001b[0m\u001b[0m\n",
      "\u001b[0;32m<ipython-input-18-b57b5354acd1>\u001b[0m in \u001b[0;36mrun_fitter\u001b[0;34m(l1, k1, l2, k2, hn)\u001b[0m\n\u001b[1;32m     46\u001b[0m         \u001b[0my_test\u001b[0m \u001b[0;34m=\u001b[0m \u001b[0mlabels\u001b[0m\u001b[0;34m[\u001b[0m\u001b[0mtest_index\u001b[0m\u001b[0;34m]\u001b[0m\u001b[0;34m\u001b[0m\u001b[0m\n\u001b[1;32m     47\u001b[0m \u001b[0;34m\u001b[0m\u001b[0m\n\u001b[0;32m---> 48\u001b[0;31m         \u001b[0mhistory\u001b[0m \u001b[0;34m=\u001b[0m \u001b[0mcnn_network\u001b[0m\u001b[0;34m.\u001b[0m\u001b[0mfit\u001b[0m\u001b[0;34m(\u001b[0m\u001b[0mX_train\u001b[0m\u001b[0;34m,\u001b[0m\u001b[0my_train\u001b[0m\u001b[0;34m,\u001b[0m\u001b[0mepochs\u001b[0m\u001b[0;34m=\u001b[0m\u001b[0;36m50\u001b[0m\u001b[0;34m,\u001b[0m\u001b[0mbatch_size\u001b[0m\u001b[0;34m=\u001b[0m\u001b[0;36m64\u001b[0m\u001b[0;34m,\u001b[0m\u001b[0mverbose\u001b[0m \u001b[0;34m=\u001b[0m \u001b[0;36m0\u001b[0m\u001b[0;34m,\u001b[0m \u001b[0mcallbacks\u001b[0m \u001b[0;34m=\u001b[0m \u001b[0mcallbacks\u001b[0m\u001b[0;34m,\u001b[0m \u001b[0mvalidation_data\u001b[0m\u001b[0;34m=\u001b[0m\u001b[0;34m(\u001b[0m\u001b[0mX_test\u001b[0m\u001b[0;34m,\u001b[0m\u001b[0my_test\u001b[0m\u001b[0;34m)\u001b[0m\u001b[0;34m)\u001b[0m\u001b[0;34m\u001b[0m\u001b[0m\n\u001b[0m\u001b[1;32m     49\u001b[0m \u001b[0;34m\u001b[0m\u001b[0m\n\u001b[1;32m     50\u001b[0m         \u001b[0mtraining_vals_acc\u001b[0m \u001b[0;34m=\u001b[0m \u001b[0mhistory\u001b[0m\u001b[0;34m.\u001b[0m\u001b[0mhistory\u001b[0m\u001b[0;34m[\u001b[0m\u001b[0;34m'acc'\u001b[0m\u001b[0;34m]\u001b[0m\u001b[0;34m\u001b[0m\u001b[0m\n",
      "\u001b[0;32m~/.local/lib/python3.6/site-packages/keras/engine/training.py\u001b[0m in \u001b[0;36mfit\u001b[0;34m(self, x, y, batch_size, epochs, verbose, callbacks, validation_split, validation_data, shuffle, class_weight, sample_weight, initial_epoch, steps_per_epoch, validation_steps, **kwargs)\u001b[0m\n\u001b[1;32m   1037\u001b[0m                                         \u001b[0minitial_epoch\u001b[0m\u001b[0;34m=\u001b[0m\u001b[0minitial_epoch\u001b[0m\u001b[0;34m,\u001b[0m\u001b[0;34m\u001b[0m\u001b[0m\n\u001b[1;32m   1038\u001b[0m                                         \u001b[0msteps_per_epoch\u001b[0m\u001b[0;34m=\u001b[0m\u001b[0msteps_per_epoch\u001b[0m\u001b[0;34m,\u001b[0m\u001b[0;34m\u001b[0m\u001b[0m\n\u001b[0;32m-> 1039\u001b[0;31m                                         validation_steps=validation_steps)\n\u001b[0m\u001b[1;32m   1040\u001b[0m \u001b[0;34m\u001b[0m\u001b[0m\n\u001b[1;32m   1041\u001b[0m     def evaluate(self, x=None, y=None,\n",
      "\u001b[0;32m~/.local/lib/python3.6/site-packages/keras/engine/training_arrays.py\u001b[0m in \u001b[0;36mfit_loop\u001b[0;34m(model, f, ins, out_labels, batch_size, epochs, verbose, callbacks, val_f, val_ins, shuffle, callback_metrics, initial_epoch, steps_per_epoch, validation_steps)\u001b[0m\n\u001b[1;32m    197\u001b[0m                     \u001b[0mins_batch\u001b[0m\u001b[0;34m[\u001b[0m\u001b[0mi\u001b[0m\u001b[0;34m]\u001b[0m \u001b[0;34m=\u001b[0m \u001b[0mins_batch\u001b[0m\u001b[0;34m[\u001b[0m\u001b[0mi\u001b[0m\u001b[0;34m]\u001b[0m\u001b[0;34m.\u001b[0m\u001b[0mtoarray\u001b[0m\u001b[0;34m(\u001b[0m\u001b[0;34m)\u001b[0m\u001b[0;34m\u001b[0m\u001b[0m\n\u001b[1;32m    198\u001b[0m \u001b[0;34m\u001b[0m\u001b[0m\n\u001b[0;32m--> 199\u001b[0;31m                 \u001b[0mouts\u001b[0m \u001b[0;34m=\u001b[0m \u001b[0mf\u001b[0m\u001b[0;34m(\u001b[0m\u001b[0mins_batch\u001b[0m\u001b[0;34m)\u001b[0m\u001b[0;34m\u001b[0m\u001b[0m\n\u001b[0m\u001b[1;32m    200\u001b[0m                 \u001b[0mouts\u001b[0m \u001b[0;34m=\u001b[0m \u001b[0mto_list\u001b[0m\u001b[0;34m(\u001b[0m\u001b[0mouts\u001b[0m\u001b[0;34m)\u001b[0m\u001b[0;34m\u001b[0m\u001b[0m\n\u001b[1;32m    201\u001b[0m                 \u001b[0;32mfor\u001b[0m \u001b[0ml\u001b[0m\u001b[0;34m,\u001b[0m \u001b[0mo\u001b[0m \u001b[0;32min\u001b[0m \u001b[0mzip\u001b[0m\u001b[0;34m(\u001b[0m\u001b[0mout_labels\u001b[0m\u001b[0;34m,\u001b[0m \u001b[0mouts\u001b[0m\u001b[0;34m)\u001b[0m\u001b[0;34m:\u001b[0m\u001b[0;34m\u001b[0m\u001b[0m\n",
      "\u001b[0;32m~/.local/lib/python3.6/site-packages/keras/backend/tensorflow_backend.py\u001b[0m in \u001b[0;36m__call__\u001b[0;34m(self, inputs)\u001b[0m\n\u001b[1;32m   2713\u001b[0m                 \u001b[0;32mreturn\u001b[0m \u001b[0mself\u001b[0m\u001b[0;34m.\u001b[0m\u001b[0m_legacy_call\u001b[0m\u001b[0;34m(\u001b[0m\u001b[0minputs\u001b[0m\u001b[0;34m)\u001b[0m\u001b[0;34m\u001b[0m\u001b[0m\n\u001b[1;32m   2714\u001b[0m \u001b[0;34m\u001b[0m\u001b[0m\n\u001b[0;32m-> 2715\u001b[0;31m             \u001b[0;32mreturn\u001b[0m \u001b[0mself\u001b[0m\u001b[0;34m.\u001b[0m\u001b[0m_call\u001b[0m\u001b[0;34m(\u001b[0m\u001b[0minputs\u001b[0m\u001b[0;34m)\u001b[0m\u001b[0;34m\u001b[0m\u001b[0m\n\u001b[0m\u001b[1;32m   2716\u001b[0m         \u001b[0;32melse\u001b[0m\u001b[0;34m:\u001b[0m\u001b[0;34m\u001b[0m\u001b[0m\n\u001b[1;32m   2717\u001b[0m             \u001b[0;32mif\u001b[0m \u001b[0mpy_any\u001b[0m\u001b[0;34m(\u001b[0m\u001b[0mis_tensor\u001b[0m\u001b[0;34m(\u001b[0m\u001b[0mx\u001b[0m\u001b[0;34m)\u001b[0m \u001b[0;32mfor\u001b[0m \u001b[0mx\u001b[0m \u001b[0;32min\u001b[0m \u001b[0minputs\u001b[0m\u001b[0;34m)\u001b[0m\u001b[0;34m:\u001b[0m\u001b[0;34m\u001b[0m\u001b[0m\n",
      "\u001b[0;32m~/.local/lib/python3.6/site-packages/keras/backend/tensorflow_backend.py\u001b[0m in \u001b[0;36m_call\u001b[0;34m(self, inputs)\u001b[0m\n\u001b[1;32m   2673\u001b[0m             \u001b[0mfetched\u001b[0m \u001b[0;34m=\u001b[0m \u001b[0mself\u001b[0m\u001b[0;34m.\u001b[0m\u001b[0m_callable_fn\u001b[0m\u001b[0;34m(\u001b[0m\u001b[0;34m*\u001b[0m\u001b[0marray_vals\u001b[0m\u001b[0;34m,\u001b[0m \u001b[0mrun_metadata\u001b[0m\u001b[0;34m=\u001b[0m\u001b[0mself\u001b[0m\u001b[0;34m.\u001b[0m\u001b[0mrun_metadata\u001b[0m\u001b[0;34m)\u001b[0m\u001b[0;34m\u001b[0m\u001b[0m\n\u001b[1;32m   2674\u001b[0m         \u001b[0;32melse\u001b[0m\u001b[0;34m:\u001b[0m\u001b[0;34m\u001b[0m\u001b[0m\n\u001b[0;32m-> 2675\u001b[0;31m             \u001b[0mfetched\u001b[0m \u001b[0;34m=\u001b[0m \u001b[0mself\u001b[0m\u001b[0;34m.\u001b[0m\u001b[0m_callable_fn\u001b[0m\u001b[0;34m(\u001b[0m\u001b[0;34m*\u001b[0m\u001b[0marray_vals\u001b[0m\u001b[0;34m)\u001b[0m\u001b[0;34m\u001b[0m\u001b[0m\n\u001b[0m\u001b[1;32m   2676\u001b[0m         \u001b[0;32mreturn\u001b[0m \u001b[0mfetched\u001b[0m\u001b[0;34m[\u001b[0m\u001b[0;34m:\u001b[0m\u001b[0mlen\u001b[0m\u001b[0;34m(\u001b[0m\u001b[0mself\u001b[0m\u001b[0;34m.\u001b[0m\u001b[0moutputs\u001b[0m\u001b[0;34m)\u001b[0m\u001b[0;34m]\u001b[0m\u001b[0;34m\u001b[0m\u001b[0m\n\u001b[1;32m   2677\u001b[0m \u001b[0;34m\u001b[0m\u001b[0m\n",
      "\u001b[0;32m/apps/python/3.6-conda5.2/lib/python3.6/site-packages/tensorflow/python/client/session.py\u001b[0m in \u001b[0;36m__call__\u001b[0;34m(self, *args)\u001b[0m\n\u001b[1;32m   1449\u001b[0m         \u001b[0;32mif\u001b[0m \u001b[0mself\u001b[0m\u001b[0;34m.\u001b[0m\u001b[0m_session\u001b[0m\u001b[0;34m.\u001b[0m\u001b[0m_created_with_new_api\u001b[0m\u001b[0;34m:\u001b[0m\u001b[0;34m\u001b[0m\u001b[0m\n\u001b[1;32m   1450\u001b[0m           return tf_session.TF_SessionRunCallable(\n\u001b[0;32m-> 1451\u001b[0;31m               self._session._session, self._handle, args, status, None)\n\u001b[0m\u001b[1;32m   1452\u001b[0m         \u001b[0;32melse\u001b[0m\u001b[0;34m:\u001b[0m\u001b[0;34m\u001b[0m\u001b[0m\n\u001b[1;32m   1453\u001b[0m           return tf_session.TF_DeprecatedSessionRunCallable(\n",
      "\u001b[0;31mKeyboardInterrupt\u001b[0m: "
     ]
    }
   ],
   "source": [
    "start = time.time()\n",
    "\n",
    "avg_acc_train_list = []\n",
    "avg_loss_train_list = []\n",
    "\n",
    "avg_acc_test_list = []\n",
    "avg_loss_test_list = []\n",
    "\n",
    "avg_epochs_list =[]\n",
    "\n",
    "for nodes in [5]:\n",
    "    avg_acc_test,avg_acc_train,avg_loss_test,avg_loss_train,avg_epochs = run_fitter(3,3,3,3,nodes)\n",
    "\n",
    "    avg_acc_train_list.append(avg_acc_train)\n",
    "    avg_loss_train_list.append(avg_loss_train)\n",
    "\n",
    "    avg_acc_test_list.append(avg_acc_test)\n",
    "    avg_loss_test_list.append(avg_loss_test)\n",
    "    \n",
    "    avg_epochs_list.append(avg_epochs)\n",
    "\n",
    "end = time.time()\n",
    "print(end - start)"
   ]
  },
  {
   "cell_type": "code",
   "execution_count": 12,
   "metadata": {},
   "outputs": [
    {
     "data": {
      "text/html": [
       "<script type=\"text/javascript\">window.PlotlyConfig = {MathJaxConfig: 'local'};</script><script type=\"text/javascript\">if (window.MathJax) {MathJax.Hub.Config({SVG: {font: \"STIX-Web\"}});}</script><script>requirejs.config({paths: { 'plotly': ['https://cdn.plot.ly/plotly-latest.min']},});if(!window._Plotly) {require(['plotly'],function(plotly) {window._Plotly=plotly;});}</script>"
      ],
      "text/vnd.plotly.v1+html": [
       "<script type=\"text/javascript\">window.PlotlyConfig = {MathJaxConfig: 'local'};</script><script type=\"text/javascript\">if (window.MathJax) {MathJax.Hub.Config({SVG: {font: \"STIX-Web\"}});}</script><script>requirejs.config({paths: { 'plotly': ['https://cdn.plot.ly/plotly-latest.min']},});if(!window._Plotly) {require(['plotly'],function(plotly) {window._Plotly=plotly;});}</script>"
      ]
     },
     "metadata": {},
     "output_type": "display_data"
    },
    {
     "data": {
      "application/vnd.plotly.v1+json": {
       "config": {
        "linkText": "Export to plot.ly",
        "plotlyServerURL": "https://plot.ly",
        "showLink": false
       },
       "data": [
        {
         "mode": "lines",
         "name": "Avg Test Accuracy",
         "type": "scatter",
         "uid": "22ac7843-e623-41aa-b2c2-361b7ade1210",
         "x": [
          10,
          50,
          100,
          500
         ],
         "y": [
          0.9029993594399064,
          0.9067987189751802,
          0.9011974378788348,
          0.9017983986474497
         ]
        },
        {
         "mode": "lines",
         "name": "Avg Test Accuracy",
         "type": "scatter",
         "uid": "05ec8194-cb61-489a-84c3-ea4099bcab87",
         "x": [
          10,
          50,
          100,
          500
         ],
         "y": [
          0.929181186141766,
          0.947919605251909,
          0.9048414688997293,
          0.9401840846686423
         ]
        }
       ],
       "layout": {}
      },
      "text/html": [
       "<div id=\"3a2129a5-e9ff-428c-a1ba-2ea06a5770f7\" style=\"height: 525px; width: 100%;\" class=\"plotly-graph-div\"></div><script type=\"text/javascript\">require([\"plotly\"], function(Plotly) { window.PLOTLYENV=window.PLOTLYENV || {};window.PLOTLYENV.BASE_URL=\"https://plot.ly\";Plotly.newPlot(\"3a2129a5-e9ff-428c-a1ba-2ea06a5770f7\", [{\"mode\": \"lines\", \"name\": \"Avg Test Accuracy\", \"x\": [10, 50, 100, 500], \"y\": [0.9029993594399064, 0.9067987189751802, 0.9011974378788348, 0.9017983986474497], \"type\": \"scatter\", \"uid\": \"cd6a5324-ad5e-48f7-a016-9ab3d99e1b7a\"}, {\"mode\": \"lines\", \"name\": \"Avg Test Accuracy\", \"x\": [10, 50, 100, 500], \"y\": [0.929181186141766, 0.947919605251909, 0.9048414688997293, 0.9401840846686423], \"type\": \"scatter\", \"uid\": \"138f0d3b-648e-4b11-b22a-9acfb9492311\"}], {}, {\"showLink\": false, \"linkText\": \"Export to plot.ly\", \"plotlyServerURL\": \"https://plot.ly\"})});</script><script type=\"text/javascript\">window.addEventListener(\"resize\", function(){window._Plotly.Plots.resize(document.getElementById(\"3a2129a5-e9ff-428c-a1ba-2ea06a5770f7\"));});</script>"
      ],
      "text/vnd.plotly.v1+html": [
       "<div id=\"3a2129a5-e9ff-428c-a1ba-2ea06a5770f7\" style=\"height: 525px; width: 100%;\" class=\"plotly-graph-div\"></div><script type=\"text/javascript\">require([\"plotly\"], function(Plotly) { window.PLOTLYENV=window.PLOTLYENV || {};window.PLOTLYENV.BASE_URL=\"https://plot.ly\";Plotly.newPlot(\"3a2129a5-e9ff-428c-a1ba-2ea06a5770f7\", [{\"mode\": \"lines\", \"name\": \"Avg Test Accuracy\", \"x\": [10, 50, 100, 500], \"y\": [0.9029993594399064, 0.9067987189751802, 0.9011974378788348, 0.9017983986474497], \"type\": \"scatter\", \"uid\": \"cd6a5324-ad5e-48f7-a016-9ab3d99e1b7a\"}, {\"mode\": \"lines\", \"name\": \"Avg Test Accuracy\", \"x\": [10, 50, 100, 500], \"y\": [0.929181186141766, 0.947919605251909, 0.9048414688997293, 0.9401840846686423], \"type\": \"scatter\", \"uid\": \"138f0d3b-648e-4b11-b22a-9acfb9492311\"}], {}, {\"showLink\": false, \"linkText\": \"Export to plot.ly\", \"plotlyServerURL\": \"https://plot.ly\"})});</script><script type=\"text/javascript\">window.addEventListener(\"resize\", function(){window._Plotly.Plots.resize(document.getElementById(\"3a2129a5-e9ff-428c-a1ba-2ea06a5770f7\"));});</script>"
      ]
     },
     "metadata": {},
     "output_type": "display_data"
    },
    {
     "data": {
      "application/vnd.plotly.v1+json": {
       "config": {
        "linkText": "Export to plot.ly",
        "plotlyServerURL": "https://plot.ly",
        "showLink": false
       },
       "data": [
        {
         "mode": "lines",
         "name": "Avg Test Loss",
         "type": "scatter",
         "uid": "4bba1e3a-f8ff-4414-895a-fae33eeda6ea",
         "x": [
          10,
          50,
          100,
          500
         ],
         "y": [
          0.22734516586739065,
          0.2579009944092599,
          0.2403398822984677,
          0.225866162150341
         ]
        }
       ],
       "layout": {}
      },
      "text/html": [
       "<div id=\"96ce78be-9946-48b4-9251-98e9462f05f6\" style=\"height: 525px; width: 100%;\" class=\"plotly-graph-div\"></div><script type=\"text/javascript\">require([\"plotly\"], function(Plotly) { window.PLOTLYENV=window.PLOTLYENV || {};window.PLOTLYENV.BASE_URL=\"https://plot.ly\";Plotly.newPlot(\"96ce78be-9946-48b4-9251-98e9462f05f6\", [{\"mode\": \"lines\", \"name\": \"Avg Test Loss\", \"x\": [10, 50, 100, 500], \"y\": [0.22734516586739065, 0.2579009944092599, 0.2403398822984677, 0.225866162150341], \"type\": \"scatter\", \"uid\": \"10948708-7d63-4862-8640-d2040f89367e\"}], {}, {\"showLink\": false, \"linkText\": \"Export to plot.ly\", \"plotlyServerURL\": \"https://plot.ly\"})});</script><script type=\"text/javascript\">window.addEventListener(\"resize\", function(){window._Plotly.Plots.resize(document.getElementById(\"96ce78be-9946-48b4-9251-98e9462f05f6\"));});</script>"
      ],
      "text/vnd.plotly.v1+html": [
       "<div id=\"96ce78be-9946-48b4-9251-98e9462f05f6\" style=\"height: 525px; width: 100%;\" class=\"plotly-graph-div\"></div><script type=\"text/javascript\">require([\"plotly\"], function(Plotly) { window.PLOTLYENV=window.PLOTLYENV || {};window.PLOTLYENV.BASE_URL=\"https://plot.ly\";Plotly.newPlot(\"96ce78be-9946-48b4-9251-98e9462f05f6\", [{\"mode\": \"lines\", \"name\": \"Avg Test Loss\", \"x\": [10, 50, 100, 500], \"y\": [0.22734516586739065, 0.2579009944092599, 0.2403398822984677, 0.225866162150341], \"type\": \"scatter\", \"uid\": \"10948708-7d63-4862-8640-d2040f89367e\"}], {}, {\"showLink\": false, \"linkText\": \"Export to plot.ly\", \"plotlyServerURL\": \"https://plot.ly\"})});</script><script type=\"text/javascript\">window.addEventListener(\"resize\", function(){window._Plotly.Plots.resize(document.getElementById(\"96ce78be-9946-48b4-9251-98e9462f05f6\"));});</script>"
      ]
     },
     "metadata": {},
     "output_type": "display_data"
    },
    {
     "data": {
      "application/vnd.plotly.v1+json": {
       "config": {
        "linkText": "Export to plot.ly",
        "plotlyServerURL": "https://plot.ly",
        "showLink": false
       },
       "data": [
        {
         "mode": "lines",
         "name": "Average N Epochs",
         "type": "scatter",
         "uid": "7c91ecfb-ed8f-4d0d-be44-f35dcf9c2b29",
         "x": [
          10,
          50,
          100,
          500
         ],
         "y": [
          4.25,
          9,
          3,
          4.75
         ]
        }
       ],
       "layout": {}
      },
      "text/html": [
       "<div id=\"3253d148-76d5-4e95-90c3-bfb66dac5724\" style=\"height: 525px; width: 100%;\" class=\"plotly-graph-div\"></div><script type=\"text/javascript\">require([\"plotly\"], function(Plotly) { window.PLOTLYENV=window.PLOTLYENV || {};window.PLOTLYENV.BASE_URL=\"https://plot.ly\";Plotly.newPlot(\"3253d148-76d5-4e95-90c3-bfb66dac5724\", [{\"mode\": \"lines\", \"name\": \"Average N Epochs\", \"x\": [10, 50, 100, 500], \"y\": [4.25, 9.0, 3.0, 4.75], \"type\": \"scatter\", \"uid\": \"393e0ef7-2bad-40bc-afe4-44c51c65b4f4\"}], {}, {\"showLink\": false, \"linkText\": \"Export to plot.ly\", \"plotlyServerURL\": \"https://plot.ly\"})});</script><script type=\"text/javascript\">window.addEventListener(\"resize\", function(){window._Plotly.Plots.resize(document.getElementById(\"3253d148-76d5-4e95-90c3-bfb66dac5724\"));});</script>"
      ],
      "text/vnd.plotly.v1+html": [
       "<div id=\"3253d148-76d5-4e95-90c3-bfb66dac5724\" style=\"height: 525px; width: 100%;\" class=\"plotly-graph-div\"></div><script type=\"text/javascript\">require([\"plotly\"], function(Plotly) { window.PLOTLYENV=window.PLOTLYENV || {};window.PLOTLYENV.BASE_URL=\"https://plot.ly\";Plotly.newPlot(\"3253d148-76d5-4e95-90c3-bfb66dac5724\", [{\"mode\": \"lines\", \"name\": \"Average N Epochs\", \"x\": [10, 50, 100, 500], \"y\": [4.25, 9.0, 3.0, 4.75], \"type\": \"scatter\", \"uid\": \"393e0ef7-2bad-40bc-afe4-44c51c65b4f4\"}], {}, {\"showLink\": false, \"linkText\": \"Export to plot.ly\", \"plotlyServerURL\": \"https://plot.ly\"})});</script><script type=\"text/javascript\">window.addEventListener(\"resize\", function(){window._Plotly.Plots.resize(document.getElementById(\"3253d148-76d5-4e95-90c3-bfb66dac5724\"));});</script>"
      ]
     },
     "metadata": {},
     "output_type": "display_data"
    }
   ],
   "source": [
    "def enable_plotly_in_cell():\n",
    "  import IPython\n",
    "  from plotly.offline import init_notebook_mode\n",
    "#\n",
    "# OLD (google colab)\n",
    "#  display(IPython.core.display.HTML('''\n",
    "#        <script src=\"/static/components/requirejs/require.js\"></script>\n",
    "#  '''))\n",
    "#  init_notebook_mode(connected=False)\n",
    "#\n",
    "# New (OSC) [thanks to Stephen Gant for this!]\n",
    "  init_notebook_mode(connected=True)\n",
    "\n",
    "from plotly.offline import iplot\n",
    "import plotly.graph_objs as go\n",
    "import numpy as np\n",
    "\n",
    "enable_plotly_in_cell()\n",
    "#\n",
    "# Costs\n",
    "data1 = go.Scatter(\n",
    "    x=np.array([10,50,100,500]),\n",
    "    y=avg_acc_test_list,\n",
    "    mode='lines',\n",
    "    name=\"Avg Test Accuracy\"\n",
    ")\n",
    "\n",
    "data1_2 = go.Scatter(\n",
    "    x=np.array([10,50,100,500]),\n",
    "    y=avg_acc_train_list,\n",
    "    mode='lines',\n",
    "    name=\"Avg Test Accuracy\"\n",
    ")\n",
    "iplot(dict(data=[data1,data1_2]))\n",
    "\n",
    "data2 = go.Scatter(\n",
    "    x=np.array([10,50,100,500]),\n",
    "    y=avg_loss_test_list,\n",
    "    mode='lines',\n",
    "    name=\"Avg Test Loss\"\n",
    ")\n",
    "\n",
    "iplot(dict(data=[data2]))\n",
    "\n",
    "data3 = go.Scatter(\n",
    "    x=np.array([10,50,100,500]),\n",
    "    y=avg_epochs_list,\n",
    "    mode='lines',\n",
    "    name=\"Average N Epochs\"\n",
    ")\n",
    "iplot(dict(data=[data3]))"
   ]
  },
  {
   "cell_type": "code",
   "execution_count": 16,
   "metadata": {},
   "outputs": [
    {
     "ename": "NameError",
     "evalue": "name 'cnn_network' is not defined",
     "output_type": "error",
     "traceback": [
      "\u001b[0;31m---------------------------------------------------------------------------\u001b[0m",
      "\u001b[0;31mNameError\u001b[0m                                 Traceback (most recent call last)",
      "\u001b[0;32m<ipython-input-16-6547c02766ce>\u001b[0m in \u001b[0;36m<module>\u001b[0;34m()\u001b[0m\n\u001b[0;32m----> 1\u001b[0;31m \u001b[0mcnn_network\u001b[0m\u001b[0;34m.\u001b[0m\u001b[0msave\u001b[0m\u001b[0;34m(\u001b[0m\u001b[0;34m'/fs/scratch/PAS1585/sanchezrosales1/Trained_Models/fully_trained_model_'\u001b[0m \u001b[0;34m+\u001b[0m \u001b[0mstr\u001b[0m\u001b[0;34m(\u001b[0m\u001b[0mcount\u001b[0m\u001b[0;34m)\u001b[0m \u001b[0;34m+\u001b[0m \u001b[0;34m'.h5'\u001b[0m\u001b[0;34m)\u001b[0m\u001b[0;34m\u001b[0m\u001b[0m\n\u001b[0m",
      "\u001b[0;31mNameError\u001b[0m: name 'cnn_network' is not defined"
     ]
    }
   ],
   "source": [
    "cnn_network.save('/fs/scratch/PAS1585/sanchezrosales1/Trained_Models/fully_trained_model_' + str(count) + '.h5')"
   ]
  },
  {
   "cell_type": "code",
   "execution_count": null,
   "metadata": {},
   "outputs": [],
   "source": []
  },
  {
   "cell_type": "code",
   "execution_count": null,
   "metadata": {},
   "outputs": [],
   "source": []
  },
  {
   "cell_type": "code",
   "execution_count": null,
   "metadata": {},
   "outputs": [],
   "source": []
  }
 ],
 "metadata": {
  "kernelspec": {
   "display_name": "Python 3.6 (Conda 5.2) [python/3.6-conda5.2]",
   "language": "python",
   "name": "sys_python36conda"
  },
  "language_info": {
   "codemirror_mode": {
    "name": "ipython",
    "version": 3
   },
   "file_extension": ".py",
   "mimetype": "text/x-python",
   "name": "python",
   "nbconvert_exporter": "python",
   "pygments_lexer": "ipython3",
   "version": "3.6.6"
  }
 },
 "nbformat": 4,
 "nbformat_minor": 2
}
