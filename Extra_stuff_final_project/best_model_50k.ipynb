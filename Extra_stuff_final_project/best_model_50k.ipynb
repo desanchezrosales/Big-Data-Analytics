{
 "cells": [
  {
   "cell_type": "code",
   "execution_count": 2,
   "metadata": {},
   "outputs": [
    {
     "name": "stdout",
     "output_type": "stream",
     "text": [
      "Epoch 1/10\n",
      "50000/50000 [==============================] - 119s 2ms/step - loss: 0.4821 - acc: 0.7759\n",
      "Epoch 2/10\n",
      "50000/50000 [==============================] - 109s 2ms/step - loss: 0.4344 - acc: 0.8036\n",
      "Epoch 3/10\n",
      "50000/50000 [==============================] - 110s 2ms/step - loss: 0.4065 - acc: 0.8202\n",
      "Epoch 4/10\n",
      "50000/50000 [==============================] - 108s 2ms/step - loss: 0.3695 - acc: 0.8415\n",
      "Epoch 5/10\n",
      "50000/50000 [==============================] - 108s 2ms/step - loss: 0.3368 - acc: 0.8568\n",
      "Epoch 6/10\n",
      "50000/50000 [==============================] - 108s 2ms/step - loss: 0.2986 - acc: 0.8731\n",
      "Epoch 7/10\n",
      "50000/50000 [==============================] - 109s 2ms/step - loss: 0.2595 - acc: 0.8920\n",
      "Epoch 8/10\n",
      "50000/50000 [==============================] - 108s 2ms/step - loss: 0.2197 - acc: 0.9101\n",
      "Epoch 9/10\n",
      "50000/50000 [==============================] - 109s 2ms/step - loss: 0.1823 - acc: 0.9285\n",
      "Epoch 10/10\n",
      "50000/50000 [==============================] - 109s 2ms/step - loss: 0.1474 - acc: 0.9436\n",
      "Train accuracy: [0.77592, 0.8036, 0.82022, 0.84152, 0.85678, 0.87314, 0.89204, 0.91008, 0.92848, 0.94364]\n",
      "Test Loss: [0.4821083625793457, 0.43444256729125974, 0.4064636304283142, 0.36950166704177856, 0.33683572090625763, 0.2985794432592392, 0.25954504273414614, 0.21969656339645385, 0.18232244855463506, 0.14738111731529235]\n",
      "1102.4911613464355\n"
     ]
    }
   ],
   "source": [
    "import time\n",
    "import h5py\n",
    "import pandas as pd\n",
    "from keras.utils import to_categorical\n",
    "from sklearn.model_selection import StratifiedKFold\n",
    "from sklearn.model_selection import KFold\n",
    "from keras import models\n",
    "from keras import layers\n",
    "from sklearn.model_selection import StratifiedKFold\n",
    "from sklearn.model_selection import KFold\n",
    "from keras.callbacks import EarlyStopping\n",
    "\n",
    "start = time.time()\n",
    "\n",
    "#load images\n",
    "hf = h5py.File('/fs/scratch/PAS1585/sanchezrosales1/Train_data_50k.h5', 'r')\n",
    "hf.keys()\n",
    "pics = hf.get('data')\n",
    "\n",
    "#load label\n",
    "hf2 = h5py.File('/fs/scratch/PAS1585/sanchezrosales1/Train_labels_50k.h5', 'r')\n",
    "hf2.keys()\n",
    "label = hf2.get('data')\n",
    "\n",
    "#prepare data\n",
    "images = pics[0:]/255\n",
    "labels = to_categorical(label[0:])\n",
    "\n",
    "    \n",
    "cnn_network = models.Sequential()\n",
    "\n",
    "# First convolutional layer\n",
    "cnn_network.add(layers.Conv2D(32,(3,3),activation='relu',input_shape=(96,96,3)))\n",
    "cnn_network.add(layers.MaxPooling2D((2,2)))\n",
    "\n",
    "# Second convolutional layer\n",
    "cnn_network.add(layers.Conv2D(32,(3,3),activation='relu'))\n",
    "cnn_network.add(layers.MaxPooling2D((2,2)))\n",
    "\n",
    "# Connect to a dense output layer - just like an FCN\n",
    "cnn_network.add(layers.Flatten())\n",
    "cnn_network.add(layers.Dense(75,activation='relu'))\n",
    "cnn_network.add(layers.Dense(2,activation='softmax'))\n",
    "\n",
    "# Compile\n",
    "cnn_network.compile(optimizer='adam',loss='categorical_crossentropy',metrics=['accuracy'])\n",
    "\n",
    "   \n",
    "history = cnn_network.fit(images,labels,epochs=10,batch_size=64,verbose = 1)\n",
    "print('Train accuracy:',history.history['acc'])\n",
    "print('Test Loss:' ,  history.history['loss'])\n",
    "        \n",
    "cnn_network.save('/fs/scratch/PAS1585/sanchezrosales1/Trained_Models/best_model_50k.h5')\n",
    "\n",
    "end = time.time()\n",
    "print(end - start)\n"
   ]
  },
  {
   "cell_type": "code",
   "execution_count": null,
   "metadata": {},
   "outputs": [],
   "source": []
  }
 ],
 "metadata": {
  "kernelspec": {
   "display_name": "Python 3.6 (Conda 5.2) [python/3.6-conda5.2]",
   "language": "python",
   "name": "sys_python36conda"
  },
  "language_info": {
   "codemirror_mode": {
    "name": "ipython",
    "version": 3
   },
   "file_extension": ".py",
   "mimetype": "text/x-python",
   "name": "python",
   "nbconvert_exporter": "python",
   "pygments_lexer": "ipython3",
   "version": "3.6.6"
  }
 },
 "nbformat": 4,
 "nbformat_minor": 2
}
