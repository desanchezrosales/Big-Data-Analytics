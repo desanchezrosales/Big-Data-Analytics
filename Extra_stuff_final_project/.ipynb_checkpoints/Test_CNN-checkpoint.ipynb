{
 "cells": [
  {
   "cell_type": "markdown",
   "metadata": {},
   "source": [
    "# Import the data"
   ]
  },
  {
   "cell_type": "code",
   "execution_count": 1,
   "metadata": {},
   "outputs": [
    {
     "name": "stdout",
     "output_type": "stream",
     "text": [
      "0.29502344131469727\n"
     ]
    }
   ],
   "source": [
    "import time\n",
    "start = time.time()\n",
    "\n",
    "import h5py\n",
    "hf = h5py.File('/fs/scratch/PAS1585/sanchezrosales1/data.h5', 'r')\n",
    "hf.keys()\n",
    "pics = hf.get('data')\n",
    "\n",
    "end = time.time()\n",
    "print(end - start)"
   ]
  },
  {
   "cell_type": "code",
   "execution_count": 2,
   "metadata": {},
   "outputs": [],
   "source": [
    "import pandas as pd\n",
    "fname = '/fs/scratch/PAS1585/sanchezrosales1/train_labels/train_labels.csv'\n",
    "labels_df = pd.read_csv(fname)"
   ]
  },
  {
   "cell_type": "code",
   "execution_count": 3,
   "metadata": {},
   "outputs": [
    {
     "data": {
      "text/html": [
       "<div>\n",
       "<style scoped>\n",
       "    .dataframe tbody tr th:only-of-type {\n",
       "        vertical-align: middle;\n",
       "    }\n",
       "\n",
       "    .dataframe tbody tr th {\n",
       "        vertical-align: top;\n",
       "    }\n",
       "\n",
       "    .dataframe thead th {\n",
       "        text-align: right;\n",
       "    }\n",
       "</style>\n",
       "<table border=\"1\" class=\"dataframe\">\n",
       "  <thead>\n",
       "    <tr style=\"text-align: right;\">\n",
       "      <th></th>\n",
       "      <th>id</th>\n",
       "      <th>label</th>\n",
       "    </tr>\n",
       "  </thead>\n",
       "  <tbody>\n",
       "    <tr>\n",
       "      <th>0</th>\n",
       "      <td>f38a6374c348f90b587e046aac6079959adf3835</td>\n",
       "      <td>0</td>\n",
       "    </tr>\n",
       "    <tr>\n",
       "      <th>1</th>\n",
       "      <td>c18f2d887b7ae4f6742ee445113fa1aef383ed77</td>\n",
       "      <td>1</td>\n",
       "    </tr>\n",
       "    <tr>\n",
       "      <th>2</th>\n",
       "      <td>755db6279dae599ebb4d39a9123cce439965282d</td>\n",
       "      <td>0</td>\n",
       "    </tr>\n",
       "    <tr>\n",
       "      <th>3</th>\n",
       "      <td>bc3f0c64fb968ff4a8bd33af6971ecae77c75e08</td>\n",
       "      <td>0</td>\n",
       "    </tr>\n",
       "    <tr>\n",
       "      <th>4</th>\n",
       "      <td>068aba587a4950175d04c680d38943fd488d6a9d</td>\n",
       "      <td>0</td>\n",
       "    </tr>\n",
       "  </tbody>\n",
       "</table>\n",
       "</div>"
      ],
      "text/plain": [
       "                                         id  label\n",
       "0  f38a6374c348f90b587e046aac6079959adf3835      0\n",
       "1  c18f2d887b7ae4f6742ee445113fa1aef383ed77      1\n",
       "2  755db6279dae599ebb4d39a9123cce439965282d      0\n",
       "3  bc3f0c64fb968ff4a8bd33af6971ecae77c75e08      0\n",
       "4  068aba587a4950175d04c680d38943fd488d6a9d      0"
      ]
     },
     "execution_count": 3,
     "metadata": {},
     "output_type": "execute_result"
    }
   ],
   "source": [
    "labels_df.head()"
   ]
  },
  {
   "cell_type": "code",
   "execution_count": 5,
   "metadata": {},
   "outputs": [],
   "source": [
    "images = pics[0:4999]/255\n",
    "\n",
    "from keras.utils import to_categorical\n",
    "\n",
    "labels = to_categorical(labels_df['label'][0:4999])"
   ]
  },
  {
   "cell_type": "code",
   "execution_count": 15,
   "metadata": {},
   "outputs": [],
   "source": [
    "from sklearn.model_selection import StratifiedKFold\n",
    "from sklearn.model_selection import KFold\n",
    "\n",
    "kfolds = 2\n",
    "\n",
    "skf = KFold(n_splits=kfolds, random_state=42, shuffle=True)\n",
    "\n",
    "indexes = range(4999)"
   ]
  },
  {
   "cell_type": "markdown",
   "metadata": {},
   "source": [
    "# Set Up Network"
   ]
  },
  {
   "cell_type": "code",
   "execution_count": 20,
   "metadata": {},
   "outputs": [],
   "source": [
    "from keras import models\n",
    "from keras import layers\n",
    "from sklearn.model_selection import StratifiedKFold\n",
    "from sklearn.model_selection import KFold\n",
    "from keras.callbacks import EarlyStopping\n",
    "\n",
    "# l = layer, k = kernel, hn = hidden nodes for FCN\n",
    "\n",
    "def run_fitter(l1,k1,l2,k2,hn):\n",
    "    \n",
    "    cnn_network = models.Sequential()\n",
    "\n",
    "    # First convolutional layer\n",
    "    cnn_network.add(layers.Conv2D(l1,(k1,k1),activation='relu',input_shape=(96,96,3)))\n",
    "    cnn_network.add(layers.MaxPooling2D((2,2)))\n",
    "    \n",
    "    # Second convolutional layer\n",
    "    cnn_network.add(layers.Conv2D(l2,(k2,k2),activation='relu'))\n",
    "    cnn_network.add(layers.MaxPooling2D((2,2)))\n",
    "\n",
    "    # Connect to a dense output layer - just like an FCN\n",
    "    cnn_network.add(layers.Flatten())\n",
    "    cnn_network.add(layers.Dense(hn,activation='relu'))\n",
    "    cnn_network.add(layers.Dense(2,activation='softmax'))\n",
    "\n",
    "    # Compile\n",
    "    cnn_network.compile(optimizer='adam',loss='categorical_crossentropy',metrics=['accuracy'])\n",
    "\n",
    "    #set up early stopping\n",
    "    patienceCount = 5\n",
    "    callbacks = [EarlyStopping(monitor='val_loss', patience=patienceCount)]\n",
    "    \n",
    "    avg_acc_test = 0.0\n",
    "    avg_acc_train = 0.0\n",
    "    avg_loss_test = 0.0\n",
    "    avg_loss_train = 0.0\n",
    "    avg_epochs = 0.0\n",
    "    numSplits = 0.0\n",
    "    \n",
    "    for train_index, test_index in skf.split(indexes):\n",
    "        print('Training')\n",
    "        X_train = images[train_index]\n",
    "        y_train = labels[train_index]\n",
    "        X_test = images[test_index]\n",
    "        y_test = labels[test_index]\n",
    "        \n",
    "        history = cnn_network.fit(X_train,y_train,epochs=50,batch_size=128,verbose = 0, callbacks = callbacks, validation_data=(X_test,y_test))\n",
    "\n",
    "        training_vals_acc = history.history['acc']\n",
    "        training_vals_loss = history.history['loss']\n",
    "        valid_vals_acc = history.history['val_acc']\n",
    "        valid_vals_loss = history.history['val_loss']\n",
    "\n",
    "        avg_epochs += len(training_vals_acc) - patienceCount\n",
    "\n",
    "        avg_acc_train += training_vals_acc[-patienceCount]\n",
    "        avg_loss_train += training_vals_loss[-patienceCount]\n",
    "\n",
    "        avg_acc_test += valid_vals_acc[-patienceCount]\n",
    "        avg_loss_test += valid_vals_loss[-patienceCount]\n",
    "\n",
    "        numSplits += 1.0\n",
    "        \n",
    "    avg_acc_test /= (numSplits)\n",
    "    avg_acc_train /= (numSplits)\n",
    "    \n",
    "    avg_loss_test /= (numSplits)\n",
    "    avg_loss_train /= (numSplits)\n",
    "    \n",
    "    avg_epochs /= (numSplits)\n",
    "    \n",
    "    return avg_acc_test,avg_acc_train,avg_loss_test,avg_loss_train,avg_epochs"
   ]
  },
  {
   "cell_type": "code",
   "execution_count": 21,
   "metadata": {},
   "outputs": [
    {
     "name": "stdout",
     "output_type": "stream",
     "text": [
      "Training\n",
      "Train on 2499 samples, validate on 2500 samples\n",
      "Epoch 1/50\n",
      "2499/2499 [==============================] - 9s 4ms/step - loss: 0.7022 - acc: 0.5878 - val_loss: 0.6755 - val_acc: 0.6032\n",
      "Epoch 2/50\n",
      "2499/2499 [==============================] - 9s 4ms/step - loss: 0.6711 - acc: 0.6042 - val_loss: 0.6557 - val_acc: 0.6032\n",
      "Epoch 3/50\n",
      "2499/2499 [==============================] - 9s 4ms/step - loss: 0.6345 - acc: 0.6042 - val_loss: 0.6203 - val_acc: 0.6032\n",
      "Epoch 4/50\n",
      "2499/2499 [==============================] - 9s 4ms/step - loss: 0.6049 - acc: 0.6711 - val_loss: 0.5842 - val_acc: 0.6860\n",
      "Epoch 5/50\n",
      "2499/2499 [==============================] - 9s 4ms/step - loss: 0.5834 - acc: 0.7035 - val_loss: 0.5882 - val_acc: 0.7380\n",
      "Epoch 6/50\n",
      "2499/2499 [==============================] - 9s 4ms/step - loss: 0.5720 - acc: 0.7219 - val_loss: 0.5547 - val_acc: 0.7316\n",
      "Epoch 7/50\n",
      "2499/2499 [==============================] - 9s 4ms/step - loss: 0.5520 - acc: 0.7503 - val_loss: 0.5868 - val_acc: 0.7336\n",
      "Epoch 8/50\n",
      "2499/2499 [==============================] - 9s 4ms/step - loss: 0.5425 - acc: 0.7471 - val_loss: 0.5566 - val_acc: 0.7288\n",
      "Epoch 9/50\n",
      "2499/2499 [==============================] - 9s 4ms/step - loss: 0.5379 - acc: 0.7559 - val_loss: 0.5423 - val_acc: 0.7464\n",
      "Epoch 10/50\n",
      "2499/2499 [==============================] - 9s 4ms/step - loss: 0.5319 - acc: 0.7619 - val_loss: 0.5631 - val_acc: 0.7396\n",
      "Epoch 11/50\n",
      "2499/2499 [==============================] - 9s 4ms/step - loss: 0.5232 - acc: 0.7687 - val_loss: 0.5316 - val_acc: 0.7796\n",
      "Epoch 12/50\n",
      "2499/2499 [==============================] - 9s 4ms/step - loss: 0.5070 - acc: 0.7799 - val_loss: 0.5192 - val_acc: 0.7872\n",
      "Epoch 13/50\n",
      "2499/2499 [==============================] - 9s 4ms/step - loss: 0.5059 - acc: 0.7775 - val_loss: 0.5193 - val_acc: 0.7704\n",
      "Epoch 14/50\n",
      "2499/2499 [==============================] - 9s 4ms/step - loss: 0.5010 - acc: 0.7779 - val_loss: 0.5134 - val_acc: 0.7844\n",
      "Epoch 15/50\n",
      "2499/2499 [==============================] - 9s 4ms/step - loss: 0.5033 - acc: 0.7791 - val_loss: 0.5133 - val_acc: 0.7868\n",
      "Epoch 16/50\n",
      "2499/2499 [==============================] - 9s 4ms/step - loss: 0.5088 - acc: 0.7571 - val_loss: 0.5088 - val_acc: 0.7868\n",
      "Epoch 17/50\n",
      "2499/2499 [==============================] - 9s 4ms/step - loss: 0.4904 - acc: 0.7731 - val_loss: 0.4895 - val_acc: 0.7844\n",
      "Epoch 18/50\n",
      "2499/2499 [==============================] - 9s 4ms/step - loss: 0.4744 - acc: 0.7795 - val_loss: 0.4903 - val_acc: 0.7780\n",
      "Epoch 19/50\n",
      "2499/2499 [==============================] - 9s 4ms/step - loss: 0.4641 - acc: 0.7875 - val_loss: 0.4827 - val_acc: 0.7864\n",
      "Epoch 20/50\n",
      "2499/2499 [==============================] - 9s 4ms/step - loss: 0.4659 - acc: 0.7839 - val_loss: 0.5041 - val_acc: 0.7716\n",
      "Epoch 21/50\n",
      "2499/2499 [==============================] - 9s 4ms/step - loss: 0.4564 - acc: 0.7951 - val_loss: 0.4879 - val_acc: 0.7776\n",
      "Epoch 22/50\n",
      "2499/2499 [==============================] - 9s 4ms/step - loss: 0.4457 - acc: 0.7939 - val_loss: 0.4860 - val_acc: 0.7732\n",
      "Epoch 23/50\n",
      "2499/2499 [==============================] - 9s 4ms/step - loss: 0.4449 - acc: 0.7903 - val_loss: 0.5602 - val_acc: 0.7120\n",
      "Epoch 24/50\n",
      "2499/2499 [==============================] - 9s 4ms/step - loss: 0.4501 - acc: 0.7923 - val_loss: 0.4784 - val_acc: 0.7860\n",
      "Epoch 25/50\n",
      "2499/2499 [==============================] - 9s 4ms/step - loss: 0.4277 - acc: 0.8055 - val_loss: 0.4947 - val_acc: 0.7640\n",
      "Epoch 26/50\n",
      "2499/2499 [==============================] - 9s 4ms/step - loss: 0.4254 - acc: 0.8083 - val_loss: 0.4826 - val_acc: 0.7820\n",
      "Epoch 27/50\n",
      "2499/2499 [==============================] - 9s 4ms/step - loss: 0.4191 - acc: 0.8087 - val_loss: 0.4792 - val_acc: 0.7860\n",
      "Epoch 28/50\n",
      "2499/2499 [==============================] - 9s 4ms/step - loss: 0.4183 - acc: 0.8119 - val_loss: 0.5465 - val_acc: 0.7256\n",
      "Epoch 29/50\n",
      "2499/2499 [==============================] - 9s 4ms/step - loss: 0.4160 - acc: 0.8063 - val_loss: 0.5020 - val_acc: 0.7700\n",
      "Training\n",
      "Train on 2500 samples, validate on 2499 samples\n",
      "Epoch 1/50\n",
      "2500/2500 [==============================] - 9s 4ms/step - loss: 0.4968 - acc: 0.7676 - val_loss: 0.4228 - val_acc: 0.8155\n",
      "Epoch 2/50\n",
      "2500/2500 [==============================] - 9s 4ms/step - loss: 0.4858 - acc: 0.7772 - val_loss: 0.4018 - val_acc: 0.8235\n",
      "Epoch 3/50\n",
      "2500/2500 [==============================] - 9s 4ms/step - loss: 0.4795 - acc: 0.7708 - val_loss: 0.4081 - val_acc: 0.8279\n",
      "Epoch 4/50\n",
      "2500/2500 [==============================] - 9s 4ms/step - loss: 0.4714 - acc: 0.7892 - val_loss: 0.4273 - val_acc: 0.8019\n",
      "Epoch 5/50\n",
      "2500/2500 [==============================] - 9s 4ms/step - loss: 0.4677 - acc: 0.7900 - val_loss: 0.4354 - val_acc: 0.8107\n",
      "Epoch 6/50\n",
      "2500/2500 [==============================] - 9s 4ms/step - loss: 0.4551 - acc: 0.7952 - val_loss: 0.4171 - val_acc: 0.8167\n",
      "Epoch 7/50\n",
      "2500/2500 [==============================] - 9s 4ms/step - loss: 0.4474 - acc: 0.8088 - val_loss: 0.4018 - val_acc: 0.8239\n",
      "Epoch 8/50\n",
      "2500/2500 [==============================] - 9s 4ms/step - loss: 0.4357 - acc: 0.8108 - val_loss: 0.4122 - val_acc: 0.8127\n",
      "Epoch 9/50\n",
      "2500/2500 [==============================] - 9s 4ms/step - loss: 0.4373 - acc: 0.8076 - val_loss: 0.4940 - val_acc: 0.7563\n",
      "Epoch 10/50\n",
      "2500/2500 [==============================] - 9s 4ms/step - loss: 0.4284 - acc: 0.8152 - val_loss: 0.4084 - val_acc: 0.8211\n",
      "Epoch 11/50\n",
      "2500/2500 [==============================] - 9s 4ms/step - loss: 0.4272 - acc: 0.8176 - val_loss: 0.4107 - val_acc: 0.8111\n",
      "Epoch 12/50\n",
      "2500/2500 [==============================] - 9s 4ms/step - loss: 0.4133 - acc: 0.8256 - val_loss: 0.4067 - val_acc: 0.8215\n"
     ]
    }
   ],
   "source": [
    "avg_acc_test,avg_acc_train,avg_loss_test,avg_loss_train,avg_epochs = run_fitter(5,5,5,5,10)"
   ]
  },
  {
   "cell_type": "code",
   "execution_count": 22,
   "metadata": {},
   "outputs": [
    {
     "data": {
      "text/plain": [
       "0.7883625452683896"
      ]
     },
     "execution_count": 22,
     "metadata": {},
     "output_type": "execute_result"
    }
   ],
   "source": [
    "avg_acc_test"
   ]
  },
  {
   "cell_type": "code",
   "execution_count": 23,
   "metadata": {},
   "outputs": [
    {
     "data": {
      "text/plain": [
       "0.78835"
      ]
     },
     "execution_count": 23,
     "metadata": {},
     "output_type": "execute_result"
    }
   ],
   "source": []
  },
  {
   "cell_type": "code",
   "execution_count": null,
   "metadata": {},
   "outputs": [],
   "source": []
  }
 ],
 "metadata": {
  "kernelspec": {
   "display_name": "Python 3.6 (Conda 5.2) [python/3.6-conda5.2]",
   "language": "python",
   "name": "sys_python36conda"
  },
  "language_info": {
   "codemirror_mode": {
    "name": "ipython",
    "version": 3
   },
   "file_extension": ".py",
   "mimetype": "text/x-python",
   "name": "python",
   "nbconvert_exporter": "python",
   "pygments_lexer": "ipython3",
   "version": "3.6.6"
  }
 },
 "nbformat": 4,
 "nbformat_minor": 2
}
